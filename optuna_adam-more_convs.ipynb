{
 "cells": [
  {
   "cell_type": "code",
   "execution_count": 1,
   "id": "9ee182e5-0d22-4cd6-bbc6-1964d39f9728",
   "metadata": {},
   "outputs": [],
   "source": [
    "#!pip install neptune\n",
    "#!pip install optuna\n",
    "import torch\n",
    "import torch.nn as nn\n",
    "import numpy as np\n",
    "import torch.optim as optim\n",
    "import matplotlib.pyplot as plt\n",
    "from torch.utils.data import DataLoader\n",
    "from torchvision import datasets, transforms\n",
    "from medmnist import DermaMNIST\n",
    "import random\n",
    "import neptune\n",
    "import itertools\n",
    "import optuna"
   ]
  },
  {
   "cell_type": "code",
   "execution_count": 2,
   "id": "5560781b-2867-43f9-a819-cf17e68fc718",
   "metadata": {},
   "outputs": [
    {
     "name": "stderr",
     "output_type": "stream",
     "text": [
      "[I 2025-01-24 22:16:45,189] A new study created in memory with name: no-name-11e33f17-ce18-4b0a-bb2e-9ef21f320b4d\n",
      "C:\\Users\\Kamil\\AppData\\Local\\Temp\\ipykernel_30436\\1490296377.py:56: FutureWarning: suggest_loguniform has been deprecated in v3.0.0. This feature will be removed in v6.0.0. See https://github.com/optuna/optuna/releases/tag/v3.0.0. Use suggest_float(..., log=True) instead.\n",
      "  learning_rate = trial.suggest_loguniform(\"learning_rate\", 1e-4, 1e-2)\n",
      "C:\\Users\\Kamil\\AppData\\Local\\Temp\\ipykernel_30436\\1490296377.py:57: FutureWarning: suggest_uniform has been deprecated in v3.0.0. This feature will be removed in v6.0.0. See https://github.com/optuna/optuna/releases/tag/v3.0.0. Use suggest_float instead.\n",
      "  dropout_rate = trial.suggest_uniform(\"dropout_rate\", 0.2, 0.5)\n"
     ]
    },
    {
     "name": "stdout",
     "output_type": "stream",
     "text": [
      "Using downloaded and verified file: ./data\\dermamnist_64.npz\n",
      "Using downloaded and verified file: ./data\\dermamnist_64.npz\n"
     ]
    },
    {
     "name": "stderr",
     "output_type": "stream",
     "text": [
      "[I 2025-01-24 22:17:37,895] Trial 0 finished with value: 0.25436408977556113 and parameters: {'batch_size': 128, 'learning_rate': 0.00025591264754393553, 'dropout_rate': 0.4815508835066992}. Best is trial 0 with value: 0.25436408977556113.\n"
     ]
    },
    {
     "name": "stdout",
     "output_type": "stream",
     "text": [
      "Using downloaded and verified file: ./data\\dermamnist_64.npz\n",
      "Using downloaded and verified file: ./data\\dermamnist_64.npz\n"
     ]
    },
    {
     "name": "stderr",
     "output_type": "stream",
     "text": [
      "[I 2025-01-24 22:18:38,189] Trial 1 finished with value: 0.24289276807980054 and parameters: {'batch_size': 32, 'learning_rate': 0.0005694939249135093, 'dropout_rate': 0.32841735652089793}. Best is trial 1 with value: 0.24289276807980054.\n"
     ]
    },
    {
     "name": "stdout",
     "output_type": "stream",
     "text": [
      "Using downloaded and verified file: ./data\\dermamnist_64.npz\n",
      "Using downloaded and verified file: ./data\\dermamnist_64.npz\n"
     ]
    },
    {
     "name": "stderr",
     "output_type": "stream",
     "text": [
      "[I 2025-01-24 22:19:34,630] Trial 2 finished with value: 0.2508728179551122 and parameters: {'batch_size': 128, 'learning_rate': 0.00012153118280210387, 'dropout_rate': 0.43844486321687215}. Best is trial 1 with value: 0.24289276807980054.\n"
     ]
    },
    {
     "name": "stdout",
     "output_type": "stream",
     "text": [
      "Using downloaded and verified file: ./data\\dermamnist_64.npz\n",
      "Using downloaded and verified file: ./data\\dermamnist_64.npz\n"
     ]
    },
    {
     "name": "stderr",
     "output_type": "stream",
     "text": [
      "[I 2025-01-24 22:20:40,611] Trial 3 finished with value: 0.25735660847880304 and parameters: {'batch_size': 64, 'learning_rate': 0.0031768818110172073, 'dropout_rate': 0.47512288474287984}. Best is trial 1 with value: 0.24289276807980054.\n"
     ]
    },
    {
     "name": "stdout",
     "output_type": "stream",
     "text": [
      "Using downloaded and verified file: ./data\\dermamnist_64.npz\n",
      "Using downloaded and verified file: ./data\\dermamnist_64.npz\n"
     ]
    },
    {
     "name": "stderr",
     "output_type": "stream",
     "text": [
      "[I 2025-01-24 22:21:40,399] Trial 4 finished with value: 0.25735660847880304 and parameters: {'batch_size': 32, 'learning_rate': 0.002654723468307225, 'dropout_rate': 0.3018262046634979}. Best is trial 1 with value: 0.24289276807980054.\n"
     ]
    },
    {
     "name": "stdout",
     "output_type": "stream",
     "text": [
      "Using downloaded and verified file: ./data\\dermamnist_64.npz\n",
      "Using downloaded and verified file: ./data\\dermamnist_64.npz\n"
     ]
    },
    {
     "name": "stderr",
     "output_type": "stream",
     "text": [
      "[I 2025-01-24 22:22:34,506] Trial 5 finished with value: 0.27231920199501247 and parameters: {'batch_size': 128, 'learning_rate': 0.005175141769572648, 'dropout_rate': 0.4101181867612277}. Best is trial 1 with value: 0.24289276807980054.\n"
     ]
    },
    {
     "name": "stdout",
     "output_type": "stream",
     "text": [
      "Using downloaded and verified file: ./data\\dermamnist_64.npz\n",
      "Using downloaded and verified file: ./data\\dermamnist_64.npz\n"
     ]
    },
    {
     "name": "stderr",
     "output_type": "stream",
     "text": [
      "[I 2025-01-24 22:23:30,263] Trial 6 finished with value: 0.2708229426433916 and parameters: {'batch_size': 64, 'learning_rate': 0.0016527517315426652, 'dropout_rate': 0.30683949784046244}. Best is trial 1 with value: 0.24289276807980054.\n"
     ]
    },
    {
     "name": "stdout",
     "output_type": "stream",
     "text": [
      "Using downloaded and verified file: ./data\\dermamnist_64.npz\n",
      "Using downloaded and verified file: ./data\\dermamnist_64.npz\n"
     ]
    },
    {
     "name": "stderr",
     "output_type": "stream",
     "text": [
      "[I 2025-01-24 22:24:27,194] Trial 7 finished with value: 0.26034912718204484 and parameters: {'batch_size': 64, 'learning_rate': 0.0020224748542206398, 'dropout_rate': 0.27295468547425666}. Best is trial 1 with value: 0.24289276807980054.\n"
     ]
    },
    {
     "name": "stdout",
     "output_type": "stream",
     "text": [
      "Using downloaded and verified file: ./data\\dermamnist_64.npz\n",
      "Using downloaded and verified file: ./data\\dermamnist_64.npz\n"
     ]
    },
    {
     "name": "stderr",
     "output_type": "stream",
     "text": [
      "[I 2025-01-24 22:25:32,663] Trial 8 finished with value: 0.2673316708229426 and parameters: {'batch_size': 32, 'learning_rate': 0.0035649865546824814, 'dropout_rate': 0.4823804542926965}. Best is trial 1 with value: 0.24289276807980054.\n"
     ]
    },
    {
     "name": "stdout",
     "output_type": "stream",
     "text": [
      "Using downloaded and verified file: ./data\\dermamnist_64.npz\n",
      "Using downloaded and verified file: ./data\\dermamnist_64.npz\n"
     ]
    },
    {
     "name": "stderr",
     "output_type": "stream",
     "text": [
      "[I 2025-01-24 22:26:34,086] Trial 9 finished with value: 0.25486284289276806 and parameters: {'batch_size': 128, 'learning_rate': 0.000209617469886335, 'dropout_rate': 0.2582186840860439}. Best is trial 1 with value: 0.24289276807980054.\n"
     ]
    },
    {
     "name": "stdout",
     "output_type": "stream",
     "text": [
      "Using downloaded and verified file: ./data\\dermamnist_64.npz\n",
      "Using downloaded and verified file: ./data\\dermamnist_64.npz\n"
     ]
    },
    {
     "name": "stderr",
     "output_type": "stream",
     "text": [
      "[I 2025-01-24 22:27:28,350] Trial 10 finished with value: 0.2623441396508728 and parameters: {'batch_size': 256, 'learning_rate': 0.000602660833279293, 'dropout_rate': 0.20354798854149223}. Best is trial 1 with value: 0.24289276807980054.\n"
     ]
    },
    {
     "name": "stdout",
     "output_type": "stream",
     "text": [
      "Using downloaded and verified file: ./data\\dermamnist_64.npz\n",
      "Using downloaded and verified file: ./data\\dermamnist_64.npz\n"
     ]
    },
    {
     "name": "stderr",
     "output_type": "stream",
     "text": [
      "[I 2025-01-24 22:28:31,280] Trial 11 finished with value: 0.23042394014962597 and parameters: {'batch_size': 32, 'learning_rate': 0.00010207161446286485, 'dropout_rate': 0.38564122800858025}. Best is trial 11 with value: 0.23042394014962597.\n"
     ]
    },
    {
     "name": "stdout",
     "output_type": "stream",
     "text": [
      "Using downloaded and verified file: ./data\\dermamnist_64.npz\n",
      "Using downloaded and verified file: ./data\\dermamnist_64.npz\n"
     ]
    },
    {
     "name": "stderr",
     "output_type": "stream",
     "text": [
      "[I 2025-01-24 22:29:33,983] Trial 12 finished with value: 0.2608478802992519 and parameters: {'batch_size': 32, 'learning_rate': 0.0006096553903328427, 'dropout_rate': 0.36863375156099165}. Best is trial 11 with value: 0.23042394014962597.\n"
     ]
    },
    {
     "name": "stdout",
     "output_type": "stream",
     "text": [
      "Using downloaded and verified file: ./data\\dermamnist_64.npz\n",
      "Using downloaded and verified file: ./data\\dermamnist_64.npz\n"
     ]
    },
    {
     "name": "stderr",
     "output_type": "stream",
     "text": [
      "[I 2025-01-24 22:30:40,031] Trial 13 finished with value: 0.3017456359102244 and parameters: {'batch_size': 32, 'learning_rate': 0.008923079057939102, 'dropout_rate': 0.3777221907095476}. Best is trial 11 with value: 0.23042394014962597.\n"
     ]
    },
    {
     "name": "stdout",
     "output_type": "stream",
     "text": [
      "Using downloaded and verified file: ./data\\dermamnist_64.npz\n",
      "Using downloaded and verified file: ./data\\dermamnist_64.npz\n"
     ]
    },
    {
     "name": "stderr",
     "output_type": "stream",
     "text": [
      "[I 2025-01-24 22:31:43,993] Trial 14 finished with value: 0.2379052369077307 and parameters: {'batch_size': 32, 'learning_rate': 0.00011616094470606683, 'dropout_rate': 0.3333669942652015}. Best is trial 11 with value: 0.23042394014962597.\n"
     ]
    },
    {
     "name": "stdout",
     "output_type": "stream",
     "text": [
      "Using downloaded and verified file: ./data\\dermamnist_64.npz\n",
      "Using downloaded and verified file: ./data\\dermamnist_64.npz\n"
     ]
    },
    {
     "name": "stderr",
     "output_type": "stream",
     "text": [
      "[I 2025-01-24 22:32:48,912] Trial 15 finished with value: 0.25635910224438907 and parameters: {'batch_size': 256, 'learning_rate': 0.00010645840209509563, 'dropout_rate': 0.4130710536950336}. Best is trial 11 with value: 0.23042394014962597.\n"
     ]
    },
    {
     "name": "stdout",
     "output_type": "stream",
     "text": [
      "Using downloaded and verified file: ./data\\dermamnist_64.npz\n",
      "Using downloaded and verified file: ./data\\dermamnist_64.npz\n"
     ]
    },
    {
     "name": "stderr",
     "output_type": "stream",
     "text": [
      "[I 2025-01-24 22:34:17,470] Trial 16 finished with value: 0.23341645885286788 and parameters: {'batch_size': 32, 'learning_rate': 0.00026193019570902706, 'dropout_rate': 0.34823617101805426}. Best is trial 11 with value: 0.23042394014962597.\n"
     ]
    },
    {
     "name": "stdout",
     "output_type": "stream",
     "text": [
      "Using downloaded and verified file: ./data\\dermamnist_64.npz\n",
      "Using downloaded and verified file: ./data\\dermamnist_64.npz\n"
     ]
    },
    {
     "name": "stderr",
     "output_type": "stream",
     "text": [
      "[I 2025-01-24 22:35:54,130] Trial 17 finished with value: 0.24588528678304244 and parameters: {'batch_size': 32, 'learning_rate': 0.00019601786205313476, 'dropout_rate': 0.3788517467460499}. Best is trial 11 with value: 0.23042394014962597.\n"
     ]
    },
    {
     "name": "stdout",
     "output_type": "stream",
     "text": [
      "Using downloaded and verified file: ./data\\dermamnist_64.npz\n",
      "Using downloaded and verified file: ./data\\dermamnist_64.npz\n"
     ]
    },
    {
     "name": "stderr",
     "output_type": "stream",
     "text": [
      "[I 2025-01-24 22:37:16,784] Trial 18 finished with value: 0.2379052369077307 and parameters: {'batch_size': 32, 'learning_rate': 0.0003616278451131217, 'dropout_rate': 0.4347435627386129}. Best is trial 11 with value: 0.23042394014962597.\n"
     ]
    },
    {
     "name": "stdout",
     "output_type": "stream",
     "text": [
      "Using downloaded and verified file: ./data\\dermamnist_64.npz\n",
      "Using downloaded and verified file: ./data\\dermamnist_64.npz\n"
     ]
    },
    {
     "name": "stderr",
     "output_type": "stream",
     "text": [
      "[I 2025-01-24 22:38:13,376] Trial 19 finished with value: 0.25436408977556113 and parameters: {'batch_size': 256, 'learning_rate': 0.0003630600382118994, 'dropout_rate': 0.3501044001830776}. Best is trial 11 with value: 0.23042394014962597.\n"
     ]
    },
    {
     "name": "stdout",
     "output_type": "stream",
     "text": [
      "Using downloaded and verified file: ./data\\dermamnist_64.npz\n",
      "Using downloaded and verified file: ./data\\dermamnist_64.npz\n"
     ]
    },
    {
     "name": "stderr",
     "output_type": "stream",
     "text": [
      "[I 2025-01-24 22:39:20,634] Trial 20 finished with value: 0.25336658354114716 and parameters: {'batch_size': 32, 'learning_rate': 0.0011145035454362868, 'dropout_rate': 0.22673013757690552}. Best is trial 11 with value: 0.23042394014962597.\n"
     ]
    },
    {
     "name": "stdout",
     "output_type": "stream",
     "text": [
      "Using downloaded and verified file: ./data\\dermamnist_64.npz\n",
      "Using downloaded and verified file: ./data\\dermamnist_64.npz\n"
     ]
    },
    {
     "name": "stderr",
     "output_type": "stream",
     "text": [
      "[I 2025-01-24 22:40:29,929] Trial 21 finished with value: 0.2453865336658354 and parameters: {'batch_size': 32, 'learning_rate': 0.000139354960492706, 'dropout_rate': 0.3244340475813393}. Best is trial 11 with value: 0.23042394014962597.\n"
     ]
    },
    {
     "name": "stdout",
     "output_type": "stream",
     "text": [
      "Using downloaded and verified file: ./data\\dermamnist_64.npz\n",
      "Using downloaded and verified file: ./data\\dermamnist_64.npz\n"
     ]
    },
    {
     "name": "stderr",
     "output_type": "stream",
     "text": [
      "[I 2025-01-24 22:41:41,240] Trial 22 finished with value: 0.23690773067331672 and parameters: {'batch_size': 32, 'learning_rate': 0.00016175791051346243, 'dropout_rate': 0.3485274041364036}. Best is trial 11 with value: 0.23042394014962597.\n"
     ]
    },
    {
     "name": "stdout",
     "output_type": "stream",
     "text": [
      "Using downloaded and verified file: ./data\\dermamnist_64.npz\n",
      "Using downloaded and verified file: ./data\\dermamnist_64.npz\n"
     ]
    },
    {
     "name": "stderr",
     "output_type": "stream",
     "text": [
      "[I 2025-01-24 22:42:51,338] Trial 23 finished with value: 0.24339152119700747 and parameters: {'batch_size': 32, 'learning_rate': 0.0003167754357511521, 'dropout_rate': 0.40000812652058476}. Best is trial 11 with value: 0.23042394014962597.\n"
     ]
    },
    {
     "name": "stdout",
     "output_type": "stream",
     "text": [
      "Using downloaded and verified file: ./data\\dermamnist_64.npz\n",
      "Using downloaded and verified file: ./data\\dermamnist_64.npz\n"
     ]
    },
    {
     "name": "stderr",
     "output_type": "stream",
     "text": [
      "[I 2025-01-24 22:43:59,360] Trial 24 finished with value: 0.2673316708229426 and parameters: {'batch_size': 32, 'learning_rate': 0.00017774619332441288, 'dropout_rate': 0.3536558934857104}. Best is trial 11 with value: 0.23042394014962597.\n"
     ]
    },
    {
     "name": "stdout",
     "output_type": "stream",
     "text": [
      "Using downloaded and verified file: ./data\\dermamnist_64.npz\n",
      "Using downloaded and verified file: ./data\\dermamnist_64.npz\n"
     ]
    },
    {
     "name": "stderr",
     "output_type": "stream",
     "text": [
      "[I 2025-01-24 22:45:05,009] Trial 25 finished with value: 0.24289276807980054 and parameters: {'batch_size': 32, 'learning_rate': 0.00015784660447719492, 'dropout_rate': 0.2908926721565337}. Best is trial 11 with value: 0.23042394014962597.\n"
     ]
    },
    {
     "name": "stdout",
     "output_type": "stream",
     "text": [
      "Using downloaded and verified file: ./data\\dermamnist_64.npz\n",
      "Using downloaded and verified file: ./data\\dermamnist_64.npz\n"
     ]
    },
    {
     "name": "stderr",
     "output_type": "stream",
     "text": [
      "[I 2025-01-24 22:46:14,736] Trial 26 finished with value: 0.24438902743142144 and parameters: {'batch_size': 32, 'learning_rate': 0.00045561153275966177, 'dropout_rate': 0.3927698242289879}. Best is trial 11 with value: 0.23042394014962597.\n"
     ]
    },
    {
     "name": "stdout",
     "output_type": "stream",
     "text": [
      "Using downloaded and verified file: ./data\\dermamnist_64.npz\n",
      "Using downloaded and verified file: ./data\\dermamnist_64.npz\n"
     ]
    },
    {
     "name": "stderr",
     "output_type": "stream",
     "text": [
      "[I 2025-01-24 22:47:15,987] Trial 27 finished with value: 0.2653366583541147 and parameters: {'batch_size': 256, 'learning_rate': 0.0008656724917030067, 'dropout_rate': 0.4392126607054236}. Best is trial 11 with value: 0.23042394014962597.\n"
     ]
    },
    {
     "name": "stdout",
     "output_type": "stream",
     "text": [
      "Using downloaded and verified file: ./data\\dermamnist_64.npz\n",
      "Using downloaded and verified file: ./data\\dermamnist_64.npz\n"
     ]
    },
    {
     "name": "stderr",
     "output_type": "stream",
     "text": [
      "[I 2025-01-24 22:48:19,956] Trial 28 finished with value: 0.2379052369077307 and parameters: {'batch_size': 64, 'learning_rate': 0.00028458218344400626, 'dropout_rate': 0.3483261855614728}. Best is trial 11 with value: 0.23042394014962597.\n"
     ]
    },
    {
     "name": "stdout",
     "output_type": "stream",
     "text": [
      "Using downloaded and verified file: ./data\\dermamnist_64.npz\n",
      "Using downloaded and verified file: ./data\\dermamnist_64.npz\n"
     ]
    },
    {
     "name": "stderr",
     "output_type": "stream",
     "text": [
      "[I 2025-01-24 22:49:23,513] Trial 29 finished with value: 0.23990024937655863 and parameters: {'batch_size': 128, 'learning_rate': 0.0002603901563726238, 'dropout_rate': 0.45886294914452447}. Best is trial 11 with value: 0.23042394014962597.\n"
     ]
    },
    {
     "name": "stdout",
     "output_type": "stream",
     "text": [
      "Using downloaded and verified file: ./data\\dermamnist_64.npz\n",
      "Using downloaded and verified file: ./data\\dermamnist_64.npz\n"
     ]
    },
    {
     "name": "stderr",
     "output_type": "stream",
     "text": [
      "[I 2025-01-24 22:50:33,211] Trial 30 finished with value: 0.24189526184538657 and parameters: {'batch_size': 32, 'learning_rate': 0.00022005781270575457, 'dropout_rate': 0.37492631960047107}. Best is trial 11 with value: 0.23042394014962597.\n"
     ]
    },
    {
     "name": "stdout",
     "output_type": "stream",
     "text": [
      "Using downloaded and verified file: ./data\\dermamnist_64.npz\n",
      "Using downloaded and verified file: ./data\\dermamnist_64.npz\n"
     ]
    },
    {
     "name": "stderr",
     "output_type": "stream",
     "text": [
      "[I 2025-01-24 22:51:42,863] Trial 31 finished with value: 0.24289276807980054 and parameters: {'batch_size': 32, 'learning_rate': 0.0001018446324283186, 'dropout_rate': 0.3259673593696961}. Best is trial 11 with value: 0.23042394014962597.\n"
     ]
    },
    {
     "name": "stdout",
     "output_type": "stream",
     "text": [
      "Using downloaded and verified file: ./data\\dermamnist_64.npz\n",
      "Using downloaded and verified file: ./data\\dermamnist_64.npz\n"
     ]
    },
    {
     "name": "stderr",
     "output_type": "stream",
     "text": [
      "[I 2025-01-24 22:52:50,739] Trial 32 finished with value: 0.23640897755610968 and parameters: {'batch_size': 32, 'learning_rate': 0.00015514972191135281, 'dropout_rate': 0.3371199324849882}. Best is trial 11 with value: 0.23042394014962597.\n"
     ]
    },
    {
     "name": "stdout",
     "output_type": "stream",
     "text": [
      "Using downloaded and verified file: ./data\\dermamnist_64.npz\n",
      "Using downloaded and verified file: ./data\\dermamnist_64.npz\n"
     ]
    },
    {
     "name": "stderr",
     "output_type": "stream",
     "text": [
      "[I 2025-01-24 22:54:11,093] Trial 33 finished with value: 0.2394014962593516 and parameters: {'batch_size': 32, 'learning_rate': 0.00015820215126937975, 'dropout_rate': 0.34803223491009166}. Best is trial 11 with value: 0.23042394014962597.\n"
     ]
    },
    {
     "name": "stdout",
     "output_type": "stream",
     "text": [
      "Using downloaded and verified file: ./data\\dermamnist_64.npz\n",
      "Using downloaded and verified file: ./data\\dermamnist_64.npz\n"
     ]
    },
    {
     "name": "stderr",
     "output_type": "stream",
     "text": [
      "[I 2025-01-24 22:55:56,203] Trial 34 finished with value: 0.23890274314214466 and parameters: {'batch_size': 32, 'learning_rate': 0.00015699806313393058, 'dropout_rate': 0.3152060126115846}. Best is trial 11 with value: 0.23042394014962597.\n"
     ]
    },
    {
     "name": "stdout",
     "output_type": "stream",
     "text": [
      "Using downloaded and verified file: ./data\\dermamnist_64.npz\n",
      "Using downloaded and verified file: ./data\\dermamnist_64.npz\n"
     ]
    },
    {
     "name": "stderr",
     "output_type": "stream",
     "text": [
      "[I 2025-01-24 22:57:38,081] Trial 35 finished with value: 0.24588528678304244 and parameters: {'batch_size': 32, 'learning_rate': 0.00023279033883443542, 'dropout_rate': 0.36160360678013914}. Best is trial 11 with value: 0.23042394014962597.\n"
     ]
    },
    {
     "name": "stdout",
     "output_type": "stream",
     "text": [
      "Using downloaded and verified file: ./data\\dermamnist_64.npz\n",
      "Using downloaded and verified file: ./data\\dermamnist_64.npz\n"
     ]
    },
    {
     "name": "stderr",
     "output_type": "stream",
     "text": [
      "[I 2025-01-24 22:59:12,095] Trial 36 finished with value: 0.24039900249376556 and parameters: {'batch_size': 128, 'learning_rate': 0.00012259916095031496, 'dropout_rate': 0.29113961378144304}. Best is trial 11 with value: 0.23042394014962597.\n"
     ]
    },
    {
     "name": "stdout",
     "output_type": "stream",
     "text": [
      "Using downloaded and verified file: ./data\\dermamnist_64.npz\n",
      "Using downloaded and verified file: ./data\\dermamnist_64.npz\n"
     ]
    },
    {
     "name": "stderr",
     "output_type": "stream",
     "text": [
      "[I 2025-01-24 23:00:47,840] Trial 37 finished with value: 0.24788029925187027 and parameters: {'batch_size': 64, 'learning_rate': 0.0001007127400205321, 'dropout_rate': 0.3386443730176816}. Best is trial 11 with value: 0.23042394014962597.\n"
     ]
    },
    {
     "name": "stdout",
     "output_type": "stream",
     "text": [
      "Using downloaded and verified file: ./data\\dermamnist_64.npz\n",
      "Using downloaded and verified file: ./data\\dermamnist_64.npz\n"
     ]
    },
    {
     "name": "stderr",
     "output_type": "stream",
     "text": [
      "[I 2025-01-24 23:02:35,706] Trial 38 finished with value: 0.24738154613466334 and parameters: {'batch_size': 32, 'learning_rate': 0.0004694567972450338, 'dropout_rate': 0.3890216630882859}. Best is trial 11 with value: 0.23042394014962597.\n"
     ]
    },
    {
     "name": "stdout",
     "output_type": "stream",
     "text": [
      "Using downloaded and verified file: ./data\\dermamnist_64.npz\n",
      "Using downloaded and verified file: ./data\\dermamnist_64.npz\n"
     ]
    },
    {
     "name": "stderr",
     "output_type": "stream",
     "text": [
      "[I 2025-01-24 23:04:24,140] Trial 39 finished with value: 0.24339152119700747 and parameters: {'batch_size': 32, 'learning_rate': 0.00014397333219263786, 'dropout_rate': 0.4065671214217344}. Best is trial 11 with value: 0.23042394014962597.\n"
     ]
    },
    {
     "name": "stdout",
     "output_type": "stream",
     "text": [
      "Using downloaded and verified file: ./data\\dermamnist_64.npz\n",
      "Using downloaded and verified file: ./data\\dermamnist_64.npz\n"
     ]
    },
    {
     "name": "stderr",
     "output_type": "stream",
     "text": [
      "[I 2025-01-24 23:06:02,794] Trial 40 finished with value: 0.2628428927680798 and parameters: {'batch_size': 64, 'learning_rate': 0.0007785340095128409, 'dropout_rate': 0.2774211735820792}. Best is trial 11 with value: 0.23042394014962597.\n"
     ]
    },
    {
     "name": "stdout",
     "output_type": "stream",
     "text": [
      "Using downloaded and verified file: ./data\\dermamnist_64.npz\n",
      "Using downloaded and verified file: ./data\\dermamnist_64.npz\n"
     ]
    },
    {
     "name": "stderr",
     "output_type": "stream",
     "text": [
      "[I 2025-01-24 23:07:52,488] Trial 41 finished with value: 0.24039900249376556 and parameters: {'batch_size': 32, 'learning_rate': 0.00013123479568649842, 'dropout_rate': 0.31470406082621855}. Best is trial 11 with value: 0.23042394014962597.\n"
     ]
    },
    {
     "name": "stdout",
     "output_type": "stream",
     "text": [
      "Using downloaded and verified file: ./data\\dermamnist_64.npz\n",
      "Using downloaded and verified file: ./data\\dermamnist_64.npz\n"
     ]
    },
    {
     "name": "stderr",
     "output_type": "stream",
     "text": [
      "[I 2025-01-24 23:09:42,114] Trial 42 finished with value: 0.227930174563591 and parameters: {'batch_size': 32, 'learning_rate': 0.00012106944424657685, 'dropout_rate': 0.42506683639262255}. Best is trial 42 with value: 0.227930174563591.\n"
     ]
    },
    {
     "name": "stdout",
     "output_type": "stream",
     "text": [
      "Using downloaded and verified file: ./data\\dermamnist_64.npz\n",
      "Using downloaded and verified file: ./data\\dermamnist_64.npz\n"
     ]
    },
    {
     "name": "stderr",
     "output_type": "stream",
     "text": [
      "[I 2025-01-24 23:11:28,066] Trial 43 finished with value: 0.23042394014962597 and parameters: {'batch_size': 32, 'learning_rate': 0.00022219561720106102, 'dropout_rate': 0.42603947360574695}. Best is trial 42 with value: 0.227930174563591.\n"
     ]
    },
    {
     "name": "stdout",
     "output_type": "stream",
     "text": [
      "Using downloaded and verified file: ./data\\dermamnist_64.npz\n",
      "Using downloaded and verified file: ./data\\dermamnist_64.npz\n"
     ]
    },
    {
     "name": "stderr",
     "output_type": "stream",
     "text": [
      "[I 2025-01-24 23:13:11,639] Trial 44 finished with value: 0.24289276807980054 and parameters: {'batch_size': 32, 'learning_rate': 0.00020424402208298994, 'dropout_rate': 0.42219834528751665}. Best is trial 42 with value: 0.227930174563591.\n"
     ]
    },
    {
     "name": "stdout",
     "output_type": "stream",
     "text": [
      "Using downloaded and verified file: ./data\\dermamnist_64.npz\n",
      "Using downloaded and verified file: ./data\\dermamnist_64.npz\n"
     ]
    },
    {
     "name": "stderr",
     "output_type": "stream",
     "text": [
      "[I 2025-01-24 23:14:45,255] Trial 45 finished with value: 0.26184538653366585 and parameters: {'batch_size': 128, 'learning_rate': 0.0002659584768617524, 'dropout_rate': 0.4945879251628816}. Best is trial 42 with value: 0.227930174563591.\n"
     ]
    },
    {
     "name": "stdout",
     "output_type": "stream",
     "text": [
      "Using downloaded and verified file: ./data\\dermamnist_64.npz\n",
      "Using downloaded and verified file: ./data\\dermamnist_64.npz\n"
     ]
    },
    {
     "name": "stderr",
     "output_type": "stream",
     "text": [
      "[I 2025-01-24 23:16:30,437] Trial 46 finished with value: 0.25336658354114716 and parameters: {'batch_size': 32, 'learning_rate': 0.0012285823978519868, 'dropout_rate': 0.45406720335361567}. Best is trial 42 with value: 0.227930174563591.\n"
     ]
    },
    {
     "name": "stdout",
     "output_type": "stream",
     "text": [
      "Using downloaded and verified file: ./data\\dermamnist_64.npz\n",
      "Using downloaded and verified file: ./data\\dermamnist_64.npz\n"
     ]
    },
    {
     "name": "stderr",
     "output_type": "stream",
     "text": [
      "[I 2025-01-24 23:18:02,551] Trial 47 finished with value: 0.256857855361596 and parameters: {'batch_size': 256, 'learning_rate': 0.0003970979918558381, 'dropout_rate': 0.42462717120105237}. Best is trial 42 with value: 0.227930174563591.\n"
     ]
    },
    {
     "name": "stdout",
     "output_type": "stream",
     "text": [
      "Using downloaded and verified file: ./data\\dermamnist_64.npz\n",
      "Using downloaded and verified file: ./data\\dermamnist_64.npz\n"
     ]
    },
    {
     "name": "stderr",
     "output_type": "stream",
     "text": [
      "[I 2025-01-24 23:20:01,702] Trial 48 finished with value: 0.2438902743142145 and parameters: {'batch_size': 32, 'learning_rate': 0.00019080181709505722, 'dropout_rate': 0.3885590153263665}. Best is trial 42 with value: 0.227930174563591.\n"
     ]
    },
    {
     "name": "stdout",
     "output_type": "stream",
     "text": [
      "Using downloaded and verified file: ./data\\dermamnist_64.npz\n",
      "Using downloaded and verified file: ./data\\dermamnist_64.npz\n"
     ]
    },
    {
     "name": "stderr",
     "output_type": "stream",
     "text": [
      "[I 2025-01-24 23:21:39,734] Trial 49 finished with value: 0.229426433915212 and parameters: {'batch_size': 32, 'learning_rate': 0.00011224776421772571, 'dropout_rate': 0.46054055203140326}. Best is trial 42 with value: 0.227930174563591.\n"
     ]
    },
    {
     "name": "stdout",
     "output_type": "stream",
     "text": [
      "Najlepsze hiperparametry:  {'batch_size': 32, 'learning_rate': 0.00012106944424657685, 'dropout_rate': 0.42506683639262255}\n",
      "Najlepszy wynik:  0.772069825436409\n"
     ]
    }
   ],
   "source": [
    "torch.cuda.empty_cache()\n",
    "class CNN(nn.Module):\n",
    "    def __init__(self, dropout_rate):\n",
    "        super(CNN, self).__init__()\n",
    "        self.conv1 = nn.Conv2d(3, 32, kernel_size=3, stride=1, bias=False)\n",
    "        self.bn1 = nn.BatchNorm2d(32)\n",
    "        self.conv2 = nn.Conv2d(32, 64, kernel_size=3, stride=1, padding=1, bias=False)\n",
    "        self.bn2 = nn.BatchNorm2d(64)\n",
    "        self.conv3 = nn.Conv2d(64, 128, kernel_size=3, stride=1, padding=1, bias=False)\n",
    "        self.bn3 = nn.BatchNorm2d(128)\n",
    "        self.conv4 = nn.Conv2d(128, 256, kernel_size=3, stride=1, padding=1, bias=False)\n",
    "        self.bn4 = nn.BatchNorm2d(256)\n",
    "        self.conv5 = nn.Conv2d(256, 512, kernel_size=3, stride=1, padding=1, bias=False)\n",
    "        self.bn5 = nn.BatchNorm2d(512)\n",
    "\n",
    "        self.pool = nn.MaxPool2d(kernel_size=2)\n",
    "        self.relu = nn.ReLU()\n",
    "        self.dropout = nn.Dropout(0.5)\n",
    "\n",
    "        # Oblicz rozmiar spłaszczonego tensora\n",
    "        self.flattened_size = self.get_flattened_size((3, 64, 64))\n",
    "        self.fc1 = nn.Linear(self.flattened_size, 256)\n",
    "        self.fc2 = nn.Linear(256, 128)\n",
    "        self.fc3 = nn.Linear(128, 7)  # 7 klas w DermaMNIST\n",
    "\n",
    "    def get_flattened_size(self, input_shape):\n",
    "        x = torch.zeros(1, *input_shape)\n",
    "        x = self.pool(self.relu(self.conv1(x)))\n",
    "        x = self.pool(self.relu(self.conv2(x)))\n",
    "        x = self.pool(self.relu(self.conv3(x)))\n",
    "        x = self.pool(self.relu(self.conv4(x)))\n",
    "        x = self.pool(self.relu(self.conv5(x)))\n",
    "        return x.view(1, -1).size(1)\n",
    "\n",
    "    def forward(self, x):\n",
    "        x = self.relu(self.bn1(self.conv1(x)))\n",
    "        x = self.pool(x)\n",
    "        x = self.relu(self.bn2(self.conv2(x)))\n",
    "        x = self.pool(x)\n",
    "        x = self.relu(self.bn3(self.conv3(x)))\n",
    "        x = self.pool(x)\n",
    "        x = self.relu(self.bn4(self.conv4(x)))\n",
    "        x = self.pool(x)\n",
    "        x = self.relu(self.bn5(self.conv5(x)))\n",
    "        x = self.pool(x)\n",
    "        x = x.view(x.size(0), -1)\n",
    "        x = self.relu(self.fc1(x))\n",
    "        x = self.relu(self.fc2(x))\n",
    "        x = self.fc3(x)\n",
    "        return x\n",
    "\n",
    "# Funkcja celu dla Optuny\n",
    "def objective(trial):\n",
    "    # Hiperparametry do tuningu\n",
    "    batch_size = trial.suggest_categorical(\"batch_size\", [32, 64, 128, 256])\n",
    "    learning_rate = trial.suggest_loguniform(\"learning_rate\", 1e-4, 1e-2)\n",
    "    dropout_rate = trial.suggest_uniform(\"dropout_rate\", 0.2, 0.5)\n",
    "\n",
    "    # Dane\n",
    "    transform = transforms.Compose([\n",
    "        transforms.ToTensor(),\n",
    "        transforms.RandomHorizontalFlip(p=0.5),\n",
    "        transforms.RandomRotation(10),\n",
    "        transforms.RandomAutocontrast(p=0.5),\n",
    "        transforms.RandomVerticalFlip(p=0.5),\n",
    "        transforms.Normalize((0.5,), (0.5,))\n",
    "    ])\n",
    "    train_dataset = DermaMNIST(root='./data', split=\"train\", download=True, transform=transform, size=64)\n",
    "    test_dataset = DermaMNIST(root='./data', split=\"test\", download=True, transform=transform, size=64)\n",
    "    train_loader = DataLoader(train_dataset, batch_size=batch_size, shuffle=True)\n",
    "    test_loader = DataLoader(test_dataset, batch_size=batch_size, shuffle=False)\n",
    "\n",
    "    # Model\n",
    "    model = CNN(dropout_rate).to(device)\n",
    "    criterion = nn.CrossEntropyLoss()\n",
    "    optimizer = optim.Adam(model.parameters(), lr=learning_rate)\n",
    "\n",
    "    # Trening\n",
    "    for epoch in range(10):  # Mała liczba epok do szybkiego tuningu\n",
    "        model.train()\n",
    "        for data, target in train_loader:\n",
    "            data, target = data.to(device), target.to(device)\n",
    "            target = target.long()  # Ensure target is of type torch.long\n",
    "            if len(target.size()) > 1:\n",
    "                target = target.squeeze()  # Remove extra dimensions\n",
    "            optimizer.zero_grad()\n",
    "            outputs = model(data)\n",
    "            loss = criterion(outputs, target)\n",
    "            loss.backward()\n",
    "            optimizer.step()\n",
    "\n",
    "    # Ewaluacja\n",
    "    model.eval()\n",
    "    correct = 0\n",
    "    total = 0\n",
    "    with torch.no_grad():\n",
    "        for data, target in test_loader:\n",
    "            data, target = data.to(device), target.to(device)\n",
    "            target = target.long()  # Ensure target is of type torch.long\n",
    "            if len(target.size()) > 1:\n",
    "                target = target.squeeze()  # Remove extra dimensions\n",
    "            outputs = model(data)\n",
    "            _, predicted = torch.max(outputs, 1)\n",
    "            correct += (predicted == target).sum().item()\n",
    "            total += target.size(0)\n",
    "\n",
    "    accuracy = correct / total\n",
    "    return 1 - accuracy  # Minimalizujemy 1 - accuracy\n",
    "\n",
    "# Główna funkcja\n",
    "if __name__ == \"__main__\":\n",
    "    device = torch.device('cuda' if torch.cuda.is_available() else 'cpu')\n",
    "    study = optuna.create_study(direction=\"minimize\")  # Minimalizacja (1 - accuracy)\n",
    "    study.optimize(objective, n_trials=50)\n",
    "\n",
    "    # Najlepsze hiperparametry\n",
    "    print(\"Najlepsze hiperparametry: \", study.best_params)\n",
    "    print(\"Najlepszy wynik: \", 1 - study.best_value)"
   ]
  }
 ],
 "metadata": {
  "kernelspec": {
   "display_name": "Python 3 (ipykernel)",
   "language": "python",
   "name": "python3"
  },
  "language_info": {
   "codemirror_mode": {
    "name": "ipython",
    "version": 3
   },
   "file_extension": ".py",
   "mimetype": "text/x-python",
   "name": "python",
   "nbconvert_exporter": "python",
   "pygments_lexer": "ipython3",
   "version": "3.12.8"
  }
 },
 "nbformat": 4,
 "nbformat_minor": 5
}
