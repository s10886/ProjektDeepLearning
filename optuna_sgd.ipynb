{
 "cells": [
  {
   "cell_type": "code",
   "execution_count": 1,
   "id": "9ee182e5-0d22-4cd6-bbc6-1964d39f9728",
   "metadata": {},
   "outputs": [],
   "source": [
    "#!pip install neptune\n",
    "#!pip install optuna\n",
    "import torch\n",
    "import torch.nn as nn\n",
    "import numpy as np\n",
    "import torch.optim as optim\n",
    "import matplotlib.pyplot as plt\n",
    "from torch.utils.data import DataLoader\n",
    "from torchvision import datasets, transforms\n",
    "from medmnist import DermaMNIST\n",
    "import random\n",
    "import neptune\n",
    "import itertools\n",
    "import optuna"
   ]
  },
  {
   "cell_type": "code",
   "execution_count": 2,
   "id": "5560781b-2867-43f9-a819-cf17e68fc718",
   "metadata": {},
   "outputs": [
    {
     "name": "stderr",
     "output_type": "stream",
     "text": [
      "[I 2025-01-24 11:11:52,852] A new study created in memory with name: no-name-41d3d76a-5bc2-4c2a-9e6b-04c3b42ddb1b\n",
      "C:\\Users\\Kamil\\AppData\\Local\\Temp\\ipykernel_18492\\2511716181.py:42: FutureWarning: suggest_loguniform has been deprecated in v3.0.0. This feature will be removed in v6.0.0. See https://github.com/optuna/optuna/releases/tag/v3.0.0. Use suggest_float(..., log=True) instead.\n",
      "  learning_rate = trial.suggest_loguniform(\"learning_rate\", 1e-4, 1e-2)\n",
      "C:\\Users\\Kamil\\AppData\\Local\\Temp\\ipykernel_18492\\2511716181.py:43: FutureWarning: suggest_uniform has been deprecated in v3.0.0. This feature will be removed in v6.0.0. See https://github.com/optuna/optuna/releases/tag/v3.0.0. Use suggest_float instead.\n",
      "  dropout_rate = trial.suggest_uniform(\"dropout_rate\", 0.2, 0.5)\n"
     ]
    },
    {
     "name": "stdout",
     "output_type": "stream",
     "text": [
      "Using downloaded and verified file: ./data\\dermamnist_64.npz\n",
      "Using downloaded and verified file: ./data\\dermamnist_64.npz\n"
     ]
    },
    {
     "name": "stderr",
     "output_type": "stream",
     "text": [
      "[I 2025-01-24 11:12:04,381] Trial 0 finished with value: 0.33117206982543645 and parameters: {'batch_size': 256, 'learning_rate': 0.00014810540825968506, 'dropout_rate': 0.36348959137432685}. Best is trial 0 with value: 0.33117206982543645.\n"
     ]
    },
    {
     "name": "stdout",
     "output_type": "stream",
     "text": [
      "Using downloaded and verified file: ./data\\dermamnist_64.npz\n",
      "Using downloaded and verified file: ./data\\dermamnist_64.npz\n"
     ]
    },
    {
     "name": "stderr",
     "output_type": "stream",
     "text": [
      "[I 2025-01-24 11:12:15,038] Trial 1 finished with value: 0.29975062344139647 and parameters: {'batch_size': 256, 'learning_rate': 0.0010050046393466406, 'dropout_rate': 0.2849458229595506}. Best is trial 1 with value: 0.29975062344139647.\n"
     ]
    },
    {
     "name": "stdout",
     "output_type": "stream",
     "text": [
      "Using downloaded and verified file: ./data\\dermamnist_64.npz\n",
      "Using downloaded and verified file: ./data\\dermamnist_64.npz\n"
     ]
    },
    {
     "name": "stderr",
     "output_type": "stream",
     "text": [
      "[I 2025-01-24 11:12:28,190] Trial 2 finished with value: 0.27930174563591026 and parameters: {'batch_size': 64, 'learning_rate': 0.0004990225068159401, 'dropout_rate': 0.3883743155702006}. Best is trial 2 with value: 0.27930174563591026.\n"
     ]
    },
    {
     "name": "stdout",
     "output_type": "stream",
     "text": [
      "Using downloaded and verified file: ./data\\dermamnist_64.npz\n",
      "Using downloaded and verified file: ./data\\dermamnist_64.npz\n"
     ]
    },
    {
     "name": "stderr",
     "output_type": "stream",
     "text": [
      "[I 2025-01-24 11:12:39,153] Trial 3 finished with value: 0.313216957605985 and parameters: {'batch_size': 256, 'learning_rate': 0.0006208394594731199, 'dropout_rate': 0.28538998051849607}. Best is trial 2 with value: 0.27930174563591026.\n"
     ]
    },
    {
     "name": "stdout",
     "output_type": "stream",
     "text": [
      "Using downloaded and verified file: ./data\\dermamnist_64.npz\n",
      "Using downloaded and verified file: ./data\\dermamnist_64.npz\n"
     ]
    },
    {
     "name": "stderr",
     "output_type": "stream",
     "text": [
      "[I 2025-01-24 11:12:51,419] Trial 4 finished with value: 0.26034912718204484 and parameters: {'batch_size': 128, 'learning_rate': 0.0031035349308959105, 'dropout_rate': 0.2865205908342499}. Best is trial 4 with value: 0.26034912718204484.\n"
     ]
    },
    {
     "name": "stdout",
     "output_type": "stream",
     "text": [
      "Using downloaded and verified file: ./data\\dermamnist_64.npz\n",
      "Using downloaded and verified file: ./data\\dermamnist_64.npz\n"
     ]
    },
    {
     "name": "stderr",
     "output_type": "stream",
     "text": [
      "[I 2025-01-24 11:13:05,093] Trial 5 finished with value: 0.2773067331670823 and parameters: {'batch_size': 64, 'learning_rate': 0.007619519451207517, 'dropout_rate': 0.2333902237775053}. Best is trial 4 with value: 0.26034912718204484.\n"
     ]
    },
    {
     "name": "stdout",
     "output_type": "stream",
     "text": [
      "Using downloaded and verified file: ./data\\dermamnist_64.npz\n",
      "Using downloaded and verified file: ./data\\dermamnist_64.npz\n"
     ]
    },
    {
     "name": "stderr",
     "output_type": "stream",
     "text": [
      "[I 2025-01-24 11:13:17,202] Trial 6 finished with value: 0.2753117206982544 and parameters: {'batch_size': 128, 'learning_rate': 0.0013205176363926855, 'dropout_rate': 0.34831865323081523}. Best is trial 4 with value: 0.26034912718204484.\n"
     ]
    },
    {
     "name": "stdout",
     "output_type": "stream",
     "text": [
      "Using downloaded and verified file: ./data\\dermamnist_64.npz\n",
      "Using downloaded and verified file: ./data\\dermamnist_64.npz\n"
     ]
    },
    {
     "name": "stderr",
     "output_type": "stream",
     "text": [
      "[I 2025-01-24 11:13:31,079] Trial 7 finished with value: 0.3012468827930175 and parameters: {'batch_size': 64, 'learning_rate': 0.00024560993283546885, 'dropout_rate': 0.2128522488842789}. Best is trial 4 with value: 0.26034912718204484.\n"
     ]
    },
    {
     "name": "stdout",
     "output_type": "stream",
     "text": [
      "Using downloaded and verified file: ./data\\dermamnist_64.npz\n",
      "Using downloaded and verified file: ./data\\dermamnist_64.npz\n"
     ]
    },
    {
     "name": "stderr",
     "output_type": "stream",
     "text": [
      "[I 2025-01-24 11:13:43,081] Trial 8 finished with value: 0.33566084788029926 and parameters: {'batch_size': 256, 'learning_rate': 0.00904065944134513, 'dropout_rate': 0.37258439928254217}. Best is trial 4 with value: 0.26034912718204484.\n"
     ]
    },
    {
     "name": "stdout",
     "output_type": "stream",
     "text": [
      "Using downloaded and verified file: ./data\\dermamnist_64.npz\n",
      "Using downloaded and verified file: ./data\\dermamnist_64.npz\n"
     ]
    },
    {
     "name": "stderr",
     "output_type": "stream",
     "text": [
      "[I 2025-01-24 11:13:57,645] Trial 9 finished with value: 0.2758104738154613 and parameters: {'batch_size': 64, 'learning_rate': 0.0022842438967526665, 'dropout_rate': 0.2933572528073106}. Best is trial 4 with value: 0.26034912718204484.\n"
     ]
    },
    {
     "name": "stdout",
     "output_type": "stream",
     "text": [
      "Using downloaded and verified file: ./data\\dermamnist_64.npz\n",
      "Using downloaded and verified file: ./data\\dermamnist_64.npz\n"
     ]
    },
    {
     "name": "stderr",
     "output_type": "stream",
     "text": [
      "[I 2025-01-24 11:14:10,932] Trial 10 finished with value: 0.2623441396508728 and parameters: {'batch_size': 128, 'learning_rate': 0.00365797783597003, 'dropout_rate': 0.49466084497314844}. Best is trial 4 with value: 0.26034912718204484.\n"
     ]
    },
    {
     "name": "stdout",
     "output_type": "stream",
     "text": [
      "Using downloaded and verified file: ./data\\dermamnist_64.npz\n",
      "Using downloaded and verified file: ./data\\dermamnist_64.npz\n"
     ]
    },
    {
     "name": "stderr",
     "output_type": "stream",
     "text": [
      "[I 2025-01-24 11:14:24,357] Trial 11 finished with value: 0.25336658354114716 and parameters: {'batch_size': 128, 'learning_rate': 0.003378183165880115, 'dropout_rate': 0.49594131743520026}. Best is trial 11 with value: 0.25336658354114716.\n"
     ]
    },
    {
     "name": "stdout",
     "output_type": "stream",
     "text": [
      "Using downloaded and verified file: ./data\\dermamnist_64.npz\n",
      "Using downloaded and verified file: ./data\\dermamnist_64.npz\n"
     ]
    },
    {
     "name": "stderr",
     "output_type": "stream",
     "text": [
      "[I 2025-01-24 11:14:40,981] Trial 12 finished with value: 0.23441396508728185 and parameters: {'batch_size': 32, 'learning_rate': 0.003753767822364786, 'dropout_rate': 0.48269628528195263}. Best is trial 12 with value: 0.23441396508728185.\n"
     ]
    },
    {
     "name": "stdout",
     "output_type": "stream",
     "text": [
      "Using downloaded and verified file: ./data\\dermamnist_64.npz\n",
      "Using downloaded and verified file: ./data\\dermamnist_64.npz\n"
     ]
    },
    {
     "name": "stderr",
     "output_type": "stream",
     "text": [
      "[I 2025-01-24 11:14:57,164] Trial 13 finished with value: 0.2394014962593516 and parameters: {'batch_size': 32, 'learning_rate': 0.004908125824254937, 'dropout_rate': 0.49785205783255915}. Best is trial 12 with value: 0.23441396508728185.\n"
     ]
    },
    {
     "name": "stdout",
     "output_type": "stream",
     "text": [
      "Using downloaded and verified file: ./data\\dermamnist_64.npz\n",
      "Using downloaded and verified file: ./data\\dermamnist_64.npz\n"
     ]
    },
    {
     "name": "stderr",
     "output_type": "stream",
     "text": [
      "[I 2025-01-24 11:15:16,194] Trial 14 finished with value: 0.22892768079800496 and parameters: {'batch_size': 32, 'learning_rate': 0.005292222388959028, 'dropout_rate': 0.4461720433288294}. Best is trial 14 with value: 0.22892768079800496.\n"
     ]
    },
    {
     "name": "stdout",
     "output_type": "stream",
     "text": [
      "Using downloaded and verified file: ./data\\dermamnist_64.npz\n",
      "Using downloaded and verified file: ./data\\dermamnist_64.npz\n"
     ]
    },
    {
     "name": "stderr",
     "output_type": "stream",
     "text": [
      "[I 2025-01-24 11:15:34,806] Trial 15 finished with value: 0.2453865336658354 and parameters: {'batch_size': 32, 'learning_rate': 0.0017274751431805972, 'dropout_rate': 0.440174479070465}. Best is trial 14 with value: 0.22892768079800496.\n"
     ]
    },
    {
     "name": "stdout",
     "output_type": "stream",
     "text": [
      "Using downloaded and verified file: ./data\\dermamnist_64.npz\n",
      "Using downloaded and verified file: ./data\\dermamnist_64.npz\n"
     ]
    },
    {
     "name": "stderr",
     "output_type": "stream",
     "text": [
      "[I 2025-01-24 11:15:53,675] Trial 16 finished with value: 0.23042394014962597 and parameters: {'batch_size': 32, 'learning_rate': 0.005234610041233939, 'dropout_rate': 0.4443244878845357}. Best is trial 14 with value: 0.22892768079800496.\n"
     ]
    },
    {
     "name": "stdout",
     "output_type": "stream",
     "text": [
      "Using downloaded and verified file: ./data\\dermamnist_64.npz\n",
      "Using downloaded and verified file: ./data\\dermamnist_64.npz\n"
     ]
    },
    {
     "name": "stderr",
     "output_type": "stream",
     "text": [
      "[I 2025-01-24 11:16:12,858] Trial 17 finished with value: 0.23890274314214466 and parameters: {'batch_size': 32, 'learning_rate': 0.00582584131408544, 'dropout_rate': 0.42789324881796925}. Best is trial 14 with value: 0.22892768079800496.\n"
     ]
    },
    {
     "name": "stdout",
     "output_type": "stream",
     "text": [
      "Using downloaded and verified file: ./data\\dermamnist_64.npz\n",
      "Using downloaded and verified file: ./data\\dermamnist_64.npz\n"
     ]
    },
    {
     "name": "stderr",
     "output_type": "stream",
     "text": [
      "[I 2025-01-24 11:16:32,188] Trial 18 finished with value: 0.23740648379052365 and parameters: {'batch_size': 32, 'learning_rate': 0.009563670923972246, 'dropout_rate': 0.4337822699675952}. Best is trial 14 with value: 0.22892768079800496.\n"
     ]
    },
    {
     "name": "stdout",
     "output_type": "stream",
     "text": [
      "Using downloaded and verified file: ./data\\dermamnist_64.npz\n",
      "Using downloaded and verified file: ./data\\dermamnist_64.npz\n"
     ]
    },
    {
     "name": "stderr",
     "output_type": "stream",
     "text": [
      "[I 2025-01-24 11:16:50,503] Trial 19 finished with value: 0.2798004987531172 and parameters: {'batch_size': 32, 'learning_rate': 0.002137131386168856, 'dropout_rate': 0.4117487956833637}. Best is trial 14 with value: 0.22892768079800496.\n"
     ]
    },
    {
     "name": "stdout",
     "output_type": "stream",
     "text": [
      "Using downloaded and verified file: ./data\\dermamnist_64.npz\n",
      "Using downloaded and verified file: ./data\\dermamnist_64.npz\n"
     ]
    },
    {
     "name": "stderr",
     "output_type": "stream",
     "text": [
      "[I 2025-01-24 11:17:09,626] Trial 20 finished with value: 0.26034912718204484 and parameters: {'batch_size': 32, 'learning_rate': 0.0004611129246347237, 'dropout_rate': 0.46069137984204833}. Best is trial 14 with value: 0.22892768079800496.\n"
     ]
    },
    {
     "name": "stdout",
     "output_type": "stream",
     "text": [
      "Using downloaded and verified file: ./data\\dermamnist_64.npz\n",
      "Using downloaded and verified file: ./data\\dermamnist_64.npz\n"
     ]
    },
    {
     "name": "stderr",
     "output_type": "stream",
     "text": [
      "[I 2025-01-24 11:17:28,242] Trial 21 finished with value: 0.2453865336658354 and parameters: {'batch_size': 32, 'learning_rate': 0.005324095137552347, 'dropout_rate': 0.45655114329394053}. Best is trial 14 with value: 0.22892768079800496.\n"
     ]
    },
    {
     "name": "stdout",
     "output_type": "stream",
     "text": [
      "Using downloaded and verified file: ./data\\dermamnist_64.npz\n",
      "Using downloaded and verified file: ./data\\dermamnist_64.npz\n"
     ]
    },
    {
     "name": "stderr",
     "output_type": "stream",
     "text": [
      "[I 2025-01-24 11:17:46,741] Trial 22 finished with value: 0.23291770573566084 and parameters: {'batch_size': 32, 'learning_rate': 0.003935320550461533, 'dropout_rate': 0.4734331941447488}. Best is trial 14 with value: 0.22892768079800496.\n"
     ]
    },
    {
     "name": "stdout",
     "output_type": "stream",
     "text": [
      "Using downloaded and verified file: ./data\\dermamnist_64.npz\n",
      "Using downloaded and verified file: ./data\\dermamnist_64.npz\n"
     ]
    },
    {
     "name": "stderr",
     "output_type": "stream",
     "text": [
      "[I 2025-01-24 11:18:06,504] Trial 23 finished with value: 0.2379052369077307 and parameters: {'batch_size': 32, 'learning_rate': 0.006217457580687037, 'dropout_rate': 0.40310632064909446}. Best is trial 14 with value: 0.22892768079800496.\n"
     ]
    },
    {
     "name": "stdout",
     "output_type": "stream",
     "text": [
      "Using downloaded and verified file: ./data\\dermamnist_64.npz\n",
      "Using downloaded and verified file: ./data\\dermamnist_64.npz\n"
     ]
    },
    {
     "name": "stderr",
     "output_type": "stream",
     "text": [
      "[I 2025-01-24 11:18:25,271] Trial 24 finished with value: 0.23591022443890275 and parameters: {'batch_size': 32, 'learning_rate': 0.0024159280973244978, 'dropout_rate': 0.4634790817957611}. Best is trial 14 with value: 0.22892768079800496.\n"
     ]
    },
    {
     "name": "stdout",
     "output_type": "stream",
     "text": [
      "Using downloaded and verified file: ./data\\dermamnist_64.npz\n",
      "Using downloaded and verified file: ./data\\dermamnist_64.npz\n"
     ]
    },
    {
     "name": "stderr",
     "output_type": "stream",
     "text": [
      "[I 2025-01-24 11:18:43,956] Trial 25 finished with value: 0.2513715710723192 and parameters: {'batch_size': 32, 'learning_rate': 0.0013872039045001853, 'dropout_rate': 0.3313311332676867}. Best is trial 14 with value: 0.22892768079800496.\n"
     ]
    },
    {
     "name": "stdout",
     "output_type": "stream",
     "text": [
      "Using downloaded and verified file: ./data\\dermamnist_64.npz\n",
      "Using downloaded and verified file: ./data\\dermamnist_64.npz\n"
     ]
    },
    {
     "name": "stderr",
     "output_type": "stream",
     "text": [
      "[I 2025-01-24 11:19:03,431] Trial 26 finished with value: 0.2354114713216957 and parameters: {'batch_size': 32, 'learning_rate': 0.004692356580724883, 'dropout_rate': 0.4682973822447611}. Best is trial 14 with value: 0.22892768079800496.\n"
     ]
    },
    {
     "name": "stdout",
     "output_type": "stream",
     "text": [
      "Using downloaded and verified file: ./data\\dermamnist_64.npz\n",
      "Using downloaded and verified file: ./data\\dermamnist_64.npz\n"
     ]
    },
    {
     "name": "stderr",
     "output_type": "stream",
     "text": [
      "[I 2025-01-24 11:19:22,672] Trial 27 finished with value: 0.2438902743142145 and parameters: {'batch_size': 32, 'learning_rate': 0.002700761654446376, 'dropout_rate': 0.4121566746793096}. Best is trial 14 with value: 0.22892768079800496.\n"
     ]
    },
    {
     "name": "stdout",
     "output_type": "stream",
     "text": [
      "Using downloaded and verified file: ./data\\dermamnist_64.npz\n",
      "Using downloaded and verified file: ./data\\dermamnist_64.npz\n"
     ]
    },
    {
     "name": "stderr",
     "output_type": "stream",
     "text": [
      "[I 2025-01-24 11:19:41,411] Trial 28 finished with value: 0.23491271820448878 and parameters: {'batch_size': 32, 'learning_rate': 0.007248018918219321, 'dropout_rate': 0.4440217517247044}. Best is trial 14 with value: 0.22892768079800496.\n"
     ]
    },
    {
     "name": "stdout",
     "output_type": "stream",
     "text": [
      "Using downloaded and verified file: ./data\\dermamnist_64.npz\n",
      "Using downloaded and verified file: ./data\\dermamnist_64.npz\n"
     ]
    },
    {
     "name": "stderr",
     "output_type": "stream",
     "text": [
      "[I 2025-01-24 11:19:54,988] Trial 29 finished with value: 0.33117206982543645 and parameters: {'batch_size': 256, 'learning_rate': 0.0001306516394080266, 'dropout_rate': 0.38773579017814835}. Best is trial 14 with value: 0.22892768079800496.\n"
     ]
    },
    {
     "name": "stdout",
     "output_type": "stream",
     "text": [
      "Using downloaded and verified file: ./data\\dermamnist_64.npz\n",
      "Using downloaded and verified file: ./data\\dermamnist_64.npz\n"
     ]
    },
    {
     "name": "stderr",
     "output_type": "stream",
     "text": [
      "[I 2025-01-24 11:20:15,820] Trial 30 finished with value: 0.3012468827930175 and parameters: {'batch_size': 32, 'learning_rate': 0.0001944029127433222, 'dropout_rate': 0.4768813826030838}. Best is trial 14 with value: 0.22892768079800496.\n"
     ]
    },
    {
     "name": "stdout",
     "output_type": "stream",
     "text": [
      "Using downloaded and verified file: ./data\\dermamnist_64.npz\n",
      "Using downloaded and verified file: ./data\\dermamnist_64.npz\n"
     ]
    },
    {
     "name": "stderr",
     "output_type": "stream",
     "text": [
      "[I 2025-01-24 11:20:42,290] Trial 31 finished with value: 0.22743142144638406 and parameters: {'batch_size': 32, 'learning_rate': 0.0037814575474029804, 'dropout_rate': 0.480867071169462}. Best is trial 31 with value: 0.22743142144638406.\n"
     ]
    },
    {
     "name": "stdout",
     "output_type": "stream",
     "text": [
      "Using downloaded and verified file: ./data\\dermamnist_64.npz\n",
      "Using downloaded and verified file: ./data\\dermamnist_64.npz\n"
     ]
    },
    {
     "name": "stderr",
     "output_type": "stream",
     "text": [
      "[I 2025-01-24 11:21:05,669] Trial 32 finished with value: 0.23990024937655863 and parameters: {'batch_size': 32, 'learning_rate': 0.004036936755122499, 'dropout_rate': 0.45201907460879664}. Best is trial 31 with value: 0.22743142144638406.\n"
     ]
    },
    {
     "name": "stdout",
     "output_type": "stream",
     "text": [
      "Using downloaded and verified file: ./data\\dermamnist_64.npz\n",
      "Using downloaded and verified file: ./data\\dermamnist_64.npz\n"
     ]
    },
    {
     "name": "stderr",
     "output_type": "stream",
     "text": [
      "[I 2025-01-24 11:21:29,451] Trial 33 finished with value: 0.25486284289276806 and parameters: {'batch_size': 32, 'learning_rate': 0.0009633733013585863, 'dropout_rate': 0.42709933433510444}. Best is trial 31 with value: 0.22743142144638406.\n"
     ]
    },
    {
     "name": "stdout",
     "output_type": "stream",
     "text": [
      "Using downloaded and verified file: ./data\\dermamnist_64.npz\n",
      "Using downloaded and verified file: ./data\\dermamnist_64.npz\n"
     ]
    },
    {
     "name": "stderr",
     "output_type": "stream",
     "text": [
      "[I 2025-01-24 11:21:44,480] Trial 34 finished with value: 0.2927680798004988 and parameters: {'batch_size': 256, 'learning_rate': 0.0017211642885125672, 'dropout_rate': 0.4752939959596278}. Best is trial 31 with value: 0.22743142144638406.\n"
     ]
    },
    {
     "name": "stdout",
     "output_type": "stream",
     "text": [
      "Using downloaded and verified file: ./data\\dermamnist_64.npz\n",
      "Using downloaded and verified file: ./data\\dermamnist_64.npz\n"
     ]
    },
    {
     "name": "stderr",
     "output_type": "stream",
     "text": [
      "[I 2025-01-24 11:22:06,686] Trial 35 finished with value: 0.23142144638403994 and parameters: {'batch_size': 32, 'learning_rate': 0.006981847734858337, 'dropout_rate': 0.3895715056216402}. Best is trial 31 with value: 0.22743142144638406.\n"
     ]
    },
    {
     "name": "stdout",
     "output_type": "stream",
     "text": [
      "Using downloaded and verified file: ./data\\dermamnist_64.npz\n",
      "Using downloaded and verified file: ./data\\dermamnist_64.npz\n"
     ]
    },
    {
     "name": "stderr",
     "output_type": "stream",
     "text": [
      "[I 2025-01-24 11:22:24,642] Trial 36 finished with value: 0.25486284289276806 and parameters: {'batch_size': 64, 'learning_rate': 0.007237409323530099, 'dropout_rate': 0.39344271307113365}. Best is trial 31 with value: 0.22743142144638406.\n"
     ]
    },
    {
     "name": "stdout",
     "output_type": "stream",
     "text": [
      "Using downloaded and verified file: ./data\\dermamnist_64.npz\n",
      "Using downloaded and verified file: ./data\\dermamnist_64.npz\n"
     ]
    },
    {
     "name": "stderr",
     "output_type": "stream",
     "text": [
      "[I 2025-01-24 11:22:45,436] Trial 37 finished with value: 0.24937655860349128 and parameters: {'batch_size': 32, 'learning_rate': 0.009504944189763016, 'dropout_rate': 0.3633959116976186}. Best is trial 31 with value: 0.22743142144638406.\n"
     ]
    },
    {
     "name": "stdout",
     "output_type": "stream",
     "text": [
      "Using downloaded and verified file: ./data\\dermamnist_64.npz\n",
      "Using downloaded and verified file: ./data\\dermamnist_64.npz\n"
     ]
    },
    {
     "name": "stderr",
     "output_type": "stream",
     "text": [
      "[I 2025-01-24 11:23:00,373] Trial 38 finished with value: 0.2897755610972569 and parameters: {'batch_size': 128, 'learning_rate': 0.0008529484833455705, 'dropout_rate': 0.32572519670866845}. Best is trial 31 with value: 0.22743142144638406.\n"
     ]
    },
    {
     "name": "stdout",
     "output_type": "stream",
     "text": [
      "Using downloaded and verified file: ./data\\dermamnist_64.npz\n",
      "Using downloaded and verified file: ./data\\dermamnist_64.npz\n"
     ]
    },
    {
     "name": "stderr",
     "output_type": "stream",
     "text": [
      "[I 2025-01-24 11:23:14,814] Trial 39 finished with value: 0.28478802992518704 and parameters: {'batch_size': 256, 'learning_rate': 0.006324789129871437, 'dropout_rate': 0.3846987738017898}. Best is trial 31 with value: 0.22743142144638406.\n"
     ]
    },
    {
     "name": "stdout",
     "output_type": "stream",
     "text": [
      "Using downloaded and verified file: ./data\\dermamnist_64.npz\n",
      "Using downloaded and verified file: ./data\\dermamnist_64.npz\n"
     ]
    },
    {
     "name": "stderr",
     "output_type": "stream",
     "text": [
      "[I 2025-01-24 11:23:31,700] Trial 40 finished with value: 0.2613466334164588 and parameters: {'batch_size': 64, 'learning_rate': 0.0030442374580822054, 'dropout_rate': 0.41377766303835994}. Best is trial 31 with value: 0.22743142144638406.\n"
     ]
    },
    {
     "name": "stdout",
     "output_type": "stream",
     "text": [
      "Using downloaded and verified file: ./data\\dermamnist_64.npz\n",
      "Using downloaded and verified file: ./data\\dermamnist_64.npz\n"
     ]
    },
    {
     "name": "stderr",
     "output_type": "stream",
     "text": [
      "[I 2025-01-24 11:23:51,750] Trial 41 finished with value: 0.2379052369077307 and parameters: {'batch_size': 32, 'learning_rate': 0.004377258671446744, 'dropout_rate': 0.48060978321566045}. Best is trial 31 with value: 0.22743142144638406.\n"
     ]
    },
    {
     "name": "stdout",
     "output_type": "stream",
     "text": [
      "Using downloaded and verified file: ./data\\dermamnist_64.npz\n",
      "Using downloaded and verified file: ./data\\dermamnist_64.npz\n"
     ]
    },
    {
     "name": "stderr",
     "output_type": "stream",
     "text": [
      "[I 2025-01-24 11:24:13,874] Trial 42 finished with value: 0.22493765586034908 and parameters: {'batch_size': 32, 'learning_rate': 0.007081285830831507, 'dropout_rate': 0.44938018500900623}. Best is trial 42 with value: 0.22493765586034908.\n"
     ]
    },
    {
     "name": "stdout",
     "output_type": "stream",
     "text": [
      "Using downloaded and verified file: ./data\\dermamnist_64.npz\n",
      "Using downloaded and verified file: ./data\\dermamnist_64.npz\n"
     ]
    },
    {
     "name": "stderr",
     "output_type": "stream",
     "text": [
      "[I 2025-01-24 11:24:38,140] Trial 43 finished with value: 0.23491271820448878 and parameters: {'batch_size': 32, 'learning_rate': 0.0071384080690324375, 'dropout_rate': 0.4237594984424587}. Best is trial 42 with value: 0.22493765586034908.\n"
     ]
    },
    {
     "name": "stdout",
     "output_type": "stream",
     "text": [
      "Using downloaded and verified file: ./data\\dermamnist_64.npz\n",
      "Using downloaded and verified file: ./data\\dermamnist_64.npz\n"
     ]
    },
    {
     "name": "stderr",
     "output_type": "stream",
     "text": [
      "[I 2025-01-24 11:25:00,891] Trial 44 finished with value: 0.2453865336658354 and parameters: {'batch_size': 32, 'learning_rate': 0.008577839282518783, 'dropout_rate': 0.44735543890721585}. Best is trial 42 with value: 0.22493765586034908.\n"
     ]
    },
    {
     "name": "stdout",
     "output_type": "stream",
     "text": [
      "Using downloaded and verified file: ./data\\dermamnist_64.npz\n",
      "Using downloaded and verified file: ./data\\dermamnist_64.npz\n"
     ]
    },
    {
     "name": "stderr",
     "output_type": "stream",
     "text": [
      "[I 2025-01-24 11:25:25,350] Trial 45 finished with value: 0.2438902743142145 and parameters: {'batch_size': 32, 'learning_rate': 0.005435653297167981, 'dropout_rate': 0.3646327401231714}. Best is trial 42 with value: 0.22493765586034908.\n"
     ]
    },
    {
     "name": "stdout",
     "output_type": "stream",
     "text": [
      "Using downloaded and verified file: ./data\\dermamnist_64.npz\n",
      "Using downloaded and verified file: ./data\\dermamnist_64.npz\n"
     ]
    },
    {
     "name": "stderr",
     "output_type": "stream",
     "text": [
      "[I 2025-01-24 11:25:43,051] Trial 46 finished with value: 0.2608478802992519 and parameters: {'batch_size': 128, 'learning_rate': 0.0030113550304862184, 'dropout_rate': 0.23870189230864763}. Best is trial 42 with value: 0.22493765586034908.\n"
     ]
    },
    {
     "name": "stdout",
     "output_type": "stream",
     "text": [
      "Using downloaded and verified file: ./data\\dermamnist_64.npz\n",
      "Using downloaded and verified file: ./data\\dermamnist_64.npz\n"
     ]
    },
    {
     "name": "stderr",
     "output_type": "stream",
     "text": [
      "[I 2025-01-24 11:26:02,820] Trial 47 finished with value: 0.25635910224438907 and parameters: {'batch_size': 64, 'learning_rate': 0.008205751792679843, 'dropout_rate': 0.48517413677789706}. Best is trial 42 with value: 0.22493765586034908.\n"
     ]
    },
    {
     "name": "stdout",
     "output_type": "stream",
     "text": [
      "Using downloaded and verified file: ./data\\dermamnist_64.npz\n",
      "Using downloaded and verified file: ./data\\dermamnist_64.npz\n"
     ]
    },
    {
     "name": "stderr",
     "output_type": "stream",
     "text": [
      "[I 2025-01-24 11:26:27,205] Trial 48 finished with value: 0.2658354114713217 and parameters: {'batch_size': 32, 'learning_rate': 0.00039575463155468757, 'dropout_rate': 0.438100326353174}. Best is trial 42 with value: 0.22493765586034908.\n"
     ]
    },
    {
     "name": "stdout",
     "output_type": "stream",
     "text": [
      "Using downloaded and verified file: ./data\\dermamnist_64.npz\n",
      "Using downloaded and verified file: ./data\\dermamnist_64.npz\n"
     ]
    },
    {
     "name": "stderr",
     "output_type": "stream",
     "text": [
      "[I 2025-01-24 11:26:51,628] Trial 49 finished with value: 0.2324189526184539 and parameters: {'batch_size': 32, 'learning_rate': 0.004910984463777503, 'dropout_rate': 0.34224204352183074}. Best is trial 42 with value: 0.22493765586034908.\n"
     ]
    },
    {
     "name": "stdout",
     "output_type": "stream",
     "text": [
      "Najlepsze hiperparametry:  {'batch_size': 32, 'learning_rate': 0.007081285830831507, 'dropout_rate': 0.44938018500900623}\n",
      "Najlepszy wynik:  0.7750623441396509\n"
     ]
    }
   ],
   "source": [
    "torch.cuda.empty_cache()\n",
    "class CNN(nn.Module):\n",
    "    def __init__(self, dropout_rate):\n",
    "        super(CNN, self).__init__()\n",
    "        self.conv1 = nn.Conv2d(3, 32, kernel_size=3, stride=1, bias=False)\n",
    "        self.bn1 = nn.BatchNorm2d(32)\n",
    "        self.conv2 = nn.Conv2d(32, 64, kernel_size=3, stride=1, padding=1, bias=False)\n",
    "        self.bn2 = nn.BatchNorm2d(64)\n",
    "        self.conv3 = nn.Conv2d(64, 128, kernel_size=2, stride=1, padding=1, bias=False)\n",
    "        self.bn3 = nn.BatchNorm2d(128)\n",
    "        self.pool = nn.MaxPool2d(kernel_size=2)\n",
    "        self.relu = nn.ReLU()\n",
    "        self.dropout = nn.Dropout(dropout_rate)\n",
    "\n",
    "        self.flattened_size = self.get_flattened_size((3, 64, 64))\n",
    "        self.fc1 = nn.Linear(self.flattened_size, 64)\n",
    "        self.fc2 = nn.Linear(64, 7)\n",
    "\n",
    "    def get_flattened_size(self, input_shape):\n",
    "        x = torch.zeros(1, *input_shape)\n",
    "        x = self.pool(self.relu(self.conv1(x)))\n",
    "        x = self.pool(self.relu(self.conv2(x)))\n",
    "        x = self.pool(self.relu(self.conv3(x)))\n",
    "        return x.view(1, -1).size(1)\n",
    "\n",
    "    def forward(self, x):\n",
    "        x = self.relu(self.bn1(self.conv1(x)))\n",
    "        x = self.pool(x)\n",
    "        x = self.relu(self.bn2(self.conv2(x)))\n",
    "        x = self.pool(x)\n",
    "        x = self.relu(self.bn3(self.conv3(x)))\n",
    "        x = self.pool(x)\n",
    "        x = x.view(x.size(0), -1)\n",
    "        x = self.relu(self.fc1(x))\n",
    "        x = self.fc2(x)\n",
    "        return x\n",
    "\n",
    "# Funkcja celu dla Optuny\n",
    "def objective(trial):\n",
    "    # Hiperparametry do tuningu\n",
    "    batch_size = trial.suggest_categorical(\"batch_size\", [32, 64, 128, 256])\n",
    "    learning_rate = trial.suggest_loguniform(\"learning_rate\", 1e-4, 1e-2)\n",
    "    dropout_rate = trial.suggest_uniform(\"dropout_rate\", 0.2, 0.5)\n",
    "\n",
    "    # Dane\n",
    "    transform = transforms.Compose([\n",
    "        transforms.ToTensor(),\n",
    "        transforms.Normalize((0.5,), (0.5,))\n",
    "    ])\n",
    "    train_dataset = DermaMNIST(root='./data', split=\"train\", download=True, transform=transform, size=64)\n",
    "    test_dataset = DermaMNIST(root='./data', split=\"test\", download=True, transform=transform, size=64)\n",
    "    train_loader = DataLoader(train_dataset, batch_size=batch_size, shuffle=True)\n",
    "    test_loader = DataLoader(test_dataset, batch_size=batch_size, shuffle=False)\n",
    "\n",
    "    # Model\n",
    "    model = CNN(dropout_rate).to(device)\n",
    "    criterion = nn.CrossEntropyLoss()\n",
    "    optimizer = optim.SGD(model.parameters(), lr=learning_rate)\n",
    "\n",
    "    # Trening\n",
    "    for epoch in range(10):  # Mała liczba epok do szybkiego tuningu\n",
    "        model.train()\n",
    "        for data, target in train_loader:\n",
    "            data, target = data.to(device), target.to(device)\n",
    "            target = target.long()  # Ensure target is of type torch.long\n",
    "            if len(target.size()) > 1:\n",
    "                target = target.squeeze()  # Remove extra dimensions\n",
    "            optimizer.zero_grad()\n",
    "            outputs = model(data)\n",
    "            loss = criterion(outputs, target)\n",
    "            loss.backward()\n",
    "            optimizer.step()\n",
    "\n",
    "    # Ewaluacja\n",
    "    model.eval()\n",
    "    correct = 0\n",
    "    total = 0\n",
    "    with torch.no_grad():\n",
    "        for data, target in test_loader:\n",
    "            data, target = data.to(device), target.to(device)\n",
    "            target = target.long()  # Ensure target is of type torch.long\n",
    "            if len(target.size()) > 1:\n",
    "                target = target.squeeze()  # Remove extra dimensions\n",
    "            outputs = model(data)\n",
    "            _, predicted = torch.max(outputs, 1)\n",
    "            correct += (predicted == target).sum().item()\n",
    "            total += target.size(0)\n",
    "\n",
    "    accuracy = correct / total\n",
    "    return 1 - accuracy  # Minimalizujemy 1 - accuracy\n",
    "\n",
    "# Główna funkcja\n",
    "if __name__ == \"__main__\":\n",
    "    device = torch.device('cuda' if torch.cuda.is_available() else 'cpu')\n",
    "    study = optuna.create_study(direction=\"minimize\")  # Minimalizacja (1 - accuracy)\n",
    "    study.optimize(objective, n_trials=50)\n",
    "\n",
    "    # Najlepsze hiperparametry\n",
    "    print(\"Najlepsze hiperparametry: \", study.best_params)\n",
    "    print(\"Najlepszy wynik: \", 1 - study.best_value)"
   ]
  }
 ],
 "metadata": {
  "kernelspec": {
   "display_name": "Python 3 (ipykernel)",
   "language": "python",
   "name": "python3"
  },
  "language_info": {
   "codemirror_mode": {
    "name": "ipython",
    "version": 3
   },
   "file_extension": ".py",
   "mimetype": "text/x-python",
   "name": "python",
   "nbconvert_exporter": "python",
   "pygments_lexer": "ipython3",
   "version": "3.12.8"
  }
 },
 "nbformat": 4,
 "nbformat_minor": 5
}
