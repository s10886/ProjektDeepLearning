{
 "cells": [
  {
   "cell_type": "code",
   "execution_count": 1,
   "id": "9ee182e5-0d22-4cd6-bbc6-1964d39f9728",
   "metadata": {},
   "outputs": [],
   "source": [
    "#!pip install neptune\n",
    "#!pip install optuna\n",
    "import torch\n",
    "import torch.nn as nn\n",
    "import numpy as np\n",
    "import torch.optim as optim\n",
    "import matplotlib.pyplot as plt\n",
    "from torch.utils.data import DataLoader\n",
    "from torchvision import datasets, transforms\n",
    "from medmnist import DermaMNIST\n",
    "import random\n",
    "import neptune\n",
    "import itertools\n",
    "import optuna"
   ]
  },
  {
   "cell_type": "code",
   "execution_count": 2,
   "id": "5560781b-2867-43f9-a819-cf17e68fc718",
   "metadata": {},
   "outputs": [
    {
     "name": "stderr",
     "output_type": "stream",
     "text": [
      "[I 2025-01-24 16:22:34,291] A new study created in memory with name: no-name-54c798b0-5ec0-4862-ae66-c3bba9698b24\n",
      "C:\\Users\\Kamil\\AppData\\Local\\Temp\\ipykernel_34100\\2442891932.py:56: FutureWarning: suggest_loguniform has been deprecated in v3.0.0. This feature will be removed in v6.0.0. See https://github.com/optuna/optuna/releases/tag/v3.0.0. Use suggest_float(..., log=True) instead.\n",
      "  learning_rate = trial.suggest_loguniform(\"learning_rate\", 1e-4, 1e-2)\n",
      "C:\\Users\\Kamil\\AppData\\Local\\Temp\\ipykernel_34100\\2442891932.py:57: FutureWarning: suggest_uniform has been deprecated in v3.0.0. This feature will be removed in v6.0.0. See https://github.com/optuna/optuna/releases/tag/v3.0.0. Use suggest_float instead.\n",
      "  dropout_rate = trial.suggest_uniform(\"dropout_rate\", 0.2, 0.5)\n"
     ]
    },
    {
     "name": "stdout",
     "output_type": "stream",
     "text": [
      "Using downloaded and verified file: ./data\\dermamnist_64.npz\n",
      "Using downloaded and verified file: ./data\\dermamnist_64.npz\n"
     ]
    },
    {
     "name": "stderr",
     "output_type": "stream",
     "text": [
      "[I 2025-01-24 16:23:41,679] Trial 0 finished with value: 0.24039900249376556 and parameters: {'batch_size': 64, 'learning_rate': 0.0003359255610995169, 'dropout_rate': 0.27239074012592335}. Best is trial 0 with value: 0.24039900249376556.\n"
     ]
    },
    {
     "name": "stdout",
     "output_type": "stream",
     "text": [
      "Using downloaded and verified file: ./data\\dermamnist_64.npz\n",
      "Using downloaded and verified file: ./data\\dermamnist_64.npz\n"
     ]
    },
    {
     "name": "stderr",
     "output_type": "stream",
     "text": [
      "[I 2025-01-24 16:24:49,103] Trial 1 finished with value: 0.23840399002493762 and parameters: {'batch_size': 64, 'learning_rate': 0.0008351745388035985, 'dropout_rate': 0.39569484252809206}. Best is trial 1 with value: 0.23840399002493762.\n"
     ]
    },
    {
     "name": "stdout",
     "output_type": "stream",
     "text": [
      "Using downloaded and verified file: ./data\\dermamnist_64.npz\n",
      "Using downloaded and verified file: ./data\\dermamnist_64.npz\n"
     ]
    },
    {
     "name": "stderr",
     "output_type": "stream",
     "text": [
      "[I 2025-01-24 16:25:52,420] Trial 2 finished with value: 0.2668329177057357 and parameters: {'batch_size': 256, 'learning_rate': 0.006469660727711885, 'dropout_rate': 0.217722237345904}. Best is trial 1 with value: 0.23840399002493762.\n"
     ]
    },
    {
     "name": "stdout",
     "output_type": "stream",
     "text": [
      "Using downloaded and verified file: ./data\\dermamnist_64.npz\n",
      "Using downloaded and verified file: ./data\\dermamnist_64.npz\n"
     ]
    },
    {
     "name": "stderr",
     "output_type": "stream",
     "text": [
      "[I 2025-01-24 16:27:07,049] Trial 3 finished with value: 0.24039900249376556 and parameters: {'batch_size': 32, 'learning_rate': 0.00017576716241248983, 'dropout_rate': 0.4677274207367229}. Best is trial 1 with value: 0.23840399002493762.\n"
     ]
    },
    {
     "name": "stdout",
     "output_type": "stream",
     "text": [
      "Using downloaded and verified file: ./data\\dermamnist_64.npz\n",
      "Using downloaded and verified file: ./data\\dermamnist_64.npz\n"
     ]
    },
    {
     "name": "stderr",
     "output_type": "stream",
     "text": [
      "[I 2025-01-24 16:28:21,716] Trial 4 finished with value: 0.29526184538653366 and parameters: {'batch_size': 32, 'learning_rate': 0.006793942661109034, 'dropout_rate': 0.42007081030723314}. Best is trial 1 with value: 0.23840399002493762.\n"
     ]
    },
    {
     "name": "stdout",
     "output_type": "stream",
     "text": [
      "Using downloaded and verified file: ./data\\dermamnist_64.npz\n",
      "Using downloaded and verified file: ./data\\dermamnist_64.npz\n"
     ]
    },
    {
     "name": "stderr",
     "output_type": "stream",
     "text": [
      "[I 2025-01-24 16:29:34,676] Trial 5 finished with value: 0.2957605985037407 and parameters: {'batch_size': 32, 'learning_rate': 0.00655535636809971, 'dropout_rate': 0.4581518582984663}. Best is trial 1 with value: 0.23840399002493762.\n"
     ]
    },
    {
     "name": "stdout",
     "output_type": "stream",
     "text": [
      "Using downloaded and verified file: ./data\\dermamnist_64.npz\n",
      "Using downloaded and verified file: ./data\\dermamnist_64.npz\n"
     ]
    },
    {
     "name": "stderr",
     "output_type": "stream",
     "text": [
      "[I 2025-01-24 16:30:51,976] Trial 6 finished with value: 0.2882793017456359 and parameters: {'batch_size': 64, 'learning_rate': 0.00624709918239175, 'dropout_rate': 0.22989412263149184}. Best is trial 1 with value: 0.23840399002493762.\n"
     ]
    },
    {
     "name": "stdout",
     "output_type": "stream",
     "text": [
      "Using downloaded and verified file: ./data\\dermamnist_64.npz\n",
      "Using downloaded and verified file: ./data\\dermamnist_64.npz\n"
     ]
    },
    {
     "name": "stderr",
     "output_type": "stream",
     "text": [
      "[I 2025-01-24 16:32:07,698] Trial 7 finished with value: 0.2508728179551122 and parameters: {'batch_size': 256, 'learning_rate': 0.00014425854863902633, 'dropout_rate': 0.28608495805809414}. Best is trial 1 with value: 0.23840399002493762.\n"
     ]
    },
    {
     "name": "stdout",
     "output_type": "stream",
     "text": [
      "Using downloaded and verified file: ./data\\dermamnist_64.npz\n",
      "Using downloaded and verified file: ./data\\dermamnist_64.npz\n"
     ]
    },
    {
     "name": "stderr",
     "output_type": "stream",
     "text": [
      "[I 2025-01-24 16:33:23,869] Trial 8 finished with value: 0.25785536159600997 and parameters: {'batch_size': 256, 'learning_rate': 0.00038733857535251724, 'dropout_rate': 0.21643688291572977}. Best is trial 1 with value: 0.23840399002493762.\n"
     ]
    },
    {
     "name": "stdout",
     "output_type": "stream",
     "text": [
      "Using downloaded and verified file: ./data\\dermamnist_64.npz\n",
      "Using downloaded and verified file: ./data\\dermamnist_64.npz\n"
     ]
    },
    {
     "name": "stderr",
     "output_type": "stream",
     "text": [
      "[I 2025-01-24 16:34:55,432] Trial 9 finished with value: 0.25885286783042394 and parameters: {'batch_size': 32, 'learning_rate': 0.00017366686129835138, 'dropout_rate': 0.441917882090494}. Best is trial 1 with value: 0.23840399002493762.\n"
     ]
    },
    {
     "name": "stdout",
     "output_type": "stream",
     "text": [
      "Using downloaded and verified file: ./data\\dermamnist_64.npz\n",
      "Using downloaded and verified file: ./data\\dermamnist_64.npz\n"
     ]
    },
    {
     "name": "stderr",
     "output_type": "stream",
     "text": [
      "[I 2025-01-24 16:36:16,466] Trial 10 finished with value: 0.26783042394014966 and parameters: {'batch_size': 128, 'learning_rate': 0.0018158895896033143, 'dropout_rate': 0.3726726552580299}. Best is trial 1 with value: 0.23840399002493762.\n"
     ]
    },
    {
     "name": "stdout",
     "output_type": "stream",
     "text": [
      "Using downloaded and verified file: ./data\\dermamnist_64.npz\n",
      "Using downloaded and verified file: ./data\\dermamnist_64.npz\n"
     ]
    },
    {
     "name": "stderr",
     "output_type": "stream",
     "text": [
      "[I 2025-01-24 16:37:42,530] Trial 11 finished with value: 0.2553615960099751 and parameters: {'batch_size': 64, 'learning_rate': 0.0009729291695980013, 'dropout_rate': 0.3191192284756068}. Best is trial 1 with value: 0.23840399002493762.\n"
     ]
    },
    {
     "name": "stdout",
     "output_type": "stream",
     "text": [
      "Using downloaded and verified file: ./data\\dermamnist_64.npz\n",
      "Using downloaded and verified file: ./data\\dermamnist_64.npz\n"
     ]
    },
    {
     "name": "stderr",
     "output_type": "stream",
     "text": [
      "[I 2025-01-24 16:39:08,488] Trial 12 finished with value: 0.2438902743142145 and parameters: {'batch_size': 64, 'learning_rate': 0.0007141034829586403, 'dropout_rate': 0.35976376390006454}. Best is trial 1 with value: 0.23840399002493762.\n"
     ]
    },
    {
     "name": "stdout",
     "output_type": "stream",
     "text": [
      "Using downloaded and verified file: ./data\\dermamnist_64.npz\n",
      "Using downloaded and verified file: ./data\\dermamnist_64.npz\n"
     ]
    },
    {
     "name": "stderr",
     "output_type": "stream",
     "text": [
      "[I 2025-01-24 16:40:33,043] Trial 13 finished with value: 0.25037406483790525 and parameters: {'batch_size': 64, 'learning_rate': 0.0003892535764946251, 'dropout_rate': 0.2944924732905701}. Best is trial 1 with value: 0.23840399002493762.\n"
     ]
    },
    {
     "name": "stdout",
     "output_type": "stream",
     "text": [
      "Using downloaded and verified file: ./data\\dermamnist_64.npz\n",
      "Using downloaded and verified file: ./data\\dermamnist_64.npz\n"
     ]
    },
    {
     "name": "stderr",
     "output_type": "stream",
     "text": [
      "[I 2025-01-24 16:41:43,647] Trial 14 finished with value: 0.24289276807980054 and parameters: {'batch_size': 64, 'learning_rate': 0.0021713219764488497, 'dropout_rate': 0.39447006546115476}. Best is trial 1 with value: 0.23840399002493762.\n"
     ]
    },
    {
     "name": "stdout",
     "output_type": "stream",
     "text": [
      "Using downloaded and verified file: ./data\\dermamnist_64.npz\n",
      "Using downloaded and verified file: ./data\\dermamnist_64.npz\n"
     ]
    },
    {
     "name": "stderr",
     "output_type": "stream",
     "text": [
      "[I 2025-01-24 16:42:54,505] Trial 15 finished with value: 0.23291770573566084 and parameters: {'batch_size': 128, 'learning_rate': 0.00040396766031429405, 'dropout_rate': 0.27538194179885034}. Best is trial 15 with value: 0.23291770573566084.\n"
     ]
    },
    {
     "name": "stdout",
     "output_type": "stream",
     "text": [
      "Using downloaded and verified file: ./data\\dermamnist_64.npz\n",
      "Using downloaded and verified file: ./data\\dermamnist_64.npz\n"
     ]
    },
    {
     "name": "stderr",
     "output_type": "stream",
     "text": [
      "[I 2025-01-24 16:44:02,451] Trial 16 finished with value: 0.2817955112219451 and parameters: {'batch_size': 128, 'learning_rate': 0.0017404232742209522, 'dropout_rate': 0.33750201089398746}. Best is trial 15 with value: 0.23291770573566084.\n"
     ]
    },
    {
     "name": "stdout",
     "output_type": "stream",
     "text": [
      "Using downloaded and verified file: ./data\\dermamnist_64.npz\n",
      "Using downloaded and verified file: ./data\\dermamnist_64.npz\n"
     ]
    },
    {
     "name": "stderr",
     "output_type": "stream",
     "text": [
      "[I 2025-01-24 16:45:10,404] Trial 17 finished with value: 0.26334164588528675 and parameters: {'batch_size': 128, 'learning_rate': 0.0006297061770642313, 'dropout_rate': 0.2615484570490549}. Best is trial 15 with value: 0.23291770573566084.\n"
     ]
    },
    {
     "name": "stdout",
     "output_type": "stream",
     "text": [
      "Using downloaded and verified file: ./data\\dermamnist_64.npz\n",
      "Using downloaded and verified file: ./data\\dermamnist_64.npz\n"
     ]
    },
    {
     "name": "stderr",
     "output_type": "stream",
     "text": [
      "[I 2025-01-24 16:46:18,811] Trial 18 finished with value: 0.2753117206982544 and parameters: {'batch_size': 128, 'learning_rate': 0.0027834158606879, 'dropout_rate': 0.4994883566268071}. Best is trial 15 with value: 0.23291770573566084.\n"
     ]
    },
    {
     "name": "stdout",
     "output_type": "stream",
     "text": [
      "Using downloaded and verified file: ./data\\dermamnist_64.npz\n",
      "Using downloaded and verified file: ./data\\dermamnist_64.npz\n"
     ]
    },
    {
     "name": "stderr",
     "output_type": "stream",
     "text": [
      "[I 2025-01-24 16:47:27,050] Trial 19 finished with value: 0.2423940149625935 and parameters: {'batch_size': 128, 'learning_rate': 0.00010414348327774208, 'dropout_rate': 0.39910888837745667}. Best is trial 15 with value: 0.23291770573566084.\n"
     ]
    },
    {
     "name": "stdout",
     "output_type": "stream",
     "text": [
      "Using downloaded and verified file: ./data\\dermamnist_64.npz\n",
      "Using downloaded and verified file: ./data\\dermamnist_64.npz\n"
     ]
    },
    {
     "name": "stderr",
     "output_type": "stream",
     "text": [
      "[I 2025-01-24 16:48:34,466] Trial 20 finished with value: 0.25037406483790525 and parameters: {'batch_size': 128, 'learning_rate': 0.0011390633598559134, 'dropout_rate': 0.31781603463966945}. Best is trial 15 with value: 0.23291770573566084.\n"
     ]
    },
    {
     "name": "stdout",
     "output_type": "stream",
     "text": [
      "Using downloaded and verified file: ./data\\dermamnist_64.npz\n",
      "Using downloaded and verified file: ./data\\dermamnist_64.npz\n"
     ]
    },
    {
     "name": "stderr",
     "output_type": "stream",
     "text": [
      "[I 2025-01-24 16:49:45,177] Trial 21 finished with value: 0.24438902743142144 and parameters: {'batch_size': 64, 'learning_rate': 0.0003484714354093259, 'dropout_rate': 0.2682914094671648}. Best is trial 15 with value: 0.23291770573566084.\n"
     ]
    },
    {
     "name": "stdout",
     "output_type": "stream",
     "text": [
      "Using downloaded and verified file: ./data\\dermamnist_64.npz\n",
      "Using downloaded and verified file: ./data\\dermamnist_64.npz\n"
     ]
    },
    {
     "name": "stderr",
     "output_type": "stream",
     "text": [
      "[I 2025-01-24 16:50:57,103] Trial 22 finished with value: 0.24189526184538657 and parameters: {'batch_size': 64, 'learning_rate': 0.0002942629493463909, 'dropout_rate': 0.24537632104436813}. Best is trial 15 with value: 0.23291770573566084.\n"
     ]
    },
    {
     "name": "stdout",
     "output_type": "stream",
     "text": [
      "Using downloaded and verified file: ./data\\dermamnist_64.npz\n",
      "Using downloaded and verified file: ./data\\dermamnist_64.npz\n"
     ]
    },
    {
     "name": "stderr",
     "output_type": "stream",
     "text": [
      "[I 2025-01-24 16:52:07,888] Trial 23 finished with value: 0.24638403990024937 and parameters: {'batch_size': 64, 'learning_rate': 0.0005749067780783135, 'dropout_rate': 0.30089588988409705}. Best is trial 15 with value: 0.23291770573566084.\n"
     ]
    },
    {
     "name": "stdout",
     "output_type": "stream",
     "text": [
      "Using downloaded and verified file: ./data\\dermamnist_64.npz\n",
      "Using downloaded and verified file: ./data\\dermamnist_64.npz\n"
     ]
    },
    {
     "name": "stderr",
     "output_type": "stream",
     "text": [
      "[I 2025-01-24 16:53:17,801] Trial 24 finished with value: 0.2498753117206982 and parameters: {'batch_size': 64, 'learning_rate': 0.0002636062897682687, 'dropout_rate': 0.3500895690412229}. Best is trial 15 with value: 0.23291770573566084.\n"
     ]
    },
    {
     "name": "stdout",
     "output_type": "stream",
     "text": [
      "Using downloaded and verified file: ./data\\dermamnist_64.npz\n",
      "Using downloaded and verified file: ./data\\dermamnist_64.npz\n"
     ]
    },
    {
     "name": "stderr",
     "output_type": "stream",
     "text": [
      "[I 2025-01-24 16:54:29,149] Trial 25 finished with value: 0.2523690773067332 and parameters: {'batch_size': 64, 'learning_rate': 0.0010370715919181114, 'dropout_rate': 0.2570097799144205}. Best is trial 15 with value: 0.23291770573566084.\n"
     ]
    },
    {
     "name": "stdout",
     "output_type": "stream",
     "text": [
      "Using downloaded and verified file: ./data\\dermamnist_64.npz\n",
      "Using downloaded and verified file: ./data\\dermamnist_64.npz\n"
     ]
    },
    {
     "name": "stderr",
     "output_type": "stream",
     "text": [
      "[I 2025-01-24 16:55:36,468] Trial 26 finished with value: 0.24688279301745641 and parameters: {'batch_size': 128, 'learning_rate': 0.00022407723970657416, 'dropout_rate': 0.37639588725569295}. Best is trial 15 with value: 0.23291770573566084.\n"
     ]
    },
    {
     "name": "stdout",
     "output_type": "stream",
     "text": [
      "Using downloaded and verified file: ./data\\dermamnist_64.npz\n",
      "Using downloaded and verified file: ./data\\dermamnist_64.npz\n"
     ]
    },
    {
     "name": "stderr",
     "output_type": "stream",
     "text": [
      "[I 2025-01-24 16:56:42,094] Trial 27 finished with value: 0.25735660847880304 and parameters: {'batch_size': 256, 'learning_rate': 0.0005260861584739035, 'dropout_rate': 0.3199051596778452}. Best is trial 15 with value: 0.23291770573566084.\n"
     ]
    },
    {
     "name": "stdout",
     "output_type": "stream",
     "text": [
      "Using downloaded and verified file: ./data\\dermamnist_64.npz\n",
      "Using downloaded and verified file: ./data\\dermamnist_64.npz\n"
     ]
    },
    {
     "name": "stderr",
     "output_type": "stream",
     "text": [
      "[I 2025-01-24 16:57:51,975] Trial 28 finished with value: 0.2513715710723192 and parameters: {'batch_size': 64, 'learning_rate': 0.0007696912469662014, 'dropout_rate': 0.2802276082366624}. Best is trial 15 with value: 0.23291770573566084.\n"
     ]
    },
    {
     "name": "stdout",
     "output_type": "stream",
     "text": [
      "Using downloaded and verified file: ./data\\dermamnist_64.npz\n",
      "Using downloaded and verified file: ./data\\dermamnist_64.npz\n"
     ]
    },
    {
     "name": "stderr",
     "output_type": "stream",
     "text": [
      "[I 2025-01-24 16:58:59,394] Trial 29 finished with value: 0.24887780548628424 and parameters: {'batch_size': 256, 'learning_rate': 0.000478631895689884, 'dropout_rate': 0.20641360866763978}. Best is trial 15 with value: 0.23291770573566084.\n"
     ]
    },
    {
     "name": "stdout",
     "output_type": "stream",
     "text": [
      "Using downloaded and verified file: ./data\\dermamnist_64.npz\n",
      "Using downloaded and verified file: ./data\\dermamnist_64.npz\n"
     ]
    },
    {
     "name": "stderr",
     "output_type": "stream",
     "text": [
      "[I 2025-01-24 17:00:06,038] Trial 30 finished with value: 0.29226932668329175 and parameters: {'batch_size': 128, 'learning_rate': 0.004037798106724615, 'dropout_rate': 0.23507806736423775}. Best is trial 15 with value: 0.23291770573566084.\n"
     ]
    },
    {
     "name": "stdout",
     "output_type": "stream",
     "text": [
      "Using downloaded and verified file: ./data\\dermamnist_64.npz\n",
      "Using downloaded and verified file: ./data\\dermamnist_64.npz\n"
     ]
    },
    {
     "name": "stderr",
     "output_type": "stream",
     "text": [
      "[I 2025-01-24 17:01:20,812] Trial 31 finished with value: 0.22892768079800496 and parameters: {'batch_size': 32, 'learning_rate': 0.00018826581273916093, 'dropout_rate': 0.4906930122104726}. Best is trial 31 with value: 0.22892768079800496.\n"
     ]
    },
    {
     "name": "stdout",
     "output_type": "stream",
     "text": [
      "Using downloaded and verified file: ./data\\dermamnist_64.npz\n",
      "Using downloaded and verified file: ./data\\dermamnist_64.npz\n"
     ]
    },
    {
     "name": "stderr",
     "output_type": "stream",
     "text": [
      "[I 2025-01-24 17:02:37,161] Trial 32 finished with value: 0.2713216957605985 and parameters: {'batch_size': 32, 'learning_rate': 0.00022424966170075331, 'dropout_rate': 0.4753621717164744}. Best is trial 31 with value: 0.22892768079800496.\n"
     ]
    },
    {
     "name": "stdout",
     "output_type": "stream",
     "text": [
      "Using downloaded and verified file: ./data\\dermamnist_64.npz\n",
      "Using downloaded and verified file: ./data\\dermamnist_64.npz\n"
     ]
    },
    {
     "name": "stderr",
     "output_type": "stream",
     "text": [
      "[I 2025-01-24 17:03:52,483] Trial 33 finished with value: 0.2394014962593516 and parameters: {'batch_size': 32, 'learning_rate': 0.00010575179875629811, 'dropout_rate': 0.417962813987216}. Best is trial 31 with value: 0.22892768079800496.\n"
     ]
    },
    {
     "name": "stdout",
     "output_type": "stream",
     "text": [
      "Using downloaded and verified file: ./data\\dermamnist_64.npz\n",
      "Using downloaded and verified file: ./data\\dermamnist_64.npz\n"
     ]
    },
    {
     "name": "stderr",
     "output_type": "stream",
     "text": [
      "[I 2025-01-24 17:05:07,453] Trial 34 finished with value: 0.24738154613466334 and parameters: {'batch_size': 32, 'learning_rate': 0.00011144979226825439, 'dropout_rate': 0.42847076984295457}. Best is trial 31 with value: 0.22892768079800496.\n"
     ]
    },
    {
     "name": "stdout",
     "output_type": "stream",
     "text": [
      "Using downloaded and verified file: ./data\\dermamnist_64.npz\n",
      "Using downloaded and verified file: ./data\\dermamnist_64.npz\n"
     ]
    },
    {
     "name": "stderr",
     "output_type": "stream",
     "text": [
      "[I 2025-01-24 17:06:23,727] Trial 35 finished with value: 0.24189526184538657 and parameters: {'batch_size': 32, 'learning_rate': 0.0001388437833938847, 'dropout_rate': 0.4073399164741286}. Best is trial 31 with value: 0.22892768079800496.\n"
     ]
    },
    {
     "name": "stdout",
     "output_type": "stream",
     "text": [
      "Using downloaded and verified file: ./data\\dermamnist_64.npz\n",
      "Using downloaded and verified file: ./data\\dermamnist_64.npz\n"
     ]
    },
    {
     "name": "stderr",
     "output_type": "stream",
     "text": [
      "[I 2025-01-24 17:07:42,994] Trial 36 finished with value: 0.24189526184538657 and parameters: {'batch_size': 32, 'learning_rate': 0.00021119270747135474, 'dropout_rate': 0.4867359254902174}. Best is trial 31 with value: 0.22892768079800496.\n"
     ]
    },
    {
     "name": "stdout",
     "output_type": "stream",
     "text": [
      "Using downloaded and verified file: ./data\\dermamnist_64.npz\n",
      "Using downloaded and verified file: ./data\\dermamnist_64.npz\n"
     ]
    },
    {
     "name": "stderr",
     "output_type": "stream",
     "text": [
      "[I 2025-01-24 17:09:04,977] Trial 37 finished with value: 0.2508728179551122 and parameters: {'batch_size': 32, 'learning_rate': 0.00014007632727429904, 'dropout_rate': 0.4461896596919043}. Best is trial 31 with value: 0.22892768079800496.\n"
     ]
    },
    {
     "name": "stdout",
     "output_type": "stream",
     "text": [
      "Using downloaded and verified file: ./data\\dermamnist_64.npz\n",
      "Using downloaded and verified file: ./data\\dermamnist_64.npz\n"
     ]
    },
    {
     "name": "stderr",
     "output_type": "stream",
     "text": [
      "[I 2025-01-24 17:10:29,601] Trial 38 finished with value: 0.2523690773067332 and parameters: {'batch_size': 32, 'learning_rate': 0.0001636829650987753, 'dropout_rate': 0.42247722703073404}. Best is trial 31 with value: 0.22892768079800496.\n"
     ]
    },
    {
     "name": "stdout",
     "output_type": "stream",
     "text": [
      "Using downloaded and verified file: ./data\\dermamnist_64.npz\n",
      "Using downloaded and verified file: ./data\\dermamnist_64.npz\n"
     ]
    },
    {
     "name": "stderr",
     "output_type": "stream",
     "text": [
      "[I 2025-01-24 17:11:45,774] Trial 39 finished with value: 0.258354114713217 and parameters: {'batch_size': 32, 'learning_rate': 0.0013140517354867148, 'dropout_rate': 0.45811269152966755}. Best is trial 31 with value: 0.22892768079800496.\n"
     ]
    },
    {
     "name": "stdout",
     "output_type": "stream",
     "text": [
      "Using downloaded and verified file: ./data\\dermamnist_64.npz\n",
      "Using downloaded and verified file: ./data\\dermamnist_64.npz\n"
     ]
    },
    {
     "name": "stderr",
     "output_type": "stream",
     "text": [
      "[I 2025-01-24 17:13:00,774] Trial 40 finished with value: 0.2438902743142145 and parameters: {'batch_size': 32, 'learning_rate': 0.000299363612025931, 'dropout_rate': 0.385462737059847}. Best is trial 31 with value: 0.22892768079800496.\n"
     ]
    },
    {
     "name": "stdout",
     "output_type": "stream",
     "text": [
      "Using downloaded and verified file: ./data\\dermamnist_64.npz\n",
      "Using downloaded and verified file: ./data\\dermamnist_64.npz\n"
     ]
    },
    {
     "name": "stderr",
     "output_type": "stream",
     "text": [
      "[I 2025-01-24 17:14:22,295] Trial 41 finished with value: 0.2773067331670823 and parameters: {'batch_size': 32, 'learning_rate': 0.00038426994747080994, 'dropout_rate': 0.4400049792986813}. Best is trial 31 with value: 0.22892768079800496.\n"
     ]
    },
    {
     "name": "stdout",
     "output_type": "stream",
     "text": [
      "Using downloaded and verified file: ./data\\dermamnist_64.npz\n",
      "Using downloaded and verified file: ./data\\dermamnist_64.npz\n"
     ]
    },
    {
     "name": "stderr",
     "output_type": "stream",
     "text": [
      "[I 2025-01-24 17:15:30,050] Trial 42 finished with value: 0.23740648379052365 and parameters: {'batch_size': 256, 'learning_rate': 0.00019662975392971266, 'dropout_rate': 0.410028316492245}. Best is trial 31 with value: 0.22892768079800496.\n"
     ]
    },
    {
     "name": "stdout",
     "output_type": "stream",
     "text": [
      "Using downloaded and verified file: ./data\\dermamnist_64.npz\n",
      "Using downloaded and verified file: ./data\\dermamnist_64.npz\n"
     ]
    },
    {
     "name": "stderr",
     "output_type": "stream",
     "text": [
      "[I 2025-01-24 17:16:36,569] Trial 43 finished with value: 0.24339152119700747 and parameters: {'batch_size': 256, 'learning_rate': 0.00012513199207455326, 'dropout_rate': 0.4066623949612974}. Best is trial 31 with value: 0.22892768079800496.\n"
     ]
    },
    {
     "name": "stdout",
     "output_type": "stream",
     "text": [
      "Using downloaded and verified file: ./data\\dermamnist_64.npz\n",
      "Using downloaded and verified file: ./data\\dermamnist_64.npz\n"
     ]
    },
    {
     "name": "stderr",
     "output_type": "stream",
     "text": [
      "[I 2025-01-24 17:17:41,339] Trial 44 finished with value: 0.30074812967581044 and parameters: {'batch_size': 256, 'learning_rate': 0.009344841111317118, 'dropout_rate': 0.36641290369908874}. Best is trial 31 with value: 0.22892768079800496.\n"
     ]
    },
    {
     "name": "stdout",
     "output_type": "stream",
     "text": [
      "Using downloaded and verified file: ./data\\dermamnist_64.npz\n",
      "Using downloaded and verified file: ./data\\dermamnist_64.npz\n"
     ]
    },
    {
     "name": "stderr",
     "output_type": "stream",
     "text": [
      "[I 2025-01-24 17:18:48,858] Trial 45 finished with value: 0.24289276807980054 and parameters: {'batch_size': 256, 'learning_rate': 0.00018679756957336348, 'dropout_rate': 0.46052840830587555}. Best is trial 31 with value: 0.22892768079800496.\n"
     ]
    },
    {
     "name": "stdout",
     "output_type": "stream",
     "text": [
      "Using downloaded and verified file: ./data\\dermamnist_64.npz\n",
      "Using downloaded and verified file: ./data\\dermamnist_64.npz\n"
     ]
    },
    {
     "name": "stderr",
     "output_type": "stream",
     "text": [
      "[I 2025-01-24 17:19:53,659] Trial 46 finished with value: 0.256857855361596 and parameters: {'batch_size': 256, 'learning_rate': 0.00024445271507046116, 'dropout_rate': 0.34206761336523245}. Best is trial 31 with value: 0.22892768079800496.\n"
     ]
    },
    {
     "name": "stdout",
     "output_type": "stream",
     "text": [
      "Using downloaded and verified file: ./data\\dermamnist_64.npz\n",
      "Using downloaded and verified file: ./data\\dermamnist_64.npz\n"
     ]
    },
    {
     "name": "stderr",
     "output_type": "stream",
     "text": [
      "[I 2025-01-24 17:21:08,449] Trial 47 finished with value: 0.26334164588528675 and parameters: {'batch_size': 32, 'learning_rate': 0.00017514593214175046, 'dropout_rate': 0.3854334798759916}. Best is trial 31 with value: 0.22892768079800496.\n"
     ]
    },
    {
     "name": "stdout",
     "output_type": "stream",
     "text": [
      "Using downloaded and verified file: ./data\\dermamnist_64.npz\n",
      "Using downloaded and verified file: ./data\\dermamnist_64.npz\n"
     ]
    },
    {
     "name": "stderr",
     "output_type": "stream",
     "text": [
      "[I 2025-01-24 17:22:15,012] Trial 48 finished with value: 0.24139650872817953 and parameters: {'batch_size': 256, 'learning_rate': 0.000791091953195575, 'dropout_rate': 0.41351546938072986}. Best is trial 31 with value: 0.22892768079800496.\n"
     ]
    },
    {
     "name": "stdout",
     "output_type": "stream",
     "text": [
      "Using downloaded and verified file: ./data\\dermamnist_64.npz\n",
      "Using downloaded and verified file: ./data\\dermamnist_64.npz\n"
     ]
    },
    {
     "name": "stderr",
     "output_type": "stream",
     "text": [
      "[I 2025-01-24 17:23:23,540] Trial 49 finished with value: 0.2483790523690773 and parameters: {'batch_size': 128, 'learning_rate': 0.0004531328278595781, 'dropout_rate': 0.4398564016706555}. Best is trial 31 with value: 0.22892768079800496.\n"
     ]
    },
    {
     "name": "stdout",
     "output_type": "stream",
     "text": [
      "Najlepsze hiperparametry:  {'batch_size': 32, 'learning_rate': 0.00018826581273916093, 'dropout_rate': 0.4906930122104726}\n",
      "Najlepszy wynik:  0.771072319201995\n"
     ]
    }
   ],
   "source": [
    "torch.cuda.empty_cache()\n",
    "class CNN(nn.Module):\n",
    "    def __init__(self, dropout_rate):\n",
    "        super(CNN, self).__init__()\n",
    "        self.conv1 = nn.Conv2d(3, 32, kernel_size=3, stride=1, bias=False)\n",
    "        self.bn1 = nn.BatchNorm2d(32)\n",
    "        self.conv2 = nn.Conv2d(32, 64, kernel_size=3, stride=1, padding=1, bias=False)\n",
    "        self.bn2 = nn.BatchNorm2d(64)\n",
    "        self.conv3 = nn.Conv2d(64, 128, kernel_size=3, stride=1, padding=1, bias=False)\n",
    "        self.bn3 = nn.BatchNorm2d(128)\n",
    "        self.conv4 = nn.Conv2d(128, 256, kernel_size=3, stride=1, padding=1, bias=False)\n",
    "        self.bn4 = nn.BatchNorm2d(256)\n",
    "        self.conv5 = nn.Conv2d(256, 512, kernel_size=3, stride=1, padding=1, bias=False)\n",
    "        self.bn5 = nn.BatchNorm2d(512)\n",
    "\n",
    "        self.pool = nn.MaxPool2d(kernel_size=2)\n",
    "        self.relu = nn.ReLU()\n",
    "        self.dropout = nn.Dropout(0.5)\n",
    "\n",
    "        # Oblicz rozmiar spłaszczonego tensora\n",
    "        self.flattened_size = self.get_flattened_size((3, 64, 64))\n",
    "        self.fc1 = nn.Linear(self.flattened_size, 256)\n",
    "        self.fc2 = nn.Linear(256, 128)\n",
    "        self.fc3 = nn.Linear(128, 7)  # 7 klas w DermaMNIST\n",
    "\n",
    "    def get_flattened_size(self, input_shape):\n",
    "        x = torch.zeros(1, *input_shape)\n",
    "        x = self.pool(self.relu(self.conv1(x)))\n",
    "        x = self.pool(self.relu(self.conv2(x)))\n",
    "        x = self.pool(self.relu(self.conv3(x)))\n",
    "        x = self.pool(self.relu(self.conv4(x)))\n",
    "        x = self.pool(self.relu(self.conv5(x)))\n",
    "        return x.view(1, -1).size(1)\n",
    "\n",
    "    def forward(self, x):\n",
    "        x = self.relu(self.bn1(self.conv1(x)))\n",
    "        x = self.pool(x)\n",
    "        x = self.relu(self.bn2(self.conv2(x)))\n",
    "        x = self.pool(x)\n",
    "        x = self.relu(self.bn3(self.conv3(x)))\n",
    "        x = self.pool(x)\n",
    "        x = self.relu(self.bn4(self.conv4(x)))\n",
    "        x = self.pool(x)\n",
    "        x = self.relu(self.bn5(self.conv5(x)))\n",
    "        x = self.pool(x)\n",
    "        x = x.view(x.size(0), -1)\n",
    "        x = self.relu(self.fc1(x))\n",
    "        x = self.relu(self.fc2(x))\n",
    "        x = self.fc3(x)\n",
    "        return x\n",
    "\n",
    "# Funkcja celu dla Optuny\n",
    "def objective(trial):\n",
    "    # Hiperparametry do tuningu\n",
    "    batch_size = trial.suggest_categorical(\"batch_size\", [32, 64, 128, 256])\n",
    "    learning_rate = trial.suggest_loguniform(\"learning_rate\", 1e-4, 1e-2)\n",
    "    dropout_rate = trial.suggest_uniform(\"dropout_rate\", 0.2, 0.5)\n",
    "\n",
    "    # Dane\n",
    "    transform = transforms.Compose([\n",
    "        transforms.ToTensor(),\n",
    "        transforms.RandomHorizontalFlip(p=0.5),\n",
    "        transforms.RandomRotation(10),\n",
    "        transforms.RandomAutocontrast(p=0.5),\n",
    "        transforms.RandomVerticalFlip(p=0.5),\n",
    "        transforms.Normalize((0.5,), (0.5,))\n",
    "    ])\n",
    "    train_dataset = DermaMNIST(root='./data', split=\"train\", download=True, transform=transform, size=64)\n",
    "    test_dataset = DermaMNIST(root='./data', split=\"test\", download=True, transform=transform, size=64)\n",
    "    train_loader = DataLoader(train_dataset, batch_size=batch_size, shuffle=True)\n",
    "    test_loader = DataLoader(test_dataset, batch_size=batch_size, shuffle=False)\n",
    "\n",
    "    # Model\n",
    "    model = CNN(dropout_rate).to(device)\n",
    "    criterion = nn.CrossEntropyLoss()\n",
    "    optimizer = optim.AdamW(model.parameters(), lr=learning_rate)\n",
    "\n",
    "    # Trening\n",
    "    for epoch in range(10):  # Mała liczba epok do szybkiego tuningu\n",
    "        model.train()\n",
    "        for data, target in train_loader:\n",
    "            data, target = data.to(device), target.to(device)\n",
    "            target = target.long()  # Ensure target is of type torch.long\n",
    "            if len(target.size()) > 1:\n",
    "                target = target.squeeze()  # Remove extra dimensions\n",
    "            optimizer.zero_grad()\n",
    "            outputs = model(data)\n",
    "            loss = criterion(outputs, target)\n",
    "            loss.backward()\n",
    "            optimizer.step()\n",
    "\n",
    "    # Ewaluacja\n",
    "    model.eval()\n",
    "    correct = 0\n",
    "    total = 0\n",
    "    with torch.no_grad():\n",
    "        for data, target in test_loader:\n",
    "            data, target = data.to(device), target.to(device)\n",
    "            target = target.long()  # Ensure target is of type torch.long\n",
    "            if len(target.size()) > 1:\n",
    "                target = target.squeeze()  # Remove extra dimensions\n",
    "            outputs = model(data)\n",
    "            _, predicted = torch.max(outputs, 1)\n",
    "            correct += (predicted == target).sum().item()\n",
    "            total += target.size(0)\n",
    "\n",
    "    accuracy = correct / total\n",
    "    return 1 - accuracy  # Minimalizujemy 1 - accuracy\n",
    "\n",
    "# Główna funkcja\n",
    "if __name__ == \"__main__\":\n",
    "    device = torch.device('cuda' if torch.cuda.is_available() else 'cpu')\n",
    "    study = optuna.create_study(direction=\"minimize\")  # Minimalizacja (1 - accuracy)\n",
    "    study.optimize(objective, n_trials=50)\n",
    "\n",
    "    # Najlepsze hiperparametry\n",
    "    print(\"Najlepsze hiperparametry: \", study.best_params)\n",
    "    print(\"Najlepszy wynik: \", 1 - study.best_value)"
   ]
  }
 ],
 "metadata": {
  "kernelspec": {
   "display_name": "Python 3 (ipykernel)",
   "language": "python",
   "name": "python3"
  },
  "language_info": {
   "codemirror_mode": {
    "name": "ipython",
    "version": 3
   },
   "file_extension": ".py",
   "mimetype": "text/x-python",
   "name": "python",
   "nbconvert_exporter": "python",
   "pygments_lexer": "ipython3",
   "version": "3.12.8"
  }
 },
 "nbformat": 4,
 "nbformat_minor": 5
}
