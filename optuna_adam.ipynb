{
 "cells": [
  {
   "cell_type": "code",
   "execution_count": 1,
   "id": "9ee182e5-0d22-4cd6-bbc6-1964d39f9728",
   "metadata": {},
   "outputs": [],
   "source": [
    "#!pip install neptune\n",
    "#!pip install optuna\n",
    "import torch\n",
    "import torch.nn as nn\n",
    "import numpy as np\n",
    "import torch.optim as optim\n",
    "import matplotlib.pyplot as plt\n",
    "from torch.utils.data import DataLoader\n",
    "from torchvision import datasets, transforms\n",
    "from medmnist import DermaMNIST\n",
    "import random\n",
    "import neptune\n",
    "import itertools\n",
    "import optuna"
   ]
  },
  {
   "cell_type": "code",
   "execution_count": 2,
   "id": "5560781b-2867-43f9-a819-cf17e68fc718",
   "metadata": {},
   "outputs": [
    {
     "name": "stderr",
     "output_type": "stream",
     "text": [
      "[I 2025-01-24 11:57:50,961] A new study created in memory with name: no-name-d28e7835-6306-423e-9b66-d7467e368051\n",
      "C:\\Users\\Kamil\\AppData\\Local\\Temp\\ipykernel_34776\\4284873989.py:42: FutureWarning: suggest_loguniform has been deprecated in v3.0.0. This feature will be removed in v6.0.0. See https://github.com/optuna/optuna/releases/tag/v3.0.0. Use suggest_float(..., log=True) instead.\n",
      "  learning_rate = trial.suggest_loguniform(\"learning_rate\", 1e-4, 1e-2)\n",
      "C:\\Users\\Kamil\\AppData\\Local\\Temp\\ipykernel_34776\\4284873989.py:43: FutureWarning: suggest_uniform has been deprecated in v3.0.0. This feature will be removed in v6.0.0. See https://github.com/optuna/optuna/releases/tag/v3.0.0. Use suggest_float instead.\n",
      "  dropout_rate = trial.suggest_uniform(\"dropout_rate\", 0.2, 0.5)\n"
     ]
    },
    {
     "name": "stdout",
     "output_type": "stream",
     "text": [
      "Using downloaded and verified file: ./data\\dermamnist_64.npz\n",
      "Using downloaded and verified file: ./data\\dermamnist_64.npz\n"
     ]
    },
    {
     "name": "stderr",
     "output_type": "stream",
     "text": [
      "[I 2025-01-24 11:58:10,005] Trial 0 finished with value: 0.26034912718204484 and parameters: {'batch_size': 32, 'learning_rate': 0.0028545696530108368, 'dropout_rate': 0.2946138903777211}. Best is trial 0 with value: 0.26034912718204484.\n"
     ]
    },
    {
     "name": "stdout",
     "output_type": "stream",
     "text": [
      "Using downloaded and verified file: ./data\\dermamnist_64.npz\n",
      "Using downloaded and verified file: ./data\\dermamnist_64.npz\n"
     ]
    },
    {
     "name": "stderr",
     "output_type": "stream",
     "text": [
      "[I 2025-01-24 11:58:29,046] Trial 1 finished with value: 0.23341645885286788 and parameters: {'batch_size': 32, 'learning_rate': 0.00017184043477096354, 'dropout_rate': 0.238695650594483}. Best is trial 1 with value: 0.23341645885286788.\n"
     ]
    },
    {
     "name": "stdout",
     "output_type": "stream",
     "text": [
      "Using downloaded and verified file: ./data\\dermamnist_64.npz\n",
      "Using downloaded and verified file: ./data\\dermamnist_64.npz\n"
     ]
    },
    {
     "name": "stderr",
     "output_type": "stream",
     "text": [
      "[I 2025-01-24 11:58:43,694] Trial 2 finished with value: 0.22743142144638406 and parameters: {'batch_size': 64, 'learning_rate': 0.00034971121226571325, 'dropout_rate': 0.29991184427499085}. Best is trial 2 with value: 0.22743142144638406.\n"
     ]
    },
    {
     "name": "stdout",
     "output_type": "stream",
     "text": [
      "Using downloaded and verified file: ./data\\dermamnist_64.npz\n",
      "Using downloaded and verified file: ./data\\dermamnist_64.npz\n"
     ]
    },
    {
     "name": "stderr",
     "output_type": "stream",
     "text": [
      "[I 2025-01-24 11:58:56,761] Trial 3 finished with value: 0.24588528678304244 and parameters: {'batch_size': 256, 'learning_rate': 0.000519352739573688, 'dropout_rate': 0.2507129645104181}. Best is trial 2 with value: 0.22743142144638406.\n"
     ]
    },
    {
     "name": "stdout",
     "output_type": "stream",
     "text": [
      "Using downloaded and verified file: ./data\\dermamnist_64.npz\n",
      "Using downloaded and verified file: ./data\\dermamnist_64.npz\n"
     ]
    },
    {
     "name": "stderr",
     "output_type": "stream",
     "text": [
      "[I 2025-01-24 11:59:17,087] Trial 4 finished with value: 0.23990024937655863 and parameters: {'batch_size': 32, 'learning_rate': 0.00024735228814967567, 'dropout_rate': 0.4999038005125857}. Best is trial 2 with value: 0.22743142144638406.\n"
     ]
    },
    {
     "name": "stdout",
     "output_type": "stream",
     "text": [
      "Using downloaded and verified file: ./data\\dermamnist_64.npz\n",
      "Using downloaded and verified file: ./data\\dermamnist_64.npz\n"
     ]
    },
    {
     "name": "stderr",
     "output_type": "stream",
     "text": [
      "[I 2025-01-24 11:59:30,699] Trial 5 finished with value: 0.28628428927680794 and parameters: {'batch_size': 256, 'learning_rate': 0.008749461518020255, 'dropout_rate': 0.232326370613415}. Best is trial 2 with value: 0.22743142144638406.\n"
     ]
    },
    {
     "name": "stdout",
     "output_type": "stream",
     "text": [
      "Using downloaded and verified file: ./data\\dermamnist_64.npz\n",
      "Using downloaded and verified file: ./data\\dermamnist_64.npz\n"
     ]
    },
    {
     "name": "stderr",
     "output_type": "stream",
     "text": [
      "[I 2025-01-24 11:59:47,241] Trial 6 finished with value: 0.2882793017456359 and parameters: {'batch_size': 64, 'learning_rate': 0.005161314804987269, 'dropout_rate': 0.33314757969591074}. Best is trial 2 with value: 0.22743142144638406.\n"
     ]
    },
    {
     "name": "stdout",
     "output_type": "stream",
     "text": [
      "Using downloaded and verified file: ./data\\dermamnist_64.npz\n",
      "Using downloaded and verified file: ./data\\dermamnist_64.npz\n"
     ]
    },
    {
     "name": "stderr",
     "output_type": "stream",
     "text": [
      "[I 2025-01-24 12:00:02,781] Trial 7 finished with value: 0.2673316708229426 and parameters: {'batch_size': 128, 'learning_rate': 0.007713952755124764, 'dropout_rate': 0.4678849492494375}. Best is trial 2 with value: 0.22743142144638406.\n"
     ]
    },
    {
     "name": "stdout",
     "output_type": "stream",
     "text": [
      "Using downloaded and verified file: ./data\\dermamnist_64.npz\n",
      "Using downloaded and verified file: ./data\\dermamnist_64.npz\n"
     ]
    },
    {
     "name": "stderr",
     "output_type": "stream",
     "text": [
      "[I 2025-01-24 12:00:20,127] Trial 8 finished with value: 0.2613466334164588 and parameters: {'batch_size': 128, 'learning_rate': 0.005194674523643066, 'dropout_rate': 0.4055507850711443}. Best is trial 2 with value: 0.22743142144638406.\n"
     ]
    },
    {
     "name": "stdout",
     "output_type": "stream",
     "text": [
      "Using downloaded and verified file: ./data\\dermamnist_64.npz\n",
      "Using downloaded and verified file: ./data\\dermamnist_64.npz\n"
     ]
    },
    {
     "name": "stderr",
     "output_type": "stream",
     "text": [
      "[I 2025-01-24 12:00:38,850] Trial 9 finished with value: 0.2658354114713217 and parameters: {'batch_size': 256, 'learning_rate': 0.0017230646084414648, 'dropout_rate': 0.20544738148728772}. Best is trial 2 with value: 0.22743142144638406.\n"
     ]
    },
    {
     "name": "stdout",
     "output_type": "stream",
     "text": [
      "Using downloaded and verified file: ./data\\dermamnist_64.npz\n",
      "Using downloaded and verified file: ./data\\dermamnist_64.npz\n"
     ]
    },
    {
     "name": "stderr",
     "output_type": "stream",
     "text": [
      "[I 2025-01-24 12:00:59,483] Trial 10 finished with value: 0.2408977556109726 and parameters: {'batch_size': 64, 'learning_rate': 0.0006595551936663531, 'dropout_rate': 0.3819194545517364}. Best is trial 2 with value: 0.22743142144638406.\n"
     ]
    },
    {
     "name": "stdout",
     "output_type": "stream",
     "text": [
      "Using downloaded and verified file: ./data\\dermamnist_64.npz\n",
      "Using downloaded and verified file: ./data\\dermamnist_64.npz\n"
     ]
    },
    {
     "name": "stderr",
     "output_type": "stream",
     "text": [
      "[I 2025-01-24 12:01:23,109] Trial 11 finished with value: 0.2194513715710723 and parameters: {'batch_size': 32, 'learning_rate': 0.00010948895358182584, 'dropout_rate': 0.2872653938750536}. Best is trial 11 with value: 0.2194513715710723.\n"
     ]
    },
    {
     "name": "stdout",
     "output_type": "stream",
     "text": [
      "Using downloaded and verified file: ./data\\dermamnist_64.npz\n",
      "Using downloaded and verified file: ./data\\dermamnist_64.npz\n"
     ]
    },
    {
     "name": "stderr",
     "output_type": "stream",
     "text": [
      "[I 2025-01-24 12:01:44,129] Trial 12 finished with value: 0.24139650872817953 and parameters: {'batch_size': 64, 'learning_rate': 0.00010971643000169285, 'dropout_rate': 0.3126402596330751}. Best is trial 11 with value: 0.2194513715710723.\n"
     ]
    },
    {
     "name": "stdout",
     "output_type": "stream",
     "text": [
      "Using downloaded and verified file: ./data\\dermamnist_64.npz\n",
      "Using downloaded and verified file: ./data\\dermamnist_64.npz\n"
     ]
    },
    {
     "name": "stderr",
     "output_type": "stream",
     "text": [
      "[I 2025-01-24 12:02:09,304] Trial 13 finished with value: 0.23640897755610968 and parameters: {'batch_size': 32, 'learning_rate': 0.00028125802550674764, 'dropout_rate': 0.28628804692883214}. Best is trial 11 with value: 0.2194513715710723.\n"
     ]
    },
    {
     "name": "stdout",
     "output_type": "stream",
     "text": [
      "Using downloaded and verified file: ./data\\dermamnist_64.npz\n",
      "Using downloaded and verified file: ./data\\dermamnist_64.npz\n"
     ]
    },
    {
     "name": "stderr",
     "output_type": "stream",
     "text": [
      "[I 2025-01-24 12:02:30,563] Trial 14 finished with value: 0.23192019950124687 and parameters: {'batch_size': 64, 'learning_rate': 0.00010570508557912205, 'dropout_rate': 0.3644927682389674}. Best is trial 11 with value: 0.2194513715710723.\n"
     ]
    },
    {
     "name": "stdout",
     "output_type": "stream",
     "text": [
      "Using downloaded and verified file: ./data\\dermamnist_64.npz\n",
      "Using downloaded and verified file: ./data\\dermamnist_64.npz\n"
     ]
    },
    {
     "name": "stderr",
     "output_type": "stream",
     "text": [
      "[I 2025-01-24 12:02:56,003] Trial 15 finished with value: 0.22543640897755612 and parameters: {'batch_size': 64, 'learning_rate': 0.0004667612571016021, 'dropout_rate': 0.2743726180417741}. Best is trial 11 with value: 0.2194513715710723.\n"
     ]
    },
    {
     "name": "stdout",
     "output_type": "stream",
     "text": [
      "Using downloaded and verified file: ./data\\dermamnist_64.npz\n",
      "Using downloaded and verified file: ./data\\dermamnist_64.npz\n"
     ]
    },
    {
     "name": "stderr",
     "output_type": "stream",
     "text": [
      "[I 2025-01-24 12:03:21,020] Trial 16 finished with value: 0.25486284289276806 and parameters: {'batch_size': 32, 'learning_rate': 0.0012356520719863696, 'dropout_rate': 0.26682956096080584}. Best is trial 11 with value: 0.2194513715710723.\n"
     ]
    },
    {
     "name": "stdout",
     "output_type": "stream",
     "text": [
      "Using downloaded and verified file: ./data\\dermamnist_64.npz\n",
      "Using downloaded and verified file: ./data\\dermamnist_64.npz\n"
     ]
    },
    {
     "name": "stderr",
     "output_type": "stream",
     "text": [
      "[I 2025-01-24 12:03:40,705] Trial 17 finished with value: 0.2538653366583541 and parameters: {'batch_size': 128, 'learning_rate': 0.0006939487884338671, 'dropout_rate': 0.3366447663577553}. Best is trial 11 with value: 0.2194513715710723.\n"
     ]
    },
    {
     "name": "stdout",
     "output_type": "stream",
     "text": [
      "Using downloaded and verified file: ./data\\dermamnist_64.npz\n",
      "Using downloaded and verified file: ./data\\dermamnist_64.npz\n"
     ]
    },
    {
     "name": "stderr",
     "output_type": "stream",
     "text": [
      "[I 2025-01-24 12:04:06,243] Trial 18 finished with value: 0.22493765586034908 and parameters: {'batch_size': 32, 'learning_rate': 0.00021037905947068436, 'dropout_rate': 0.20194359425330177}. Best is trial 11 with value: 0.2194513715710723.\n"
     ]
    },
    {
     "name": "stdout",
     "output_type": "stream",
     "text": [
      "Using downloaded and verified file: ./data\\dermamnist_64.npz\n",
      "Using downloaded and verified file: ./data\\dermamnist_64.npz\n"
     ]
    },
    {
     "name": "stderr",
     "output_type": "stream",
     "text": [
      "[I 2025-01-24 12:04:32,143] Trial 19 finished with value: 0.2608478802992519 and parameters: {'batch_size': 32, 'learning_rate': 0.00016424593195193588, 'dropout_rate': 0.20232597718087933}. Best is trial 11 with value: 0.2194513715710723.\n"
     ]
    },
    {
     "name": "stdout",
     "output_type": "stream",
     "text": [
      "Using downloaded and verified file: ./data\\dermamnist_64.npz\n",
      "Using downloaded and verified file: ./data\\dermamnist_64.npz\n"
     ]
    },
    {
     "name": "stderr",
     "output_type": "stream",
     "text": [
      "[I 2025-01-24 12:04:59,127] Trial 20 finished with value: 0.2528678304239401 and parameters: {'batch_size': 32, 'learning_rate': 0.00017872370347729412, 'dropout_rate': 0.4369210894132415}. Best is trial 11 with value: 0.2194513715710723.\n"
     ]
    },
    {
     "name": "stdout",
     "output_type": "stream",
     "text": [
      "Using downloaded and verified file: ./data\\dermamnist_64.npz\n",
      "Using downloaded and verified file: ./data\\dermamnist_64.npz\n"
     ]
    },
    {
     "name": "stderr",
     "output_type": "stream",
     "text": [
      "[I 2025-01-24 12:05:26,292] Trial 21 finished with value: 0.2483790523690773 and parameters: {'batch_size': 32, 'learning_rate': 0.0003924186364860684, 'dropout_rate': 0.25662670826560846}. Best is trial 11 with value: 0.2194513715710723.\n"
     ]
    },
    {
     "name": "stdout",
     "output_type": "stream",
     "text": [
      "Using downloaded and verified file: ./data\\dermamnist_64.npz\n",
      "Using downloaded and verified file: ./data\\dermamnist_64.npz\n"
     ]
    },
    {
     "name": "stderr",
     "output_type": "stream",
     "text": [
      "[I 2025-01-24 12:05:49,209] Trial 22 finished with value: 0.229426433915212 and parameters: {'batch_size': 64, 'learning_rate': 0.00022239725590723436, 'dropout_rate': 0.2222049589890988}. Best is trial 11 with value: 0.2194513715710723.\n"
     ]
    },
    {
     "name": "stdout",
     "output_type": "stream",
     "text": [
      "Using downloaded and verified file: ./data\\dermamnist_64.npz\n",
      "Using downloaded and verified file: ./data\\dermamnist_64.npz\n"
     ]
    },
    {
     "name": "stderr",
     "output_type": "stream",
     "text": [
      "[I 2025-01-24 12:06:18,243] Trial 23 finished with value: 0.23740648379052365 and parameters: {'batch_size': 32, 'learning_rate': 0.0001023610222940568, 'dropout_rate': 0.271079534385701}. Best is trial 11 with value: 0.2194513715710723.\n"
     ]
    },
    {
     "name": "stdout",
     "output_type": "stream",
     "text": [
      "Using downloaded and verified file: ./data\\dermamnist_64.npz\n",
      "Using downloaded and verified file: ./data\\dermamnist_64.npz\n"
     ]
    },
    {
     "name": "stderr",
     "output_type": "stream",
     "text": [
      "[I 2025-01-24 12:06:45,106] Trial 24 finished with value: 0.24189526184538657 and parameters: {'batch_size': 32, 'learning_rate': 0.00048128198240529726, 'dropout_rate': 0.32328174546642924}. Best is trial 11 with value: 0.2194513715710723.\n"
     ]
    },
    {
     "name": "stdout",
     "output_type": "stream",
     "text": [
      "Using downloaded and verified file: ./data\\dermamnist_64.npz\n",
      "Using downloaded and verified file: ./data\\dermamnist_64.npz\n"
     ]
    },
    {
     "name": "stderr",
     "output_type": "stream",
     "text": [
      "[I 2025-01-24 12:07:07,322] Trial 25 finished with value: 0.23740648379052365 and parameters: {'batch_size': 64, 'learning_rate': 0.001011671934766984, 'dropout_rate': 0.35746209128621725}. Best is trial 11 with value: 0.2194513715710723.\n"
     ]
    },
    {
     "name": "stdout",
     "output_type": "stream",
     "text": [
      "Using downloaded and verified file: ./data\\dermamnist_64.npz\n",
      "Using downloaded and verified file: ./data\\dermamnist_64.npz\n"
     ]
    },
    {
     "name": "stderr",
     "output_type": "stream",
     "text": [
      "[I 2025-01-24 12:07:27,173] Trial 26 finished with value: 0.2339152119700748 and parameters: {'batch_size': 256, 'learning_rate': 0.00014056037138366904, 'dropout_rate': 0.2809134706328419}. Best is trial 11 with value: 0.2194513715710723.\n"
     ]
    },
    {
     "name": "stdout",
     "output_type": "stream",
     "text": [
      "Using downloaded and verified file: ./data\\dermamnist_64.npz\n",
      "Using downloaded and verified file: ./data\\dermamnist_64.npz\n"
     ]
    },
    {
     "name": "stderr",
     "output_type": "stream",
     "text": [
      "[I 2025-01-24 12:07:48,801] Trial 27 finished with value: 0.2354114713216957 and parameters: {'batch_size': 128, 'learning_rate': 0.00031544008496589045, 'dropout_rate': 0.22019296083473863}. Best is trial 11 with value: 0.2194513715710723.\n"
     ]
    },
    {
     "name": "stdout",
     "output_type": "stream",
     "text": [
      "Using downloaded and verified file: ./data\\dermamnist_64.npz\n",
      "Using downloaded and verified file: ./data\\dermamnist_64.npz\n"
     ]
    },
    {
     "name": "stderr",
     "output_type": "stream",
     "text": [
      "[I 2025-01-24 12:08:15,616] Trial 28 finished with value: 0.23990024937655863 and parameters: {'batch_size': 32, 'learning_rate': 0.00022428698974604651, 'dropout_rate': 0.2459516444127881}. Best is trial 11 with value: 0.2194513715710723.\n"
     ]
    },
    {
     "name": "stdout",
     "output_type": "stream",
     "text": [
      "Using downloaded and verified file: ./data\\dermamnist_64.npz\n",
      "Using downloaded and verified file: ./data\\dermamnist_64.npz\n"
     ]
    },
    {
     "name": "stderr",
     "output_type": "stream",
     "text": [
      "[I 2025-01-24 12:08:40,146] Trial 29 finished with value: 0.24139650872817953 and parameters: {'batch_size': 32, 'learning_rate': 0.0017479969104294323, 'dropout_rate': 0.2958864863286043}. Best is trial 11 with value: 0.2194513715710723.\n"
     ]
    },
    {
     "name": "stdout",
     "output_type": "stream",
     "text": [
      "Using downloaded and verified file: ./data\\dermamnist_64.npz\n",
      "Using downloaded and verified file: ./data\\dermamnist_64.npz\n"
     ]
    },
    {
     "name": "stderr",
     "output_type": "stream",
     "text": [
      "[I 2025-01-24 12:09:03,162] Trial 30 finished with value: 0.24638403990024937 and parameters: {'batch_size': 64, 'learning_rate': 0.0006662198832784445, 'dropout_rate': 0.391453582586797}. Best is trial 11 with value: 0.2194513715710723.\n"
     ]
    },
    {
     "name": "stdout",
     "output_type": "stream",
     "text": [
      "Using downloaded and verified file: ./data\\dermamnist_64.npz\n",
      "Using downloaded and verified file: ./data\\dermamnist_64.npz\n"
     ]
    },
    {
     "name": "stderr",
     "output_type": "stream",
     "text": [
      "[I 2025-01-24 12:09:26,946] Trial 31 finished with value: 0.23840399002493762 and parameters: {'batch_size': 64, 'learning_rate': 0.00034756812314541376, 'dropout_rate': 0.2978610184511814}. Best is trial 11 with value: 0.2194513715710723.\n"
     ]
    },
    {
     "name": "stdout",
     "output_type": "stream",
     "text": [
      "Using downloaded and verified file: ./data\\dermamnist_64.npz\n",
      "Using downloaded and verified file: ./data\\dermamnist_64.npz\n"
     ]
    },
    {
     "name": "stderr",
     "output_type": "stream",
     "text": [
      "[I 2025-01-24 12:09:51,230] Trial 32 finished with value: 0.2379052369077307 and parameters: {'batch_size': 64, 'learning_rate': 0.0004357098731755302, 'dropout_rate': 0.30752039319360475}. Best is trial 11 with value: 0.2194513715710723.\n"
     ]
    },
    {
     "name": "stdout",
     "output_type": "stream",
     "text": [
      "Using downloaded and verified file: ./data\\dermamnist_64.npz\n",
      "Using downloaded and verified file: ./data\\dermamnist_64.npz\n"
     ]
    },
    {
     "name": "stderr",
     "output_type": "stream",
     "text": [
      "[I 2025-01-24 12:10:15,659] Trial 33 finished with value: 0.2339152119700748 and parameters: {'batch_size': 64, 'learning_rate': 0.00015458805328898877, 'dropout_rate': 0.25933628111290025}. Best is trial 11 with value: 0.2194513715710723.\n"
     ]
    },
    {
     "name": "stdout",
     "output_type": "stream",
     "text": [
      "Using downloaded and verified file: ./data\\dermamnist_64.npz\n",
      "Using downloaded and verified file: ./data\\dermamnist_64.npz\n"
     ]
    },
    {
     "name": "stderr",
     "output_type": "stream",
     "text": [
      "[I 2025-01-24 12:10:40,161] Trial 34 finished with value: 0.23491271820448878 and parameters: {'batch_size': 64, 'learning_rate': 0.00019210753030553251, 'dropout_rate': 0.28081662351944164}. Best is trial 11 with value: 0.2194513715710723.\n"
     ]
    },
    {
     "name": "stdout",
     "output_type": "stream",
     "text": [
      "Using downloaded and verified file: ./data\\dermamnist_64.npz\n",
      "Using downloaded and verified file: ./data\\dermamnist_64.npz\n"
     ]
    },
    {
     "name": "stderr",
     "output_type": "stream",
     "text": [
      "[I 2025-01-24 12:11:07,412] Trial 35 finished with value: 0.23341645885286788 and parameters: {'batch_size': 32, 'learning_rate': 0.0002990871576528375, 'dropout_rate': 0.23795011535466512}. Best is trial 11 with value: 0.2194513715710723.\n"
     ]
    },
    {
     "name": "stdout",
     "output_type": "stream",
     "text": [
      "Using downloaded and verified file: ./data\\dermamnist_64.npz\n",
      "Using downloaded and verified file: ./data\\dermamnist_64.npz\n"
     ]
    },
    {
     "name": "stderr",
     "output_type": "stream",
     "text": [
      "[I 2025-01-24 12:11:31,420] Trial 36 finished with value: 0.2453865336658354 and parameters: {'batch_size': 256, 'learning_rate': 0.0005715632535348914, 'dropout_rate': 0.3178878000798428}. Best is trial 11 with value: 0.2194513715710723.\n"
     ]
    },
    {
     "name": "stdout",
     "output_type": "stream",
     "text": [
      "Using downloaded and verified file: ./data\\dermamnist_64.npz\n",
      "Using downloaded and verified file: ./data\\dermamnist_64.npz\n"
     ]
    },
    {
     "name": "stderr",
     "output_type": "stream",
     "text": [
      "[I 2025-01-24 12:11:58,272] Trial 37 finished with value: 0.23441396508728185 and parameters: {'batch_size': 32, 'learning_rate': 0.00012417570841973056, 'dropout_rate': 0.3364973023755237}. Best is trial 11 with value: 0.2194513715710723.\n"
     ]
    },
    {
     "name": "stdout",
     "output_type": "stream",
     "text": [
      "Using downloaded and verified file: ./data\\dermamnist_64.npz\n",
      "Using downloaded and verified file: ./data\\dermamnist_64.npz\n"
     ]
    },
    {
     "name": "stderr",
     "output_type": "stream",
     "text": [
      "[I 2025-01-24 12:12:23,832] Trial 38 finished with value: 0.24887780548628424 and parameters: {'batch_size': 64, 'learning_rate': 0.00023787525505303882, 'dropout_rate': 0.23680708960935073}. Best is trial 11 with value: 0.2194513715710723.\n"
     ]
    },
    {
     "name": "stdout",
     "output_type": "stream",
     "text": [
      "Using downloaded and verified file: ./data\\dermamnist_64.npz\n",
      "Using downloaded and verified file: ./data\\dermamnist_64.npz\n"
     ]
    },
    {
     "name": "stderr",
     "output_type": "stream",
     "text": [
      "[I 2025-01-24 12:12:51,756] Trial 39 finished with value: 0.2523690773067332 and parameters: {'batch_size': 128, 'learning_rate': 0.0009102774853727019, 'dropout_rate': 0.22095223491901642}. Best is trial 11 with value: 0.2194513715710723.\n"
     ]
    },
    {
     "name": "stdout",
     "output_type": "stream",
     "text": [
      "Using downloaded and verified file: ./data\\dermamnist_64.npz\n",
      "Using downloaded and verified file: ./data\\dermamnist_64.npz\n"
     ]
    },
    {
     "name": "stderr",
     "output_type": "stream",
     "text": [
      "[I 2025-01-24 12:13:18,945] Trial 40 finished with value: 0.23142144638403994 and parameters: {'batch_size': 256, 'learning_rate': 0.0003815512168326473, 'dropout_rate': 0.3444294666457694}. Best is trial 11 with value: 0.2194513715710723.\n"
     ]
    },
    {
     "name": "stdout",
     "output_type": "stream",
     "text": [
      "Using downloaded and verified file: ./data\\dermamnist_64.npz\n",
      "Using downloaded and verified file: ./data\\dermamnist_64.npz\n"
     ]
    },
    {
     "name": "stderr",
     "output_type": "stream",
     "text": [
      "[I 2025-01-24 12:13:46,836] Trial 41 finished with value: 0.23640897755610968 and parameters: {'batch_size': 64, 'learning_rate': 0.00022479104744148378, 'dropout_rate': 0.2233922908391054}. Best is trial 11 with value: 0.2194513715710723.\n"
     ]
    },
    {
     "name": "stdout",
     "output_type": "stream",
     "text": [
      "Using downloaded and verified file: ./data\\dermamnist_64.npz\n",
      "Using downloaded and verified file: ./data\\dermamnist_64.npz\n"
     ]
    },
    {
     "name": "stderr",
     "output_type": "stream",
     "text": [
      "[I 2025-01-24 12:14:14,759] Trial 42 finished with value: 0.23591022443890275 and parameters: {'batch_size': 64, 'learning_rate': 0.00020227521354360592, 'dropout_rate': 0.21442791928804347}. Best is trial 11 with value: 0.2194513715710723.\n"
     ]
    },
    {
     "name": "stdout",
     "output_type": "stream",
     "text": [
      "Using downloaded and verified file: ./data\\dermamnist_64.npz\n",
      "Using downloaded and verified file: ./data\\dermamnist_64.npz\n"
     ]
    },
    {
     "name": "stderr",
     "output_type": "stream",
     "text": [
      "[I 2025-01-24 12:14:42,196] Trial 43 finished with value: 0.2768079800498753 and parameters: {'batch_size': 64, 'learning_rate': 0.00013989927227044767, 'dropout_rate': 0.20296854877418483}. Best is trial 11 with value: 0.2194513715710723.\n"
     ]
    },
    {
     "name": "stdout",
     "output_type": "stream",
     "text": [
      "Using downloaded and verified file: ./data\\dermamnist_64.npz\n",
      "Using downloaded and verified file: ./data\\dermamnist_64.npz\n"
     ]
    },
    {
     "name": "stderr",
     "output_type": "stream",
     "text": [
      "[I 2025-01-24 12:15:09,472] Trial 44 finished with value: 0.2379052369077307 and parameters: {'batch_size': 64, 'learning_rate': 0.000282682369952183, 'dropout_rate': 0.2492047495944828}. Best is trial 11 with value: 0.2194513715710723.\n"
     ]
    },
    {
     "name": "stdout",
     "output_type": "stream",
     "text": [
      "Using downloaded and verified file: ./data\\dermamnist_64.npz\n",
      "Using downloaded and verified file: ./data\\dermamnist_64.npz\n"
     ]
    },
    {
     "name": "stderr",
     "output_type": "stream",
     "text": [
      "[I 2025-01-24 12:15:40,338] Trial 45 finished with value: 0.22842892768079803 and parameters: {'batch_size': 64, 'learning_rate': 0.0005052688610447571, 'dropout_rate': 0.2722715443955502}. Best is trial 11 with value: 0.2194513715710723.\n"
     ]
    },
    {
     "name": "stdout",
     "output_type": "stream",
     "text": [
      "Using downloaded and verified file: ./data\\dermamnist_64.npz\n",
      "Using downloaded and verified file: ./data\\dermamnist_64.npz\n"
     ]
    },
    {
     "name": "stderr",
     "output_type": "stream",
     "text": [
      "[I 2025-01-24 12:16:07,938] Trial 46 finished with value: 0.23890274314214466 and parameters: {'batch_size': 64, 'learning_rate': 0.0005406742786808745, 'dropout_rate': 0.303137293936112}. Best is trial 11 with value: 0.2194513715710723.\n"
     ]
    },
    {
     "name": "stdout",
     "output_type": "stream",
     "text": [
      "Using downloaded and verified file: ./data\\dermamnist_64.npz\n",
      "Using downloaded and verified file: ./data\\dermamnist_64.npz\n"
     ]
    },
    {
     "name": "stderr",
     "output_type": "stream",
     "text": [
      "[I 2025-01-24 12:16:36,810] Trial 47 finished with value: 0.2324189526184539 and parameters: {'batch_size': 32, 'learning_rate': 0.0008337013449713637, 'dropout_rate': 0.2740185786994944}. Best is trial 11 with value: 0.2194513715710723.\n"
     ]
    },
    {
     "name": "stdout",
     "output_type": "stream",
     "text": [
      "Using downloaded and verified file: ./data\\dermamnist_64.npz\n",
      "Using downloaded and verified file: ./data\\dermamnist_64.npz\n"
     ]
    },
    {
     "name": "stderr",
     "output_type": "stream",
     "text": [
      "[I 2025-01-24 12:17:05,001] Trial 48 finished with value: 0.2354114713216957 and parameters: {'batch_size': 128, 'learning_rate': 0.00044154845805712337, 'dropout_rate': 0.3206355646694109}. Best is trial 11 with value: 0.2194513715710723.\n"
     ]
    },
    {
     "name": "stdout",
     "output_type": "stream",
     "text": [
      "Using downloaded and verified file: ./data\\dermamnist_64.npz\n",
      "Using downloaded and verified file: ./data\\dermamnist_64.npz\n"
     ]
    },
    {
     "name": "stderr",
     "output_type": "stream",
     "text": [
      "[I 2025-01-24 12:17:32,768] Trial 49 finished with value: 0.2673316708229426 and parameters: {'batch_size': 64, 'learning_rate': 0.0016104443684200702, 'dropout_rate': 0.29417416304071786}. Best is trial 11 with value: 0.2194513715710723.\n"
     ]
    },
    {
     "name": "stdout",
     "output_type": "stream",
     "text": [
      "Najlepsze hiperparametry:  {'batch_size': 32, 'learning_rate': 0.00010948895358182584, 'dropout_rate': 0.2872653938750536}\n",
      "Najlepszy wynik:  0.7805486284289277\n"
     ]
    }
   ],
   "source": [
    "torch.cuda.empty_cache()\n",
    "class CNN(nn.Module):\n",
    "    def __init__(self, dropout_rate):\n",
    "        super(CNN, self).__init__()\n",
    "        self.conv1 = nn.Conv2d(3, 32, kernel_size=3, stride=1, bias=False)\n",
    "        self.bn1 = nn.BatchNorm2d(32)\n",
    "        self.conv2 = nn.Conv2d(32, 64, kernel_size=3, stride=1, padding=1, bias=False)\n",
    "        self.bn2 = nn.BatchNorm2d(64)\n",
    "        self.conv3 = nn.Conv2d(64, 128, kernel_size=2, stride=1, padding=1, bias=False)\n",
    "        self.bn3 = nn.BatchNorm2d(128)\n",
    "        self.pool = nn.MaxPool2d(kernel_size=2)\n",
    "        self.relu = nn.ReLU()\n",
    "        self.dropout = nn.Dropout(dropout_rate)\n",
    "\n",
    "        self.flattened_size = self.get_flattened_size((3, 64, 64))\n",
    "        self.fc1 = nn.Linear(self.flattened_size, 64)\n",
    "        self.fc2 = nn.Linear(64, 7)\n",
    "\n",
    "    def get_flattened_size(self, input_shape):\n",
    "        x = torch.zeros(1, *input_shape)\n",
    "        x = self.pool(self.relu(self.conv1(x)))\n",
    "        x = self.pool(self.relu(self.conv2(x)))\n",
    "        x = self.pool(self.relu(self.conv3(x)))\n",
    "        return x.view(1, -1).size(1)\n",
    "\n",
    "    def forward(self, x):\n",
    "        x = self.relu(self.bn1(self.conv1(x)))\n",
    "        x = self.pool(x)\n",
    "        x = self.relu(self.bn2(self.conv2(x)))\n",
    "        x = self.pool(x)\n",
    "        x = self.relu(self.bn3(self.conv3(x)))\n",
    "        x = self.pool(x)\n",
    "        x = x.view(x.size(0), -1)\n",
    "        x = self.relu(self.fc1(x))\n",
    "        x = self.fc2(x)\n",
    "        return x\n",
    "\n",
    "# Funkcja celu dla Optuny\n",
    "def objective(trial):\n",
    "    # Hiperparametry do tuningu\n",
    "    batch_size = trial.suggest_categorical(\"batch_size\", [32, 64, 128, 256])\n",
    "    learning_rate = trial.suggest_loguniform(\"learning_rate\", 1e-4, 1e-2)\n",
    "    dropout_rate = trial.suggest_uniform(\"dropout_rate\", 0.2, 0.5)\n",
    "\n",
    "    # Dane\n",
    "    transform = transforms.Compose([\n",
    "        transforms.ToTensor(),\n",
    "        transforms.Normalize((0.5,), (0.5,))\n",
    "    ])\n",
    "    train_dataset = DermaMNIST(root='./data', split=\"train\", download=True, transform=transform, size=64)\n",
    "    test_dataset = DermaMNIST(root='./data', split=\"test\", download=True, transform=transform, size=64)\n",
    "    train_loader = DataLoader(train_dataset, batch_size=batch_size, shuffle=True)\n",
    "    test_loader = DataLoader(test_dataset, batch_size=batch_size, shuffle=False)\n",
    "\n",
    "    # Model\n",
    "    model = CNN(dropout_rate).to(device)\n",
    "    criterion = nn.CrossEntropyLoss()\n",
    "    optimizer = optim.Adam(model.parameters(), lr=learning_rate)\n",
    "\n",
    "    # Trening\n",
    "    for epoch in range(10):  # Mała liczba epok do szybkiego tuningu\n",
    "        model.train()\n",
    "        for data, target in train_loader:\n",
    "            data, target = data.to(device), target.to(device)\n",
    "            target = target.long()  # Ensure target is of type torch.long\n",
    "            if len(target.size()) > 1:\n",
    "                target = target.squeeze()  # Remove extra dimensions\n",
    "            optimizer.zero_grad()\n",
    "            outputs = model(data)\n",
    "            loss = criterion(outputs, target)\n",
    "            loss.backward()\n",
    "            optimizer.step()\n",
    "\n",
    "    # Ewaluacja\n",
    "    model.eval()\n",
    "    correct = 0\n",
    "    total = 0\n",
    "    with torch.no_grad():\n",
    "        for data, target in test_loader:\n",
    "            data, target = data.to(device), target.to(device)\n",
    "            target = target.long()  # Ensure target is of type torch.long\n",
    "            if len(target.size()) > 1:\n",
    "                target = target.squeeze()  # Remove extra dimensions\n",
    "            outputs = model(data)\n",
    "            _, predicted = torch.max(outputs, 1)\n",
    "            correct += (predicted == target).sum().item()\n",
    "            total += target.size(0)\n",
    "\n",
    "    accuracy = correct / total\n",
    "    return 1 - accuracy  # Minimalizujemy 1 - accuracy\n",
    "\n",
    "# Główna funkcja\n",
    "if __name__ == \"__main__\":\n",
    "    device = torch.device('cuda' if torch.cuda.is_available() else 'cpu')\n",
    "    study = optuna.create_study(direction=\"minimize\")  # Minimalizacja (1 - accuracy)\n",
    "    study.optimize(objective, n_trials=50)\n",
    "\n",
    "    # Najlepsze hiperparametry\n",
    "    print(\"Najlepsze hiperparametry: \", study.best_params)\n",
    "    print(\"Najlepszy wynik: \", 1 - study.best_value)"
   ]
  }
 ],
 "metadata": {
  "kernelspec": {
   "display_name": "Python 3 (ipykernel)",
   "language": "python",
   "name": "python3"
  },
  "language_info": {
   "codemirror_mode": {
    "name": "ipython",
    "version": 3
   },
   "file_extension": ".py",
   "mimetype": "text/x-python",
   "name": "python",
   "nbconvert_exporter": "python",
   "pygments_lexer": "ipython3",
   "version": "3.12.8"
  }
 },
 "nbformat": 4,
 "nbformat_minor": 5
}
