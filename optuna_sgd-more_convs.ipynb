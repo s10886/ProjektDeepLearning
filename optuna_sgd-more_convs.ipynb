{
 "cells": [
  {
   "cell_type": "code",
   "execution_count": 1,
   "id": "9ee182e5-0d22-4cd6-bbc6-1964d39f9728",
   "metadata": {},
   "outputs": [],
   "source": [
    "#!pip install neptune\n",
    "#!pip install optuna\n",
    "import torch\n",
    "import torch.nn as nn\n",
    "import numpy as np\n",
    "import torch.optim as optim\n",
    "import matplotlib.pyplot as plt\n",
    "from torch.utils.data import DataLoader\n",
    "from torchvision import datasets, transforms\n",
    "from medmnist import DermaMNIST\n",
    "import random\n",
    "import neptune\n",
    "import itertools\n",
    "import optuna"
   ]
  },
  {
   "cell_type": "code",
   "execution_count": 2,
   "id": "5560781b-2867-43f9-a819-cf17e68fc718",
   "metadata": {},
   "outputs": [
    {
     "name": "stderr",
     "output_type": "stream",
     "text": [
      "[I 2025-01-24 23:54:26,786] A new study created in memory with name: no-name-d93e871f-d645-453f-9537-ce4e68e10dcd\n",
      "C:\\Users\\Kamil\\AppData\\Local\\Temp\\ipykernel_24940\\3161666803.py:56: FutureWarning: suggest_loguniform has been deprecated in v3.0.0. This feature will be removed in v6.0.0. See https://github.com/optuna/optuna/releases/tag/v3.0.0. Use suggest_float(..., log=True) instead.\n",
      "  learning_rate = trial.suggest_loguniform(\"learning_rate\", 1e-4, 1e-2)\n",
      "C:\\Users\\Kamil\\AppData\\Local\\Temp\\ipykernel_24940\\3161666803.py:57: FutureWarning: suggest_uniform has been deprecated in v3.0.0. This feature will be removed in v6.0.0. See https://github.com/optuna/optuna/releases/tag/v3.0.0. Use suggest_float instead.\n",
      "  dropout_rate = trial.suggest_uniform(\"dropout_rate\", 0.2, 0.5)\n"
     ]
    },
    {
     "name": "stdout",
     "output_type": "stream",
     "text": [
      "Using downloaded and verified file: ./data\\dermamnist_64.npz\n",
      "Using downloaded and verified file: ./data\\dermamnist_64.npz\n"
     ]
    },
    {
     "name": "stderr",
     "output_type": "stream",
     "text": [
      "[I 2025-01-24 23:55:25,648] Trial 0 finished with value: 0.3047381546134663 and parameters: {'batch_size': 256, 'learning_rate': 0.009015918727907886, 'dropout_rate': 0.3629331232801004}. Best is trial 0 with value: 0.3047381546134663.\n"
     ]
    },
    {
     "name": "stdout",
     "output_type": "stream",
     "text": [
      "Using downloaded and verified file: ./data\\dermamnist_64.npz\n",
      "Using downloaded and verified file: ./data\\dermamnist_64.npz\n"
     ]
    },
    {
     "name": "stderr",
     "output_type": "stream",
     "text": [
      "[I 2025-01-24 23:56:26,748] Trial 1 finished with value: 0.3271820448877806 and parameters: {'batch_size': 256, 'learning_rate': 0.002666569112875926, 'dropout_rate': 0.35599976699863783}. Best is trial 0 with value: 0.3047381546134663.\n"
     ]
    },
    {
     "name": "stdout",
     "output_type": "stream",
     "text": [
      "Using downloaded and verified file: ./data\\dermamnist_64.npz\n",
      "Using downloaded and verified file: ./data\\dermamnist_64.npz\n"
     ]
    },
    {
     "name": "stderr",
     "output_type": "stream",
     "text": [
      "[I 2025-01-24 23:57:43,274] Trial 2 finished with value: 0.256857855361596 and parameters: {'batch_size': 32, 'learning_rate': 0.0054086337866853604, 'dropout_rate': 0.49282136037176394}. Best is trial 2 with value: 0.256857855361596.\n"
     ]
    },
    {
     "name": "stdout",
     "output_type": "stream",
     "text": [
      "Using downloaded and verified file: ./data\\dermamnist_64.npz\n",
      "Using downloaded and verified file: ./data\\dermamnist_64.npz\n"
     ]
    },
    {
     "name": "stderr",
     "output_type": "stream",
     "text": [
      "[I 2025-01-24 23:58:57,593] Trial 3 finished with value: 0.33117206982543645 and parameters: {'batch_size': 64, 'learning_rate': 0.000500708875507509, 'dropout_rate': 0.2072575082019902}. Best is trial 2 with value: 0.256857855361596.\n"
     ]
    },
    {
     "name": "stdout",
     "output_type": "stream",
     "text": [
      "Using downloaded and verified file: ./data\\dermamnist_64.npz\n",
      "Using downloaded and verified file: ./data\\dermamnist_64.npz\n"
     ]
    },
    {
     "name": "stderr",
     "output_type": "stream",
     "text": [
      "[I 2025-01-25 00:00:10,398] Trial 4 finished with value: 0.24488778054862848 and parameters: {'batch_size': 32, 'learning_rate': 0.007176987758455425, 'dropout_rate': 0.384238726251657}. Best is trial 4 with value: 0.24488778054862848.\n"
     ]
    },
    {
     "name": "stdout",
     "output_type": "stream",
     "text": [
      "Using downloaded and verified file: ./data\\dermamnist_64.npz\n",
      "Using downloaded and verified file: ./data\\dermamnist_64.npz\n"
     ]
    },
    {
     "name": "stderr",
     "output_type": "stream",
     "text": [
      "[I 2025-01-25 00:01:12,332] Trial 5 finished with value: 0.33117206982543645 and parameters: {'batch_size': 256, 'learning_rate': 0.0002541936723273545, 'dropout_rate': 0.32548426078480497}. Best is trial 4 with value: 0.24488778054862848.\n"
     ]
    },
    {
     "name": "stdout",
     "output_type": "stream",
     "text": [
      "Using downloaded and verified file: ./data\\dermamnist_64.npz\n",
      "Using downloaded and verified file: ./data\\dermamnist_64.npz\n"
     ]
    },
    {
     "name": "stderr",
     "output_type": "stream",
     "text": [
      "[I 2025-01-25 00:02:19,131] Trial 6 finished with value: 0.29476309226932673 and parameters: {'batch_size': 64, 'learning_rate': 0.002213279142771574, 'dropout_rate': 0.4706447191283407}. Best is trial 4 with value: 0.24488778054862848.\n"
     ]
    },
    {
     "name": "stdout",
     "output_type": "stream",
     "text": [
      "Using downloaded and verified file: ./data\\dermamnist_64.npz\n",
      "Using downloaded and verified file: ./data\\dermamnist_64.npz\n"
     ]
    },
    {
     "name": "stderr",
     "output_type": "stream",
     "text": [
      "[I 2025-01-25 00:03:30,677] Trial 7 finished with value: 0.32967581047381544 and parameters: {'batch_size': 64, 'learning_rate': 0.0006124420657708027, 'dropout_rate': 0.20607793929801885}. Best is trial 4 with value: 0.24488778054862848.\n"
     ]
    },
    {
     "name": "stdout",
     "output_type": "stream",
     "text": [
      "Using downloaded and verified file: ./data\\dermamnist_64.npz\n",
      "Using downloaded and verified file: ./data\\dermamnist_64.npz\n"
     ]
    },
    {
     "name": "stderr",
     "output_type": "stream",
     "text": [
      "[I 2025-01-25 00:04:35,588] Trial 8 finished with value: 0.33117206982543645 and parameters: {'batch_size': 256, 'learning_rate': 0.00016587318630686582, 'dropout_rate': 0.4793667581078936}. Best is trial 4 with value: 0.24488778054862848.\n"
     ]
    },
    {
     "name": "stdout",
     "output_type": "stream",
     "text": [
      "Using downloaded and verified file: ./data\\dermamnist_64.npz\n",
      "Using downloaded and verified file: ./data\\dermamnist_64.npz\n"
     ]
    },
    {
     "name": "stderr",
     "output_type": "stream",
     "text": [
      "[I 2025-01-25 00:05:38,231] Trial 9 finished with value: 0.33117206982543645 and parameters: {'batch_size': 256, 'learning_rate': 0.002456858328037065, 'dropout_rate': 0.39693589951279995}. Best is trial 4 with value: 0.24488778054862848.\n"
     ]
    },
    {
     "name": "stdout",
     "output_type": "stream",
     "text": [
      "Using downloaded and verified file: ./data\\dermamnist_64.npz\n",
      "Using downloaded and verified file: ./data\\dermamnist_64.npz\n"
     ]
    },
    {
     "name": "stderr",
     "output_type": "stream",
     "text": [
      "[I 2025-01-25 00:06:56,026] Trial 10 finished with value: 0.2483790523690773 and parameters: {'batch_size': 32, 'learning_rate': 0.00981238504691974, 'dropout_rate': 0.2783210658613877}. Best is trial 4 with value: 0.24488778054862848.\n"
     ]
    },
    {
     "name": "stdout",
     "output_type": "stream",
     "text": [
      "Using downloaded and verified file: ./data\\dermamnist_64.npz\n",
      "Using downloaded and verified file: ./data\\dermamnist_64.npz\n"
     ]
    },
    {
     "name": "stderr",
     "output_type": "stream",
     "text": [
      "[I 2025-01-25 00:08:10,572] Trial 11 finished with value: 0.2658354114713217 and parameters: {'batch_size': 32, 'learning_rate': 0.008965523538172463, 'dropout_rate': 0.27272126423774146}. Best is trial 4 with value: 0.24488778054862848.\n"
     ]
    },
    {
     "name": "stdout",
     "output_type": "stream",
     "text": [
      "Using downloaded and verified file: ./data\\dermamnist_64.npz\n",
      "Using downloaded and verified file: ./data\\dermamnist_64.npz\n"
     ]
    },
    {
     "name": "stderr",
     "output_type": "stream",
     "text": [
      "[I 2025-01-25 00:09:24,349] Trial 12 finished with value: 0.2653366583541147 and parameters: {'batch_size': 32, 'learning_rate': 0.004432609406611782, 'dropout_rate': 0.2817027951096631}. Best is trial 4 with value: 0.24488778054862848.\n"
     ]
    },
    {
     "name": "stdout",
     "output_type": "stream",
     "text": [
      "Using downloaded and verified file: ./data\\dermamnist_64.npz\n",
      "Using downloaded and verified file: ./data\\dermamnist_64.npz\n"
     ]
    },
    {
     "name": "stderr",
     "output_type": "stream",
     "text": [
      "[I 2025-01-25 00:10:32,454] Trial 13 finished with value: 0.33117206982543645 and parameters: {'batch_size': 128, 'learning_rate': 0.0009771676366014468, 'dropout_rate': 0.41143836835571296}. Best is trial 4 with value: 0.24488778054862848.\n"
     ]
    },
    {
     "name": "stdout",
     "output_type": "stream",
     "text": [
      "Using downloaded and verified file: ./data\\dermamnist_64.npz\n",
      "Using downloaded and verified file: ./data\\dermamnist_64.npz\n"
     ]
    },
    {
     "name": "stderr",
     "output_type": "stream",
     "text": [
      "[I 2025-01-25 00:11:46,530] Trial 14 finished with value: 0.2658354114713217 and parameters: {'batch_size': 32, 'learning_rate': 0.004780107413714448, 'dropout_rate': 0.309957787363764}. Best is trial 4 with value: 0.24488778054862848.\n"
     ]
    },
    {
     "name": "stdout",
     "output_type": "stream",
     "text": [
      "Using downloaded and verified file: ./data\\dermamnist_64.npz\n",
      "Using downloaded and verified file: ./data\\dermamnist_64.npz\n"
     ]
    },
    {
     "name": "stderr",
     "output_type": "stream",
     "text": [
      "[I 2025-01-25 00:13:00,479] Trial 15 finished with value: 0.2523690773067332 and parameters: {'batch_size': 32, 'learning_rate': 0.009175648967768594, 'dropout_rate': 0.27303430952731783}. Best is trial 4 with value: 0.24488778054862848.\n"
     ]
    },
    {
     "name": "stdout",
     "output_type": "stream",
     "text": [
      "Using downloaded and verified file: ./data\\dermamnist_64.npz\n",
      "Using downloaded and verified file: ./data\\dermamnist_64.npz\n"
     ]
    },
    {
     "name": "stderr",
     "output_type": "stream",
     "text": [
      "[I 2025-01-25 00:14:11,654] Trial 16 finished with value: 0.3291770573566085 and parameters: {'batch_size': 128, 'learning_rate': 0.001405429203546348, 'dropout_rate': 0.4256098550677644}. Best is trial 4 with value: 0.24488778054862848.\n"
     ]
    },
    {
     "name": "stdout",
     "output_type": "stream",
     "text": [
      "Using downloaded and verified file: ./data\\dermamnist_64.npz\n",
      "Using downloaded and verified file: ./data\\dermamnist_64.npz\n"
     ]
    },
    {
     "name": "stderr",
     "output_type": "stream",
     "text": [
      "[I 2025-01-25 00:15:32,608] Trial 17 finished with value: 0.25037406483790525 and parameters: {'batch_size': 32, 'learning_rate': 0.0040057257379754714, 'dropout_rate': 0.24165063698904743}. Best is trial 4 with value: 0.24488778054862848.\n"
     ]
    },
    {
     "name": "stdout",
     "output_type": "stream",
     "text": [
      "Using downloaded and verified file: ./data\\dermamnist_64.npz\n",
      "Using downloaded and verified file: ./data\\dermamnist_64.npz\n"
     ]
    },
    {
     "name": "stderr",
     "output_type": "stream",
     "text": [
      "[I 2025-01-25 00:16:53,259] Trial 18 finished with value: 0.2972568578553616 and parameters: {'batch_size': 32, 'learning_rate': 0.0013068544704618371, 'dropout_rate': 0.3260644111207237}. Best is trial 4 with value: 0.24488778054862848.\n"
     ]
    },
    {
     "name": "stdout",
     "output_type": "stream",
     "text": [
      "Using downloaded and verified file: ./data\\dermamnist_64.npz\n",
      "Using downloaded and verified file: ./data\\dermamnist_64.npz\n"
     ]
    },
    {
     "name": "stderr",
     "output_type": "stream",
     "text": [
      "[I 2025-01-25 00:18:18,945] Trial 19 finished with value: 0.26184538653366585 and parameters: {'batch_size': 32, 'learning_rate': 0.006015874848760476, 'dropout_rate': 0.3786387251427315}. Best is trial 4 with value: 0.24488778054862848.\n"
     ]
    },
    {
     "name": "stdout",
     "output_type": "stream",
     "text": [
      "Using downloaded and verified file: ./data\\dermamnist_64.npz\n",
      "Using downloaded and verified file: ./data\\dermamnist_64.npz\n"
     ]
    },
    {
     "name": "stderr",
     "output_type": "stream",
     "text": [
      "[I 2025-01-25 00:19:31,186] Trial 20 finished with value: 0.30673316708229426 and parameters: {'batch_size': 128, 'learning_rate': 0.003095343466848265, 'dropout_rate': 0.30238107346340265}. Best is trial 4 with value: 0.24488778054862848.\n"
     ]
    },
    {
     "name": "stdout",
     "output_type": "stream",
     "text": [
      "Using downloaded and verified file: ./data\\dermamnist_64.npz\n",
      "Using downloaded and verified file: ./data\\dermamnist_64.npz\n"
     ]
    },
    {
     "name": "stderr",
     "output_type": "stream",
     "text": [
      "[I 2025-01-25 00:20:47,550] Trial 21 finished with value: 0.27630922693266835 and parameters: {'batch_size': 32, 'learning_rate': 0.006401729480209776, 'dropout_rate': 0.23451934810435193}. Best is trial 4 with value: 0.24488778054862848.\n"
     ]
    },
    {
     "name": "stdout",
     "output_type": "stream",
     "text": [
      "Using downloaded and verified file: ./data\\dermamnist_64.npz\n",
      "Using downloaded and verified file: ./data\\dermamnist_64.npz\n"
     ]
    },
    {
     "name": "stderr",
     "output_type": "stream",
     "text": [
      "[I 2025-01-25 00:22:05,493] Trial 22 finished with value: 0.26184538653366585 and parameters: {'batch_size': 32, 'learning_rate': 0.0036488482142150013, 'dropout_rate': 0.23972151582031265}. Best is trial 4 with value: 0.24488778054862848.\n"
     ]
    },
    {
     "name": "stdout",
     "output_type": "stream",
     "text": [
      "Using downloaded and verified file: ./data\\dermamnist_64.npz\n",
      "Using downloaded and verified file: ./data\\dermamnist_64.npz\n"
     ]
    },
    {
     "name": "stderr",
     "output_type": "stream",
     "text": [
      "[I 2025-01-25 00:23:22,101] Trial 23 finished with value: 0.2553615960099751 and parameters: {'batch_size': 32, 'learning_rate': 0.006864505375933138, 'dropout_rate': 0.24237428538290787}. Best is trial 4 with value: 0.24488778054862848.\n"
     ]
    },
    {
     "name": "stdout",
     "output_type": "stream",
     "text": [
      "Using downloaded and verified file: ./data\\dermamnist_64.npz\n",
      "Using downloaded and verified file: ./data\\dermamnist_64.npz\n"
     ]
    },
    {
     "name": "stderr",
     "output_type": "stream",
     "text": [
      "[I 2025-01-25 00:24:38,137] Trial 24 finished with value: 0.28428927680798 and parameters: {'batch_size': 32, 'learning_rate': 0.001884892032217269, 'dropout_rate': 0.43932086482606914}. Best is trial 4 with value: 0.24488778054862848.\n"
     ]
    },
    {
     "name": "stdout",
     "output_type": "stream",
     "text": [
      "Using downloaded and verified file: ./data\\dermamnist_64.npz\n",
      "Using downloaded and verified file: ./data\\dermamnist_64.npz\n"
     ]
    },
    {
     "name": "stderr",
     "output_type": "stream",
     "text": [
      "[I 2025-01-25 00:25:58,529] Trial 25 finished with value: 0.27481296758104734 and parameters: {'batch_size': 32, 'learning_rate': 0.009770830375492891, 'dropout_rate': 0.3371869838323111}. Best is trial 4 with value: 0.24488778054862848.\n"
     ]
    },
    {
     "name": "stdout",
     "output_type": "stream",
     "text": [
      "Using downloaded and verified file: ./data\\dermamnist_64.npz\n",
      "Using downloaded and verified file: ./data\\dermamnist_64.npz\n"
     ]
    },
    {
     "name": "stderr",
     "output_type": "stream",
     "text": [
      "[I 2025-01-25 00:27:12,542] Trial 26 finished with value: 0.258354114713217 and parameters: {'batch_size': 32, 'learning_rate': 0.0037524371787823305, 'dropout_rate': 0.2580084071949553}. Best is trial 4 with value: 0.24488778054862848.\n"
     ]
    },
    {
     "name": "stdout",
     "output_type": "stream",
     "text": [
      "Using downloaded and verified file: ./data\\dermamnist_64.npz\n",
      "Using downloaded and verified file: ./data\\dermamnist_64.npz\n"
     ]
    },
    {
     "name": "stderr",
     "output_type": "stream",
     "text": [
      "[I 2025-01-25 00:28:30,882] Trial 27 finished with value: 0.33117206982543645 and parameters: {'batch_size': 32, 'learning_rate': 0.00010011340942845294, 'dropout_rate': 0.2965730737197777}. Best is trial 4 with value: 0.24488778054862848.\n"
     ]
    },
    {
     "name": "stdout",
     "output_type": "stream",
     "text": [
      "Using downloaded and verified file: ./data\\dermamnist_64.npz\n",
      "Using downloaded and verified file: ./data\\dermamnist_64.npz\n"
     ]
    },
    {
     "name": "stderr",
     "output_type": "stream",
     "text": [
      "[I 2025-01-25 00:29:40,689] Trial 28 finished with value: 0.2882793017456359 and parameters: {'batch_size': 128, 'learning_rate': 0.007116926827415242, 'dropout_rate': 0.22642408275562279}. Best is trial 4 with value: 0.24488778054862848.\n"
     ]
    },
    {
     "name": "stdout",
     "output_type": "stream",
     "text": [
      "Using downloaded and verified file: ./data\\dermamnist_64.npz\n",
      "Using downloaded and verified file: ./data\\dermamnist_64.npz\n"
     ]
    },
    {
     "name": "stderr",
     "output_type": "stream",
     "text": [
      "[I 2025-01-25 00:30:59,306] Trial 29 finished with value: 0.29226932668329175 and parameters: {'batch_size': 64, 'learning_rate': 0.004632124810752619, 'dropout_rate': 0.374630414304541}. Best is trial 4 with value: 0.24488778054862848.\n"
     ]
    },
    {
     "name": "stdout",
     "output_type": "stream",
     "text": [
      "Using downloaded and verified file: ./data\\dermamnist_64.npz\n",
      "Using downloaded and verified file: ./data\\dermamnist_64.npz\n"
     ]
    },
    {
     "name": "stderr",
     "output_type": "stream",
     "text": [
      "[I 2025-01-25 00:32:18,925] Trial 30 finished with value: 0.28628428927680794 and parameters: {'batch_size': 32, 'learning_rate': 0.001675296922048843, 'dropout_rate': 0.4448532617951217}. Best is trial 4 with value: 0.24488778054862848.\n"
     ]
    },
    {
     "name": "stdout",
     "output_type": "stream",
     "text": [
      "Using downloaded and verified file: ./data\\dermamnist_64.npz\n",
      "Using downloaded and verified file: ./data\\dermamnist_64.npz\n"
     ]
    },
    {
     "name": "stderr",
     "output_type": "stream",
     "text": [
      "[I 2025-01-25 00:33:34,588] Trial 31 finished with value: 0.25586034912718203 and parameters: {'batch_size': 32, 'learning_rate': 0.009817970141946278, 'dropout_rate': 0.2701008260394394}. Best is trial 4 with value: 0.24488778054862848.\n"
     ]
    },
    {
     "name": "stdout",
     "output_type": "stream",
     "text": [
      "Using downloaded and verified file: ./data\\dermamnist_64.npz\n",
      "Using downloaded and verified file: ./data\\dermamnist_64.npz\n"
     ]
    },
    {
     "name": "stderr",
     "output_type": "stream",
     "text": [
      "[I 2025-01-25 00:34:51,838] Trial 32 finished with value: 0.24588528678304244 and parameters: {'batch_size': 32, 'learning_rate': 0.007939695902320897, 'dropout_rate': 0.25675271540791117}. Best is trial 4 with value: 0.24488778054862848.\n"
     ]
    },
    {
     "name": "stdout",
     "output_type": "stream",
     "text": [
      "Using downloaded and verified file: ./data\\dermamnist_64.npz\n",
      "Using downloaded and verified file: ./data\\dermamnist_64.npz\n"
     ]
    },
    {
     "name": "stderr",
     "output_type": "stream",
     "text": [
      "[I 2025-01-25 00:36:07,834] Trial 33 finished with value: 0.2453865336658354 and parameters: {'batch_size': 32, 'learning_rate': 0.007079444239458832, 'dropout_rate': 0.36054653970525585}. Best is trial 4 with value: 0.24488778054862848.\n"
     ]
    },
    {
     "name": "stdout",
     "output_type": "stream",
     "text": [
      "Using downloaded and verified file: ./data\\dermamnist_64.npz\n",
      "Using downloaded and verified file: ./data\\dermamnist_64.npz\n"
     ]
    },
    {
     "name": "stderr",
     "output_type": "stream",
     "text": [
      "[I 2025-01-25 00:37:22,190] Trial 34 finished with value: 0.2628428927680798 and parameters: {'batch_size': 32, 'learning_rate': 0.007407142868942267, 'dropout_rate': 0.34796535907340975}. Best is trial 4 with value: 0.24488778054862848.\n"
     ]
    },
    {
     "name": "stdout",
     "output_type": "stream",
     "text": [
      "Using downloaded and verified file: ./data\\dermamnist_64.npz\n",
      "Using downloaded and verified file: ./data\\dermamnist_64.npz\n"
     ]
    },
    {
     "name": "stderr",
     "output_type": "stream",
     "text": [
      "[I 2025-01-25 00:38:28,868] Trial 35 finished with value: 0.3092269326683291 and parameters: {'batch_size': 256, 'learning_rate': 0.00543829467941268, 'dropout_rate': 0.3647043374921138}. Best is trial 4 with value: 0.24488778054862848.\n"
     ]
    },
    {
     "name": "stdout",
     "output_type": "stream",
     "text": [
      "Using downloaded and verified file: ./data\\dermamnist_64.npz\n",
      "Using downloaded and verified file: ./data\\dermamnist_64.npz\n"
     ]
    },
    {
     "name": "stderr",
     "output_type": "stream",
     "text": [
      "[I 2025-01-25 00:39:46,208] Trial 36 finished with value: 0.2668329177057357 and parameters: {'batch_size': 32, 'learning_rate': 0.0029776976771453134, 'dropout_rate': 0.4059614400252592}. Best is trial 4 with value: 0.24488778054862848.\n"
     ]
    },
    {
     "name": "stdout",
     "output_type": "stream",
     "text": [
      "Using downloaded and verified file: ./data\\dermamnist_64.npz\n",
      "Using downloaded and verified file: ./data\\dermamnist_64.npz\n"
     ]
    },
    {
     "name": "stderr",
     "output_type": "stream",
     "text": [
      "[I 2025-01-25 00:40:56,872] Trial 37 finished with value: 0.2673316708229426 and parameters: {'batch_size': 64, 'learning_rate': 0.007742118229974573, 'dropout_rate': 0.38668770622561627}. Best is trial 4 with value: 0.24488778054862848.\n"
     ]
    },
    {
     "name": "stdout",
     "output_type": "stream",
     "text": [
      "Using downloaded and verified file: ./data\\dermamnist_64.npz\n",
      "Using downloaded and verified file: ./data\\dermamnist_64.npz\n"
     ]
    },
    {
     "name": "stderr",
     "output_type": "stream",
     "text": [
      "[I 2025-01-25 00:42:14,746] Trial 38 finished with value: 0.3087281795511222 and parameters: {'batch_size': 32, 'learning_rate': 0.0005020819933658857, 'dropout_rate': 0.3575876228538234}. Best is trial 4 with value: 0.24488778054862848.\n"
     ]
    },
    {
     "name": "stdout",
     "output_type": "stream",
     "text": [
      "Using downloaded and verified file: ./data\\dermamnist_64.npz\n",
      "Using downloaded and verified file: ./data\\dermamnist_64.npz\n"
     ]
    },
    {
     "name": "stderr",
     "output_type": "stream",
     "text": [
      "[I 2025-01-25 00:43:21,230] Trial 39 finished with value: 0.33117206982543645 and parameters: {'batch_size': 256, 'learning_rate': 0.0008413595450678388, 'dropout_rate': 0.3263747599498785}. Best is trial 4 with value: 0.24488778054862848.\n"
     ]
    },
    {
     "name": "stdout",
     "output_type": "stream",
     "text": [
      "Using downloaded and verified file: ./data\\dermamnist_64.npz\n",
      "Using downloaded and verified file: ./data\\dermamnist_64.npz\n"
     ]
    },
    {
     "name": "stderr",
     "output_type": "stream",
     "text": [
      "[I 2025-01-25 00:44:33,295] Trial 40 finished with value: 0.33117206982543645 and parameters: {'batch_size': 64, 'learning_rate': 0.0003041393481440803, 'dropout_rate': 0.20934403127352486}. Best is trial 4 with value: 0.24488778054862848.\n"
     ]
    },
    {
     "name": "stdout",
     "output_type": "stream",
     "text": [
      "Using downloaded and verified file: ./data\\dermamnist_64.npz\n",
      "Using downloaded and verified file: ./data\\dermamnist_64.npz\n"
     ]
    },
    {
     "name": "stderr",
     "output_type": "stream",
     "text": [
      "[I 2025-01-25 00:45:59,512] Trial 41 finished with value: 0.24738154613466334 and parameters: {'batch_size': 32, 'learning_rate': 0.005636194966668353, 'dropout_rate': 0.2903130815474516}. Best is trial 4 with value: 0.24488778054862848.\n"
     ]
    },
    {
     "name": "stdout",
     "output_type": "stream",
     "text": [
      "Using downloaded and verified file: ./data\\dermamnist_64.npz\n",
      "Using downloaded and verified file: ./data\\dermamnist_64.npz\n"
     ]
    },
    {
     "name": "stderr",
     "output_type": "stream",
     "text": [
      "[I 2025-01-25 00:47:19,719] Trial 42 finished with value: 0.2523690773067332 and parameters: {'batch_size': 32, 'learning_rate': 0.005594514929907365, 'dropout_rate': 0.2926524895383995}. Best is trial 4 with value: 0.24488778054862848.\n"
     ]
    },
    {
     "name": "stdout",
     "output_type": "stream",
     "text": [
      "Using downloaded and verified file: ./data\\dermamnist_64.npz\n",
      "Using downloaded and verified file: ./data\\dermamnist_64.npz\n"
     ]
    },
    {
     "name": "stderr",
     "output_type": "stream",
     "text": [
      "[I 2025-01-25 00:48:39,492] Trial 43 finished with value: 0.2498753117206982 and parameters: {'batch_size': 32, 'learning_rate': 0.007609319646970938, 'dropout_rate': 0.3136335126463314}. Best is trial 4 with value: 0.24488778054862848.\n"
     ]
    },
    {
     "name": "stdout",
     "output_type": "stream",
     "text": [
      "Using downloaded and verified file: ./data\\dermamnist_64.npz\n",
      "Using downloaded and verified file: ./data\\dermamnist_64.npz\n"
     ]
    },
    {
     "name": "stderr",
     "output_type": "stream",
     "text": [
      "[I 2025-01-25 00:50:01,468] Trial 44 finished with value: 0.24937655860349128 and parameters: {'batch_size': 32, 'learning_rate': 0.005385826950378111, 'dropout_rate': 0.2575157155751133}. Best is trial 4 with value: 0.24488778054862848.\n"
     ]
    },
    {
     "name": "stdout",
     "output_type": "stream",
     "text": [
      "Using downloaded and verified file: ./data\\dermamnist_64.npz\n",
      "Using downloaded and verified file: ./data\\dermamnist_64.npz\n"
     ]
    },
    {
     "name": "stderr",
     "output_type": "stream",
     "text": [
      "[I 2025-01-25 00:51:23,803] Trial 45 finished with value: 0.25735660847880304 and parameters: {'batch_size': 32, 'learning_rate': 0.008026652237928136, 'dropout_rate': 0.3432106712469772}. Best is trial 4 with value: 0.24488778054862848.\n"
     ]
    },
    {
     "name": "stdout",
     "output_type": "stream",
     "text": [
      "Using downloaded and verified file: ./data\\dermamnist_64.npz\n",
      "Using downloaded and verified file: ./data\\dermamnist_64.npz\n"
     ]
    },
    {
     "name": "stderr",
     "output_type": "stream",
     "text": [
      "[I 2025-01-25 00:52:33,553] Trial 46 finished with value: 0.31970074812967586 and parameters: {'batch_size': 256, 'learning_rate': 0.0033588167596404943, 'dropout_rate': 0.2565522309626212}. Best is trial 4 with value: 0.24488778054862848.\n"
     ]
    },
    {
     "name": "stdout",
     "output_type": "stream",
     "text": [
      "Using downloaded and verified file: ./data\\dermamnist_64.npz\n",
      "Using downloaded and verified file: ./data\\dermamnist_64.npz\n"
     ]
    },
    {
     "name": "stderr",
     "output_type": "stream",
     "text": [
      "[I 2025-01-25 00:53:54,686] Trial 47 finished with value: 0.28329177057356614 and parameters: {'batch_size': 32, 'learning_rate': 0.0024276948283367206, 'dropout_rate': 0.2854291004937208}. Best is trial 4 with value: 0.24488778054862848.\n"
     ]
    },
    {
     "name": "stdout",
     "output_type": "stream",
     "text": [
      "Using downloaded and verified file: ./data\\dermamnist_64.npz\n",
      "Using downloaded and verified file: ./data\\dermamnist_64.npz\n"
     ]
    },
    {
     "name": "stderr",
     "output_type": "stream",
     "text": [
      "[I 2025-01-25 00:55:09,940] Trial 48 finished with value: 0.29975062344139647 and parameters: {'batch_size': 128, 'learning_rate': 0.0047285814230474035, 'dropout_rate': 0.3165995728713044}. Best is trial 4 with value: 0.24488778054862848.\n"
     ]
    },
    {
     "name": "stdout",
     "output_type": "stream",
     "text": [
      "Using downloaded and verified file: ./data\\dermamnist_64.npz\n",
      "Using downloaded and verified file: ./data\\dermamnist_64.npz\n"
     ]
    },
    {
     "name": "stderr",
     "output_type": "stream",
     "text": [
      "[I 2025-01-25 00:56:34,619] Trial 49 finished with value: 0.26184538653366585 and parameters: {'batch_size': 32, 'learning_rate': 0.008548152764017682, 'dropout_rate': 0.393622318026706}. Best is trial 4 with value: 0.24488778054862848.\n"
     ]
    },
    {
     "name": "stdout",
     "output_type": "stream",
     "text": [
      "Najlepsze hiperparametry:  {'batch_size': 32, 'learning_rate': 0.007176987758455425, 'dropout_rate': 0.384238726251657}\n",
      "Najlepszy wynik:  0.7551122194513715\n"
     ]
    }
   ],
   "source": [
    "torch.cuda.empty_cache()\n",
    "class CNN(nn.Module):\n",
    "    def __init__(self, dropout_rate):\n",
    "        super(CNN, self).__init__()\n",
    "        self.conv1 = nn.Conv2d(3, 32, kernel_size=3, stride=1, bias=False)\n",
    "        self.bn1 = nn.BatchNorm2d(32)\n",
    "        self.conv2 = nn.Conv2d(32, 64, kernel_size=3, stride=1, padding=1, bias=False)\n",
    "        self.bn2 = nn.BatchNorm2d(64)\n",
    "        self.conv3 = nn.Conv2d(64, 128, kernel_size=3, stride=1, padding=1, bias=False)\n",
    "        self.bn3 = nn.BatchNorm2d(128)\n",
    "        self.conv4 = nn.Conv2d(128, 256, kernel_size=3, stride=1, padding=1, bias=False)\n",
    "        self.bn4 = nn.BatchNorm2d(256)\n",
    "        self.conv5 = nn.Conv2d(256, 512, kernel_size=3, stride=1, padding=1, bias=False)\n",
    "        self.bn5 = nn.BatchNorm2d(512)\n",
    "\n",
    "        self.pool = nn.MaxPool2d(kernel_size=2)\n",
    "        self.relu = nn.ReLU()\n",
    "        self.dropout = nn.Dropout(0.5)\n",
    "\n",
    "        # Oblicz rozmiar spłaszczonego tensora\n",
    "        self.flattened_size = self.get_flattened_size((3, 64, 64))\n",
    "        self.fc1 = nn.Linear(self.flattened_size, 256)\n",
    "        self.fc2 = nn.Linear(256, 128)\n",
    "        self.fc3 = nn.Linear(128, 7)  # 7 klas w DermaMNIST\n",
    "\n",
    "    def get_flattened_size(self, input_shape):\n",
    "        x = torch.zeros(1, *input_shape)\n",
    "        x = self.pool(self.relu(self.conv1(x)))\n",
    "        x = self.pool(self.relu(self.conv2(x)))\n",
    "        x = self.pool(self.relu(self.conv3(x)))\n",
    "        x = self.pool(self.relu(self.conv4(x)))\n",
    "        x = self.pool(self.relu(self.conv5(x)))\n",
    "        return x.view(1, -1).size(1)\n",
    "\n",
    "    def forward(self, x):\n",
    "        x = self.relu(self.bn1(self.conv1(x)))\n",
    "        x = self.pool(x)\n",
    "        x = self.relu(self.bn2(self.conv2(x)))\n",
    "        x = self.pool(x)\n",
    "        x = self.relu(self.bn3(self.conv3(x)))\n",
    "        x = self.pool(x)\n",
    "        x = self.relu(self.bn4(self.conv4(x)))\n",
    "        x = self.pool(x)\n",
    "        x = self.relu(self.bn5(self.conv5(x)))\n",
    "        x = self.pool(x)\n",
    "        x = x.view(x.size(0), -1)\n",
    "        x = self.relu(self.fc1(x))\n",
    "        x = self.relu(self.fc2(x))\n",
    "        x = self.fc3(x)\n",
    "        return x\n",
    "\n",
    "# Funkcja celu dla Optuny\n",
    "def objective(trial):\n",
    "    # Hiperparametry do tuningu\n",
    "    batch_size = trial.suggest_categorical(\"batch_size\", [32, 64, 128, 256])\n",
    "    learning_rate = trial.suggest_loguniform(\"learning_rate\", 1e-4, 1e-2)\n",
    "    dropout_rate = trial.suggest_uniform(\"dropout_rate\", 0.2, 0.5)\n",
    "\n",
    "    # Dane\n",
    "    transform = transforms.Compose([\n",
    "        transforms.ToTensor(),\n",
    "        transforms.RandomHorizontalFlip(p=0.5),\n",
    "        transforms.RandomRotation(10),\n",
    "        transforms.RandomAutocontrast(p=0.5),\n",
    "        transforms.RandomVerticalFlip(p=0.5),\n",
    "        transforms.Normalize((0.5,), (0.5,))\n",
    "    ])\n",
    "    train_dataset = DermaMNIST(root='./data', split=\"train\", download=True, transform=transform, size=64)\n",
    "    test_dataset = DermaMNIST(root='./data', split=\"test\", download=True, transform=transform, size=64)\n",
    "    train_loader = DataLoader(train_dataset, batch_size=batch_size, shuffle=True)\n",
    "    test_loader = DataLoader(test_dataset, batch_size=batch_size, shuffle=False)\n",
    "\n",
    "    # Model\n",
    "    model = CNN(dropout_rate).to(device)\n",
    "    criterion = nn.CrossEntropyLoss()\n",
    "    optimizer = optim.SGD(model.parameters(), lr=learning_rate)\n",
    "\n",
    "    # Trening\n",
    "    for epoch in range(10):  # Mała liczba epok do szybkiego tuningu\n",
    "        model.train()\n",
    "        for data, target in train_loader:\n",
    "            data, target = data.to(device), target.to(device)\n",
    "            target = target.long()  # Ensure target is of type torch.long\n",
    "            if len(target.size()) > 1:\n",
    "                target = target.squeeze()  # Remove extra dimensions\n",
    "            optimizer.zero_grad()\n",
    "            outputs = model(data)\n",
    "            loss = criterion(outputs, target)\n",
    "            loss.backward()\n",
    "            optimizer.step()\n",
    "\n",
    "    # Ewaluacja\n",
    "    model.eval()\n",
    "    correct = 0\n",
    "    total = 0\n",
    "    with torch.no_grad():\n",
    "        for data, target in test_loader:\n",
    "            data, target = data.to(device), target.to(device)\n",
    "            target = target.long()  # Ensure target is of type torch.long\n",
    "            if len(target.size()) > 1:\n",
    "                target = target.squeeze()  # Remove extra dimensions\n",
    "            outputs = model(data)\n",
    "            _, predicted = torch.max(outputs, 1)\n",
    "            correct += (predicted == target).sum().item()\n",
    "            total += target.size(0)\n",
    "\n",
    "    accuracy = correct / total\n",
    "    return 1 - accuracy  # Minimalizujemy 1 - accuracy\n",
    "\n",
    "# Główna funkcja\n",
    "if __name__ == \"__main__\":\n",
    "    device = torch.device('cuda' if torch.cuda.is_available() else 'cpu')\n",
    "    study = optuna.create_study(direction=\"minimize\")  # Minimalizacja (1 - accuracy)\n",
    "    study.optimize(objective, n_trials=50)\n",
    "\n",
    "    # Najlepsze hiperparametry\n",
    "    print(\"Najlepsze hiperparametry: \", study.best_params)\n",
    "    print(\"Najlepszy wynik: \", 1 - study.best_value)"
   ]
  }
 ],
 "metadata": {
  "kernelspec": {
   "display_name": "Python 3 (ipykernel)",
   "language": "python",
   "name": "python3"
  },
  "language_info": {
   "codemirror_mode": {
    "name": "ipython",
    "version": 3
   },
   "file_extension": ".py",
   "mimetype": "text/x-python",
   "name": "python",
   "nbconvert_exporter": "python",
   "pygments_lexer": "ipython3",
   "version": "3.12.8"
  }
 },
 "nbformat": 4,
 "nbformat_minor": 5
}
