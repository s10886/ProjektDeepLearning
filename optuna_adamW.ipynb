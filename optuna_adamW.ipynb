{
 "cells": [
  {
   "cell_type": "code",
   "execution_count": 1,
   "id": "9ee182e5-0d22-4cd6-bbc6-1964d39f9728",
   "metadata": {},
   "outputs": [],
   "source": [
    "#!pip install neptune\n",
    "#!pip install optuna\n",
    "import torch\n",
    "import torch.nn as nn\n",
    "import numpy as np\n",
    "import torch.optim as optim\n",
    "import matplotlib.pyplot as plt\n",
    "from torch.utils.data import DataLoader\n",
    "from torchvision import datasets, transforms\n",
    "from medmnist import DermaMNIST\n",
    "import random\n",
    "import neptune\n",
    "import itertools\n",
    "import optuna"
   ]
  },
  {
   "cell_type": "code",
   "execution_count": 2,
   "id": "5560781b-2867-43f9-a819-cf17e68fc718",
   "metadata": {},
   "outputs": [
    {
     "name": "stderr",
     "output_type": "stream",
     "text": [
      "[I 2025-01-24 11:35:42,847] A new study created in memory with name: no-name-e5716e93-fac5-4f9e-9f17-1260544065b5\n",
      "C:\\Users\\Kamil\\AppData\\Local\\Temp\\ipykernel_31892\\2192123322.py:42: FutureWarning: suggest_loguniform has been deprecated in v3.0.0. This feature will be removed in v6.0.0. See https://github.com/optuna/optuna/releases/tag/v3.0.0. Use suggest_float(..., log=True) instead.\n",
      "  learning_rate = trial.suggest_loguniform(\"learning_rate\", 1e-4, 1e-2)\n",
      "C:\\Users\\Kamil\\AppData\\Local\\Temp\\ipykernel_31892\\2192123322.py:43: FutureWarning: suggest_uniform has been deprecated in v3.0.0. This feature will be removed in v6.0.0. See https://github.com/optuna/optuna/releases/tag/v3.0.0. Use suggest_float instead.\n",
      "  dropout_rate = trial.suggest_uniform(\"dropout_rate\", 0.2, 0.5)\n"
     ]
    },
    {
     "name": "stdout",
     "output_type": "stream",
     "text": [
      "Using downloaded and verified file: ./data\\dermamnist_64.npz\n",
      "Using downloaded and verified file: ./data\\dermamnist_64.npz\n"
     ]
    },
    {
     "name": "stderr",
     "output_type": "stream",
     "text": [
      "[I 2025-01-24 11:35:54,484] Trial 0 finished with value: 0.29526184538653366 and parameters: {'batch_size': 256, 'learning_rate': 0.009103258635404997, 'dropout_rate': 0.2922216835846601}. Best is trial 0 with value: 0.29526184538653366.\n"
     ]
    },
    {
     "name": "stdout",
     "output_type": "stream",
     "text": [
      "Using downloaded and verified file: ./data\\dermamnist_64.npz\n",
      "Using downloaded and verified file: ./data\\dermamnist_64.npz\n"
     ]
    },
    {
     "name": "stderr",
     "output_type": "stream",
     "text": [
      "[I 2025-01-24 11:36:12,025] Trial 1 finished with value: 0.23890274314214466 and parameters: {'batch_size': 32, 'learning_rate': 0.0005667539382232597, 'dropout_rate': 0.24135069335667592}. Best is trial 1 with value: 0.23890274314214466.\n"
     ]
    },
    {
     "name": "stdout",
     "output_type": "stream",
     "text": [
      "Using downloaded and verified file: ./data\\dermamnist_64.npz\n",
      "Using downloaded and verified file: ./data\\dermamnist_64.npz\n"
     ]
    },
    {
     "name": "stderr",
     "output_type": "stream",
     "text": [
      "[I 2025-01-24 11:36:26,300] Trial 2 finished with value: 0.24788029925187027 and parameters: {'batch_size': 64, 'learning_rate': 0.00018985566302049075, 'dropout_rate': 0.350805607963276}. Best is trial 1 with value: 0.23890274314214466.\n"
     ]
    },
    {
     "name": "stdout",
     "output_type": "stream",
     "text": [
      "Using downloaded and verified file: ./data\\dermamnist_64.npz\n",
      "Using downloaded and verified file: ./data\\dermamnist_64.npz\n"
     ]
    },
    {
     "name": "stderr",
     "output_type": "stream",
     "text": [
      "[I 2025-01-24 11:36:39,271] Trial 3 finished with value: 0.25935162094763087 and parameters: {'batch_size': 128, 'learning_rate': 0.004964652125682189, 'dropout_rate': 0.392048171541042}. Best is trial 1 with value: 0.23890274314214466.\n"
     ]
    },
    {
     "name": "stdout",
     "output_type": "stream",
     "text": [
      "Using downloaded and verified file: ./data\\dermamnist_64.npz\n",
      "Using downloaded and verified file: ./data\\dermamnist_64.npz\n"
     ]
    },
    {
     "name": "stderr",
     "output_type": "stream",
     "text": [
      "[I 2025-01-24 11:36:57,507] Trial 4 finished with value: 0.23291770573566084 and parameters: {'batch_size': 32, 'learning_rate': 0.00017371495176832184, 'dropout_rate': 0.22266925639908547}. Best is trial 4 with value: 0.23291770573566084.\n"
     ]
    },
    {
     "name": "stdout",
     "output_type": "stream",
     "text": [
      "Using downloaded and verified file: ./data\\dermamnist_64.npz\n",
      "Using downloaded and verified file: ./data\\dermamnist_64.npz\n"
     ]
    },
    {
     "name": "stderr",
     "output_type": "stream",
     "text": [
      "[I 2025-01-24 11:37:11,523] Trial 5 finished with value: 0.2498753117206982 and parameters: {'batch_size': 128, 'learning_rate': 0.0001538698090704058, 'dropout_rate': 0.23145110736765542}. Best is trial 4 with value: 0.23291770573566084.\n"
     ]
    },
    {
     "name": "stdout",
     "output_type": "stream",
     "text": [
      "Using downloaded and verified file: ./data\\dermamnist_64.npz\n",
      "Using downloaded and verified file: ./data\\dermamnist_64.npz\n"
     ]
    },
    {
     "name": "stderr",
     "output_type": "stream",
     "text": [
      "[I 2025-01-24 11:37:24,789] Trial 6 finished with value: 0.28927680798004984 and parameters: {'batch_size': 256, 'learning_rate': 0.006306316105573983, 'dropout_rate': 0.3685555126727841}. Best is trial 4 with value: 0.23291770573566084.\n"
     ]
    },
    {
     "name": "stdout",
     "output_type": "stream",
     "text": [
      "Using downloaded and verified file: ./data\\dermamnist_64.npz\n",
      "Using downloaded and verified file: ./data\\dermamnist_64.npz\n"
     ]
    },
    {
     "name": "stderr",
     "output_type": "stream",
     "text": [
      "[I 2025-01-24 11:37:44,521] Trial 7 finished with value: 0.27381546134663337 and parameters: {'batch_size': 32, 'learning_rate': 0.007136364728049482, 'dropout_rate': 0.32928138938557294}. Best is trial 4 with value: 0.23291770573566084.\n"
     ]
    },
    {
     "name": "stdout",
     "output_type": "stream",
     "text": [
      "Using downloaded and verified file: ./data\\dermamnist_64.npz\n",
      "Using downloaded and verified file: ./data\\dermamnist_64.npz\n"
     ]
    },
    {
     "name": "stderr",
     "output_type": "stream",
     "text": [
      "[I 2025-01-24 11:37:59,950] Trial 8 finished with value: 0.2324189526184539 and parameters: {'batch_size': 128, 'learning_rate': 0.00022767392309915892, 'dropout_rate': 0.21842979442432756}. Best is trial 8 with value: 0.2324189526184539.\n"
     ]
    },
    {
     "name": "stdout",
     "output_type": "stream",
     "text": [
      "Using downloaded and verified file: ./data\\dermamnist_64.npz\n",
      "Using downloaded and verified file: ./data\\dermamnist_64.npz\n"
     ]
    },
    {
     "name": "stderr",
     "output_type": "stream",
     "text": [
      "[I 2025-01-24 11:38:16,986] Trial 9 finished with value: 0.24438902743142144 and parameters: {'batch_size': 64, 'learning_rate': 0.0007483992084795406, 'dropout_rate': 0.4109438546826443}. Best is trial 8 with value: 0.2324189526184539.\n"
     ]
    },
    {
     "name": "stdout",
     "output_type": "stream",
     "text": [
      "Using downloaded and verified file: ./data\\dermamnist_64.npz\n",
      "Using downloaded and verified file: ./data\\dermamnist_64.npz\n"
     ]
    },
    {
     "name": "stderr",
     "output_type": "stream",
     "text": [
      "[I 2025-01-24 11:38:31,824] Trial 10 finished with value: 0.24189526184538657 and parameters: {'batch_size': 128, 'learning_rate': 0.0020807758942484587, 'dropout_rate': 0.49340292689282417}. Best is trial 8 with value: 0.2324189526184539.\n"
     ]
    },
    {
     "name": "stdout",
     "output_type": "stream",
     "text": [
      "Using downloaded and verified file: ./data\\dermamnist_64.npz\n",
      "Using downloaded and verified file: ./data\\dermamnist_64.npz\n"
     ]
    },
    {
     "name": "stderr",
     "output_type": "stream",
     "text": [
      "[I 2025-01-24 11:38:51,654] Trial 11 finished with value: 0.227930174563591 and parameters: {'batch_size': 32, 'learning_rate': 0.00031627360534899955, 'dropout_rate': 0.2093779554277328}. Best is trial 11 with value: 0.227930174563591.\n"
     ]
    },
    {
     "name": "stdout",
     "output_type": "stream",
     "text": [
      "Using downloaded and verified file: ./data\\dermamnist_64.npz\n",
      "Using downloaded and verified file: ./data\\dermamnist_64.npz\n"
     ]
    },
    {
     "name": "stderr",
     "output_type": "stream",
     "text": [
      "[I 2025-01-24 11:39:07,028] Trial 12 finished with value: 0.2309226932668329 and parameters: {'batch_size': 128, 'learning_rate': 0.00038758059175229235, 'dropout_rate': 0.20233859485041986}. Best is trial 11 with value: 0.227930174563591.\n"
     ]
    },
    {
     "name": "stdout",
     "output_type": "stream",
     "text": [
      "Using downloaded and verified file: ./data\\dermamnist_64.npz\n",
      "Using downloaded and verified file: ./data\\dermamnist_64.npz\n"
     ]
    },
    {
     "name": "stderr",
     "output_type": "stream",
     "text": [
      "[I 2025-01-24 11:39:28,110] Trial 13 finished with value: 0.227930174563591 and parameters: {'batch_size': 32, 'learning_rate': 0.00041983762168881664, 'dropout_rate': 0.27486443632059115}. Best is trial 11 with value: 0.227930174563591.\n"
     ]
    },
    {
     "name": "stdout",
     "output_type": "stream",
     "text": [
      "Using downloaded and verified file: ./data\\dermamnist_64.npz\n",
      "Using downloaded and verified file: ./data\\dermamnist_64.npz\n"
     ]
    },
    {
     "name": "stderr",
     "output_type": "stream",
     "text": [
      "[I 2025-01-24 11:39:48,859] Trial 14 finished with value: 0.2598503740648379 and parameters: {'batch_size': 32, 'learning_rate': 0.0015491375202996735, 'dropout_rate': 0.2812958293054341}. Best is trial 11 with value: 0.227930174563591.\n"
     ]
    },
    {
     "name": "stdout",
     "output_type": "stream",
     "text": [
      "Using downloaded and verified file: ./data\\dermamnist_64.npz\n",
      "Using downloaded and verified file: ./data\\dermamnist_64.npz\n"
     ]
    },
    {
     "name": "stderr",
     "output_type": "stream",
     "text": [
      "[I 2025-01-24 11:40:08,721] Trial 15 finished with value: 0.24738154613466334 and parameters: {'batch_size': 32, 'learning_rate': 0.000333832904176582, 'dropout_rate': 0.2772456184674612}. Best is trial 11 with value: 0.227930174563591.\n"
     ]
    },
    {
     "name": "stdout",
     "output_type": "stream",
     "text": [
      "Using downloaded and verified file: ./data\\dermamnist_64.npz\n",
      "Using downloaded and verified file: ./data\\dermamnist_64.npz\n"
     ]
    },
    {
     "name": "stderr",
     "output_type": "stream",
     "text": [
      "[I 2025-01-24 11:40:28,491] Trial 16 finished with value: 0.23840399002493762 and parameters: {'batch_size': 32, 'learning_rate': 0.00010246227566147414, 'dropout_rate': 0.30930991213936915}. Best is trial 11 with value: 0.227930174563591.\n"
     ]
    },
    {
     "name": "stdout",
     "output_type": "stream",
     "text": [
      "Using downloaded and verified file: ./data\\dermamnist_64.npz\n",
      "Using downloaded and verified file: ./data\\dermamnist_64.npz\n"
     ]
    },
    {
     "name": "stderr",
     "output_type": "stream",
     "text": [
      "[I 2025-01-24 11:40:48,249] Trial 17 finished with value: 0.24738154613466334 and parameters: {'batch_size': 32, 'learning_rate': 0.001273491833412348, 'dropout_rate': 0.25417258982818086}. Best is trial 11 with value: 0.227930174563591.\n"
     ]
    },
    {
     "name": "stdout",
     "output_type": "stream",
     "text": [
      "Using downloaded and verified file: ./data\\dermamnist_64.npz\n",
      "Using downloaded and verified file: ./data\\dermamnist_64.npz\n"
     ]
    },
    {
     "name": "stderr",
     "output_type": "stream",
     "text": [
      "[I 2025-01-24 11:41:10,127] Trial 18 finished with value: 0.25486284289276806 and parameters: {'batch_size': 32, 'learning_rate': 0.0004842264567004687, 'dropout_rate': 0.2662379321191408}. Best is trial 11 with value: 0.227930174563591.\n"
     ]
    },
    {
     "name": "stdout",
     "output_type": "stream",
     "text": [
      "Using downloaded and verified file: ./data\\dermamnist_64.npz\n",
      "Using downloaded and verified file: ./data\\dermamnist_64.npz\n"
     ]
    },
    {
     "name": "stderr",
     "output_type": "stream",
     "text": [
      "[I 2025-01-24 11:41:28,472] Trial 19 finished with value: 0.2379052369077307 and parameters: {'batch_size': 256, 'learning_rate': 0.0008512760637857438, 'dropout_rate': 0.45497776169230614}. Best is trial 11 with value: 0.227930174563591.\n"
     ]
    },
    {
     "name": "stdout",
     "output_type": "stream",
     "text": [
      "Using downloaded and verified file: ./data\\dermamnist_64.npz\n",
      "Using downloaded and verified file: ./data\\dermamnist_64.npz\n"
     ]
    },
    {
     "name": "stderr",
     "output_type": "stream",
     "text": [
      "[I 2025-01-24 11:41:49,599] Trial 20 finished with value: 0.26334164588528675 and parameters: {'batch_size': 64, 'learning_rate': 0.0034241755682069075, 'dropout_rate': 0.3209057313919134}. Best is trial 11 with value: 0.227930174563591.\n"
     ]
    },
    {
     "name": "stdout",
     "output_type": "stream",
     "text": [
      "Using downloaded and verified file: ./data\\dermamnist_64.npz\n",
      "Using downloaded and verified file: ./data\\dermamnist_64.npz\n"
     ]
    },
    {
     "name": "stderr",
     "output_type": "stream",
     "text": [
      "[I 2025-01-24 11:42:08,913] Trial 21 finished with value: 0.23042394014962597 and parameters: {'batch_size': 128, 'learning_rate': 0.0003446093177940248, 'dropout_rate': 0.20079404510440507}. Best is trial 11 with value: 0.227930174563591.\n"
     ]
    },
    {
     "name": "stdout",
     "output_type": "stream",
     "text": [
      "Using downloaded and verified file: ./data\\dermamnist_64.npz\n",
      "Using downloaded and verified file: ./data\\dermamnist_64.npz\n"
     ]
    },
    {
     "name": "stderr",
     "output_type": "stream",
     "text": [
      "[I 2025-01-24 11:42:28,345] Trial 22 finished with value: 0.22743142144638406 and parameters: {'batch_size': 128, 'learning_rate': 0.00029573056214837143, 'dropout_rate': 0.20003392055056984}. Best is trial 22 with value: 0.22743142144638406.\n"
     ]
    },
    {
     "name": "stdout",
     "output_type": "stream",
     "text": [
      "Using downloaded and verified file: ./data\\dermamnist_64.npz\n",
      "Using downloaded and verified file: ./data\\dermamnist_64.npz\n"
     ]
    },
    {
     "name": "stderr",
     "output_type": "stream",
     "text": [
      "[I 2025-01-24 11:42:51,949] Trial 23 finished with value: 0.23142144638403994 and parameters: {'batch_size': 32, 'learning_rate': 0.0003086400810585782, 'dropout_rate': 0.25552782991782125}. Best is trial 22 with value: 0.22743142144638406.\n"
     ]
    },
    {
     "name": "stdout",
     "output_type": "stream",
     "text": [
      "Using downloaded and verified file: ./data\\dermamnist_64.npz\n",
      "Using downloaded and verified file: ./data\\dermamnist_64.npz\n"
     ]
    },
    {
     "name": "stderr",
     "output_type": "stream",
     "text": [
      "[I 2025-01-24 11:43:17,442] Trial 24 finished with value: 0.22493765586034908 and parameters: {'batch_size': 32, 'learning_rate': 0.0001056353736278565, 'dropout_rate': 0.23499726362401058}. Best is trial 24 with value: 0.22493765586034908.\n"
     ]
    },
    {
     "name": "stdout",
     "output_type": "stream",
     "text": [
      "Using downloaded and verified file: ./data\\dermamnist_64.npz\n",
      "Using downloaded and verified file: ./data\\dermamnist_64.npz\n"
     ]
    },
    {
     "name": "stderr",
     "output_type": "stream",
     "text": [
      "[I 2025-01-24 11:43:37,174] Trial 25 finished with value: 0.23690773067331672 and parameters: {'batch_size': 128, 'learning_rate': 0.00010827501364407384, 'dropout_rate': 0.23051611226884236}. Best is trial 24 with value: 0.22493765586034908.\n"
     ]
    },
    {
     "name": "stdout",
     "output_type": "stream",
     "text": [
      "Using downloaded and verified file: ./data\\dermamnist_64.npz\n",
      "Using downloaded and verified file: ./data\\dermamnist_64.npz\n"
     ]
    },
    {
     "name": "stderr",
     "output_type": "stream",
     "text": [
      "[I 2025-01-24 11:43:56,315] Trial 26 finished with value: 0.23591022443890275 and parameters: {'batch_size': 256, 'learning_rate': 0.00024063660619705318, 'dropout_rate': 0.20217599108392847}. Best is trial 24 with value: 0.22493765586034908.\n"
     ]
    },
    {
     "name": "stdout",
     "output_type": "stream",
     "text": [
      "Using downloaded and verified file: ./data\\dermamnist_64.npz\n",
      "Using downloaded and verified file: ./data\\dermamnist_64.npz\n"
     ]
    },
    {
     "name": "stderr",
     "output_type": "stream",
     "text": [
      "[I 2025-01-24 11:44:17,745] Trial 27 finished with value: 0.22244389027431422 and parameters: {'batch_size': 64, 'learning_rate': 0.00013029088866961782, 'dropout_rate': 0.24633944751904124}. Best is trial 27 with value: 0.22244389027431422.\n"
     ]
    },
    {
     "name": "stdout",
     "output_type": "stream",
     "text": [
      "Using downloaded and verified file: ./data\\dermamnist_64.npz\n",
      "Using downloaded and verified file: ./data\\dermamnist_64.npz\n"
     ]
    },
    {
     "name": "stderr",
     "output_type": "stream",
     "text": [
      "[I 2025-01-24 11:44:38,945] Trial 28 finished with value: 0.22344139650872819 and parameters: {'batch_size': 64, 'learning_rate': 0.0001374067980727198, 'dropout_rate': 0.24278020806858924}. Best is trial 27 with value: 0.22244389027431422.\n"
     ]
    },
    {
     "name": "stdout",
     "output_type": "stream",
     "text": [
      "Using downloaded and verified file: ./data\\dermamnist_64.npz\n",
      "Using downloaded and verified file: ./data\\dermamnist_64.npz\n"
     ]
    },
    {
     "name": "stderr",
     "output_type": "stream",
     "text": [
      "[I 2025-01-24 11:45:00,690] Trial 29 finished with value: 0.26633416458852865 and parameters: {'batch_size': 64, 'learning_rate': 0.00010005060843101227, 'dropout_rate': 0.29314444543397034}. Best is trial 27 with value: 0.22244389027431422.\n"
     ]
    },
    {
     "name": "stdout",
     "output_type": "stream",
     "text": [
      "Using downloaded and verified file: ./data\\dermamnist_64.npz\n",
      "Using downloaded and verified file: ./data\\dermamnist_64.npz\n"
     ]
    },
    {
     "name": "stderr",
     "output_type": "stream",
     "text": [
      "[I 2025-01-24 11:45:22,125] Trial 30 finished with value: 0.2264339152119701 and parameters: {'batch_size': 64, 'learning_rate': 0.00012811155897054396, 'dropout_rate': 0.3076852337647249}. Best is trial 27 with value: 0.22244389027431422.\n"
     ]
    },
    {
     "name": "stdout",
     "output_type": "stream",
     "text": [
      "Using downloaded and verified file: ./data\\dermamnist_64.npz\n",
      "Using downloaded and verified file: ./data\\dermamnist_64.npz\n"
     ]
    },
    {
     "name": "stderr",
     "output_type": "stream",
     "text": [
      "[I 2025-01-24 11:45:44,124] Trial 31 finished with value: 0.23840399002493762 and parameters: {'batch_size': 64, 'learning_rate': 0.0001454058489025708, 'dropout_rate': 0.30217166595136413}. Best is trial 27 with value: 0.22244389027431422.\n"
     ]
    },
    {
     "name": "stdout",
     "output_type": "stream",
     "text": [
      "Using downloaded and verified file: ./data\\dermamnist_64.npz\n",
      "Using downloaded and verified file: ./data\\dermamnist_64.npz\n"
     ]
    },
    {
     "name": "stderr",
     "output_type": "stream",
     "text": [
      "[I 2025-01-24 11:46:08,281] Trial 32 finished with value: 0.285785536159601 and parameters: {'batch_size': 64, 'learning_rate': 0.0001341094462617264, 'dropout_rate': 0.2475270660491298}. Best is trial 27 with value: 0.22244389027431422.\n"
     ]
    },
    {
     "name": "stdout",
     "output_type": "stream",
     "text": [
      "Using downloaded and verified file: ./data\\dermamnist_64.npz\n",
      "Using downloaded and verified file: ./data\\dermamnist_64.npz\n"
     ]
    },
    {
     "name": "stderr",
     "output_type": "stream",
     "text": [
      "[I 2025-01-24 11:46:30,196] Trial 33 finished with value: 0.2394014962593516 and parameters: {'batch_size': 64, 'learning_rate': 0.00020928482597110394, 'dropout_rate': 0.34656367325134174}. Best is trial 27 with value: 0.22244389027431422.\n"
     ]
    },
    {
     "name": "stdout",
     "output_type": "stream",
     "text": [
      "Using downloaded and verified file: ./data\\dermamnist_64.npz\n",
      "Using downloaded and verified file: ./data\\dermamnist_64.npz\n"
     ]
    },
    {
     "name": "stderr",
     "output_type": "stream",
     "text": [
      "[I 2025-01-24 11:46:55,897] Trial 34 finished with value: 0.24339152119700747 and parameters: {'batch_size': 64, 'learning_rate': 0.0001305765041584433, 'dropout_rate': 0.24106483556457484}. Best is trial 27 with value: 0.22244389027431422.\n"
     ]
    },
    {
     "name": "stdout",
     "output_type": "stream",
     "text": [
      "Using downloaded and verified file: ./data\\dermamnist_64.npz\n",
      "Using downloaded and verified file: ./data\\dermamnist_64.npz\n"
     ]
    },
    {
     "name": "stderr",
     "output_type": "stream",
     "text": [
      "[I 2025-01-24 11:47:18,599] Trial 35 finished with value: 0.22493765586034908 and parameters: {'batch_size': 64, 'learning_rate': 0.00017869540998331835, 'dropout_rate': 0.2587949647149155}. Best is trial 27 with value: 0.22244389027431422.\n"
     ]
    },
    {
     "name": "stdout",
     "output_type": "stream",
     "text": [
      "Using downloaded and verified file: ./data\\dermamnist_64.npz\n",
      "Using downloaded and verified file: ./data\\dermamnist_64.npz\n"
     ]
    },
    {
     "name": "stderr",
     "output_type": "stream",
     "text": [
      "[I 2025-01-24 11:47:40,352] Trial 36 finished with value: 0.23890274314214466 and parameters: {'batch_size': 64, 'learning_rate': 0.00018430408144808413, 'dropout_rate': 0.2579376222122769}. Best is trial 27 with value: 0.22244389027431422.\n"
     ]
    },
    {
     "name": "stdout",
     "output_type": "stream",
     "text": [
      "Using downloaded and verified file: ./data\\dermamnist_64.npz\n",
      "Using downloaded and verified file: ./data\\dermamnist_64.npz\n"
     ]
    },
    {
     "name": "stderr",
     "output_type": "stream",
     "text": [
      "[I 2025-01-24 11:48:02,424] Trial 37 finished with value: 0.24039900249376556 and parameters: {'batch_size': 64, 'learning_rate': 0.0006529882381813456, 'dropout_rate': 0.2395483987187314}. Best is trial 27 with value: 0.22244389027431422.\n"
     ]
    },
    {
     "name": "stdout",
     "output_type": "stream",
     "text": [
      "Using downloaded and verified file: ./data\\dermamnist_64.npz\n",
      "Using downloaded and verified file: ./data\\dermamnist_64.npz\n"
     ]
    },
    {
     "name": "stderr",
     "output_type": "stream",
     "text": [
      "[I 2025-01-24 11:48:24,977] Trial 38 finished with value: 0.22593516209476305 and parameters: {'batch_size': 64, 'learning_rate': 0.00016673815644954572, 'dropout_rate': 0.2883391759441687}. Best is trial 27 with value: 0.22244389027431422.\n"
     ]
    },
    {
     "name": "stdout",
     "output_type": "stream",
     "text": [
      "Using downloaded and verified file: ./data\\dermamnist_64.npz\n",
      "Using downloaded and verified file: ./data\\dermamnist_64.npz\n"
     ]
    },
    {
     "name": "stderr",
     "output_type": "stream",
     "text": [
      "[I 2025-01-24 11:48:48,279] Trial 39 finished with value: 0.23990024937655863 and parameters: {'batch_size': 64, 'learning_rate': 0.00025878316078696773, 'dropout_rate': 0.22430059249760184}. Best is trial 27 with value: 0.22244389027431422.\n"
     ]
    },
    {
     "name": "stdout",
     "output_type": "stream",
     "text": [
      "Using downloaded and verified file: ./data\\dermamnist_64.npz\n",
      "Using downloaded and verified file: ./data\\dermamnist_64.npz\n"
     ]
    },
    {
     "name": "stderr",
     "output_type": "stream",
     "text": [
      "[I 2025-01-24 11:49:10,956] Trial 40 finished with value: 0.23740648379052365 and parameters: {'batch_size': 256, 'learning_rate': 0.00018349481056707543, 'dropout_rate': 0.34078496474558995}. Best is trial 27 with value: 0.22244389027431422.\n"
     ]
    },
    {
     "name": "stdout",
     "output_type": "stream",
     "text": [
      "Using downloaded and verified file: ./data\\dermamnist_64.npz\n",
      "Using downloaded and verified file: ./data\\dermamnist_64.npz\n"
     ]
    },
    {
     "name": "stderr",
     "output_type": "stream",
     "text": [
      "[I 2025-01-24 11:49:34,191] Trial 41 finished with value: 0.2438902743142145 and parameters: {'batch_size': 64, 'learning_rate': 0.00016271386100499992, 'dropout_rate': 0.2689418486511601}. Best is trial 27 with value: 0.22244389027431422.\n"
     ]
    },
    {
     "name": "stdout",
     "output_type": "stream",
     "text": [
      "Using downloaded and verified file: ./data\\dermamnist_64.npz\n",
      "Using downloaded and verified file: ./data\\dermamnist_64.npz\n"
     ]
    },
    {
     "name": "stderr",
     "output_type": "stream",
     "text": [
      "[I 2025-01-24 11:49:57,500] Trial 42 finished with value: 0.23740648379052365 and parameters: {'batch_size': 64, 'learning_rate': 0.00012226347293017276, 'dropout_rate': 0.2886730568757738}. Best is trial 27 with value: 0.22244389027431422.\n"
     ]
    },
    {
     "name": "stdout",
     "output_type": "stream",
     "text": [
      "Using downloaded and verified file: ./data\\dermamnist_64.npz\n",
      "Using downloaded and verified file: ./data\\dermamnist_64.npz\n"
     ]
    },
    {
     "name": "stderr",
     "output_type": "stream",
     "text": [
      "[I 2025-01-24 11:50:20,550] Trial 43 finished with value: 0.22543640897755612 and parameters: {'batch_size': 64, 'learning_rate': 0.0001654472152035573, 'dropout_rate': 0.2217030376202623}. Best is trial 27 with value: 0.22244389027431422.\n"
     ]
    },
    {
     "name": "stdout",
     "output_type": "stream",
     "text": [
      "Using downloaded and verified file: ./data\\dermamnist_64.npz\n",
      "Using downloaded and verified file: ./data\\dermamnist_64.npz\n"
     ]
    },
    {
     "name": "stderr",
     "output_type": "stream",
     "text": [
      "[I 2025-01-24 11:50:43,474] Trial 44 finished with value: 0.2309226932668329 and parameters: {'batch_size': 64, 'learning_rate': 0.00022523881561190993, 'dropout_rate': 0.21930423981772465}. Best is trial 27 with value: 0.22244389027431422.\n"
     ]
    },
    {
     "name": "stdout",
     "output_type": "stream",
     "text": [
      "Using downloaded and verified file: ./data\\dermamnist_64.npz\n",
      "Using downloaded and verified file: ./data\\dermamnist_64.npz\n"
     ]
    },
    {
     "name": "stderr",
     "output_type": "stream",
     "text": [
      "[I 2025-01-24 11:51:06,165] Trial 45 finished with value: 0.23690773067331672 and parameters: {'batch_size': 64, 'learning_rate': 0.00015166102043804943, 'dropout_rate': 0.2345412002744695}. Best is trial 27 with value: 0.22244389027431422.\n"
     ]
    },
    {
     "name": "stdout",
     "output_type": "stream",
     "text": [
      "Using downloaded and verified file: ./data\\dermamnist_64.npz\n",
      "Using downloaded and verified file: ./data\\dermamnist_64.npz\n"
     ]
    },
    {
     "name": "stderr",
     "output_type": "stream",
     "text": [
      "[I 2025-01-24 11:51:37,149] Trial 46 finished with value: 0.22992518703241893 and parameters: {'batch_size': 64, 'learning_rate': 0.00019570538493134904, 'dropout_rate': 0.21728734155005777}. Best is trial 27 with value: 0.22244389027431422.\n"
     ]
    },
    {
     "name": "stdout",
     "output_type": "stream",
     "text": [
      "Using downloaded and verified file: ./data\\dermamnist_64.npz\n",
      "Using downloaded and verified file: ./data\\dermamnist_64.npz\n"
     ]
    },
    {
     "name": "stderr",
     "output_type": "stream",
     "text": [
      "[I 2025-01-24 11:51:59,842] Trial 47 finished with value: 0.25885286783042394 and parameters: {'batch_size': 64, 'learning_rate': 0.0005308531057927734, 'dropout_rate': 0.4031260863393404}. Best is trial 27 with value: 0.22244389027431422.\n"
     ]
    },
    {
     "name": "stdout",
     "output_type": "stream",
     "text": [
      "Using downloaded and verified file: ./data\\dermamnist_64.npz\n",
      "Using downloaded and verified file: ./data\\dermamnist_64.npz\n"
     ]
    },
    {
     "name": "stderr",
     "output_type": "stream",
     "text": [
      "[I 2025-01-24 11:52:20,900] Trial 48 finished with value: 0.24189526184538657 and parameters: {'batch_size': 256, 'learning_rate': 0.00011749054388601355, 'dropout_rate': 0.2628127622098107}. Best is trial 27 with value: 0.22244389027431422.\n"
     ]
    },
    {
     "name": "stdout",
     "output_type": "stream",
     "text": [
      "Using downloaded and verified file: ./data\\dermamnist_64.npz\n",
      "Using downloaded and verified file: ./data\\dermamnist_64.npz\n"
     ]
    },
    {
     "name": "stderr",
     "output_type": "stream",
     "text": [
      "[I 2025-01-24 11:52:44,180] Trial 49 finished with value: 0.23640897755610968 and parameters: {'batch_size': 64, 'learning_rate': 0.0002675514298678237, 'dropout_rate': 0.3777041149400706}. Best is trial 27 with value: 0.22244389027431422.\n"
     ]
    },
    {
     "name": "stdout",
     "output_type": "stream",
     "text": [
      "Najlepsze hiperparametry:  {'batch_size': 64, 'learning_rate': 0.00013029088866961782, 'dropout_rate': 0.24633944751904124}\n",
      "Najlepszy wynik:  0.7775561097256858\n"
     ]
    }
   ],
   "source": [
    "torch.cuda.empty_cache()\n",
    "class CNN(nn.Module):\n",
    "    def __init__(self, dropout_rate):\n",
    "        super(CNN, self).__init__()\n",
    "        self.conv1 = nn.Conv2d(3, 32, kernel_size=3, stride=1, bias=False)\n",
    "        self.bn1 = nn.BatchNorm2d(32)\n",
    "        self.conv2 = nn.Conv2d(32, 64, kernel_size=3, stride=1, padding=1, bias=False)\n",
    "        self.bn2 = nn.BatchNorm2d(64)\n",
    "        self.conv3 = nn.Conv2d(64, 128, kernel_size=2, stride=1, padding=1, bias=False)\n",
    "        self.bn3 = nn.BatchNorm2d(128)\n",
    "        self.pool = nn.MaxPool2d(kernel_size=2)\n",
    "        self.relu = nn.ReLU()\n",
    "        self.dropout = nn.Dropout(dropout_rate)\n",
    "\n",
    "        self.flattened_size = self.get_flattened_size((3, 64, 64))\n",
    "        self.fc1 = nn.Linear(self.flattened_size, 64)\n",
    "        self.fc2 = nn.Linear(64, 7)\n",
    "\n",
    "    def get_flattened_size(self, input_shape):\n",
    "        x = torch.zeros(1, *input_shape)\n",
    "        x = self.pool(self.relu(self.conv1(x)))\n",
    "        x = self.pool(self.relu(self.conv2(x)))\n",
    "        x = self.pool(self.relu(self.conv3(x)))\n",
    "        return x.view(1, -1).size(1)\n",
    "\n",
    "    def forward(self, x):\n",
    "        x = self.relu(self.bn1(self.conv1(x)))\n",
    "        x = self.pool(x)\n",
    "        x = self.relu(self.bn2(self.conv2(x)))\n",
    "        x = self.pool(x)\n",
    "        x = self.relu(self.bn3(self.conv3(x)))\n",
    "        x = self.pool(x)\n",
    "        x = x.view(x.size(0), -1)\n",
    "        x = self.relu(self.fc1(x))\n",
    "        x = self.fc2(x)\n",
    "        return x\n",
    "\n",
    "# Funkcja celu dla Optuny\n",
    "def objective(trial):\n",
    "    # Hiperparametry do tuningu\n",
    "    batch_size = trial.suggest_categorical(\"batch_size\", [32, 64, 128, 256])\n",
    "    learning_rate = trial.suggest_loguniform(\"learning_rate\", 1e-4, 1e-2)\n",
    "    dropout_rate = trial.suggest_uniform(\"dropout_rate\", 0.2, 0.5)\n",
    "\n",
    "    # Dane\n",
    "    transform = transforms.Compose([\n",
    "        transforms.ToTensor(),\n",
    "        transforms.Normalize((0.5,), (0.5,))\n",
    "    ])\n",
    "    train_dataset = DermaMNIST(root='./data', split=\"train\", download=True, transform=transform, size=64)\n",
    "    test_dataset = DermaMNIST(root='./data', split=\"test\", download=True, transform=transform, size=64)\n",
    "    train_loader = DataLoader(train_dataset, batch_size=batch_size, shuffle=True)\n",
    "    test_loader = DataLoader(test_dataset, batch_size=batch_size, shuffle=False)\n",
    "\n",
    "    # Model\n",
    "    model = CNN(dropout_rate).to(device)\n",
    "    criterion = nn.CrossEntropyLoss()\n",
    "    optimizer = optim.AdamW(model.parameters(), lr=learning_rate)\n",
    "\n",
    "    # Trening\n",
    "    for epoch in range(10):  # Mała liczba epok do szybkiego tuningu\n",
    "        model.train()\n",
    "        for data, target in train_loader:\n",
    "            data, target = data.to(device), target.to(device)\n",
    "            target = target.long()  # Ensure target is of type torch.long\n",
    "            if len(target.size()) > 1:\n",
    "                target = target.squeeze()  # Remove extra dimensions\n",
    "            optimizer.zero_grad()\n",
    "            outputs = model(data)\n",
    "            loss = criterion(outputs, target)\n",
    "            loss.backward()\n",
    "            optimizer.step()\n",
    "\n",
    "    # Ewaluacja\n",
    "    model.eval()\n",
    "    correct = 0\n",
    "    total = 0\n",
    "    with torch.no_grad():\n",
    "        for data, target in test_loader:\n",
    "            data, target = data.to(device), target.to(device)\n",
    "            target = target.long()  # Ensure target is of type torch.long\n",
    "            if len(target.size()) > 1:\n",
    "                target = target.squeeze()  # Remove extra dimensions\n",
    "            outputs = model(data)\n",
    "            _, predicted = torch.max(outputs, 1)\n",
    "            correct += (predicted == target).sum().item()\n",
    "            total += target.size(0)\n",
    "\n",
    "    accuracy = correct / total\n",
    "    return 1 - accuracy  # Minimalizujemy 1 - accuracy\n",
    "\n",
    "# Główna funkcja\n",
    "if __name__ == \"__main__\":\n",
    "    device = torch.device('cuda' if torch.cuda.is_available() else 'cpu')\n",
    "    study = optuna.create_study(direction=\"minimize\")  # Minimalizacja (1 - accuracy)\n",
    "    study.optimize(objective, n_trials=50)\n",
    "\n",
    "    # Najlepsze hiperparametry\n",
    "    print(\"Najlepsze hiperparametry: \", study.best_params)\n",
    "    print(\"Najlepszy wynik: \", 1 - study.best_value)"
   ]
  }
 ],
 "metadata": {
  "kernelspec": {
   "display_name": "Python 3 (ipykernel)",
   "language": "python",
   "name": "python3"
  },
  "language_info": {
   "codemirror_mode": {
    "name": "ipython",
    "version": 3
   },
   "file_extension": ".py",
   "mimetype": "text/x-python",
   "name": "python",
   "nbconvert_exporter": "python",
   "pygments_lexer": "ipython3",
   "version": "3.12.8"
  }
 },
 "nbformat": 4,
 "nbformat_minor": 5
}
